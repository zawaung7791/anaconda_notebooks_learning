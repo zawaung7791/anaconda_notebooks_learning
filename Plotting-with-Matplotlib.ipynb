{
 "cells": [
  {
   "cell_type": "markdown",
   "id": "0d9ef599",
   "metadata": {
    "id": "0d9ef599"
   },
   "source": [
    "<h1>Basic Plotting with Matplotlib</h1>\n",
    "\n",
    "<p class=\"lead\"> \n",
    "Table of Contents: \n",
    "\n",
    "- <a href=\"#Get-started-with-a-simple-plot\">Get started with a simple plot</a>\n",
    "- <a href=\"#Basic-Matplotlib-syntax\">Basic Matplotlib syntax</a>\n",
    "    \n",
    "</p>\n"
   ]
  },
  {
   "cell_type": "markdown",
   "id": "8ba81f16",
   "metadata": {
    "id": "8ba81f16"
   },
   "source": [
    "<div>\n",
    "<h2 class=\"breadcrumb\">Get started with a simple plot</h2><p>\n",
    "</div>"
   ]
  },
  {
   "cell_type": "code",
   "execution_count": null,
   "id": "9036a2bb",
   "metadata": {
    "id": "9036a2bb"
   },
   "outputs": [],
   "source": [
    "import matplotlib.pyplot as plt"
   ]
  },
  {
   "cell_type": "code",
   "execution_count": null,
   "id": "cea0536b",
   "metadata": {
    "id": "cea0536b",
    "outputId": "4d44f6db-3012-4410-9ad4-505f355e44ff"
   },
   "outputs": [],
   "source": [
    "fig, ax = plt.subplots(figsize=(14,5))  # Create a figure containing a single axes.\n",
    "ax.plot([1, 2, 3, 4], [1, 4, 2, 3]);  # Plot some data on the axes."
   ]
  },
  {
   "cell_type": "markdown",
   "id": "7eddbf8f",
   "metadata": {
    "id": "7eddbf8f"
   },
   "source": [
    "<div>\n",
    "<h2 class=\"breadcrumb\">Basic Matplotlib syntax</h2>\n",
    "</div>\n",
    "\n",
    "Matplotlib has two coding styles:\n",
    "    \n",
    "- The \"object-orient (OO) style\" where we explicilty create Figures and Axes and call methods on them.\n",
    "- The pyplot MATLAB-like style where we reply on pyplot to automatically create and manage the Figures and Axes.\n",
    "\n",
    "We will focus on the OO-style.\n"
   ]
  },
  {
   "cell_type": "markdown",
   "id": "27f41668",
   "metadata": {
    "id": "27f41668"
   },
   "source": [
    "`plt.figure()` returns an empty figure. "
   ]
  },
  {
   "cell_type": "code",
   "execution_count": null,
   "id": "d97b6844",
   "metadata": {
    "id": "d97b6844",
    "outputId": "5f9f80bb-d53b-41e8-fdfe-5d681f5a1910"
   },
   "outputs": [],
   "source": [
    "fig = plt.figure(figsize=(14,5));"
   ]
  },
  {
   "cell_type": "markdown",
   "id": "4a8cc574",
   "metadata": {
    "id": "4a8cc574"
   },
   "source": [
    "The simplest way of creating a Figure with an Axes is using `plt.subplots`."
   ]
  },
  {
   "cell_type": "code",
   "execution_count": null,
   "id": "9fe350f8",
   "metadata": {
    "id": "9fe350f8",
    "outputId": "16fab98f-678e-424f-ca7e-7a9e23346ba7"
   },
   "outputs": [],
   "source": [
    "fig, ax = plt.subplots(figsize=(14,5))  # Create a figure containing a single axes."
   ]
  },
  {
   "cell_type": "markdown",
   "id": "c494945b",
   "metadata": {
    "id": "c494945b"
   },
   "source": [
    "### Add plot data:\n",
    "\n"
   ]
  },
  {
   "cell_type": "markdown",
   "id": "43cb2ddd",
   "metadata": {
    "id": "43cb2ddd"
   },
   "source": [
    "<div class=\"alert alert-success\">\n",
    "<h4>Tips</h4>\n",
    "\n",
    "To understand how ax.plot works, try `ax.plot?`"
   ]
  },
  {
   "cell_type": "code",
   "execution_count": null,
   "id": "9c140404",
   "metadata": {
    "id": "9c140404"
   },
   "outputs": [],
   "source": [
    "ax.plot?"
   ]
  },
  {
   "cell_type": "markdown",
   "id": "d58f81dc",
   "metadata": {
    "id": "d58f81dc"
   },
   "source": [
    "- Use x as index array 0...N-1"
   ]
  },
  {
   "cell_type": "code",
   "execution_count": null,
   "id": "a557b4de",
   "metadata": {
    "id": "a557b4de",
    "outputId": "303b2e30-2926-45b3-9e5e-0b72db1cc1f8"
   },
   "outputs": [],
   "source": [
    "fig, ax = plt.subplots(figsize=(14,5))  # Create a figure containing a single axes.\n",
    "ax.plot([1, 4, 2, 3]);  # Plot some data on the axes."
   ]
  },
  {
   "cell_type": "markdown",
   "id": "96487e08",
   "metadata": {
    "id": "96487e08"
   },
   "source": [
    "- plot x=[1,2,3,4] y=[1,4,2,3]"
   ]
  },
  {
   "cell_type": "code",
   "execution_count": null,
   "id": "29d83cc8",
   "metadata": {
    "id": "29d83cc8",
    "outputId": "c7efc93a-a0d2-4951-cdd4-1b3dfff0c701"
   },
   "outputs": [],
   "source": [
    "fig, ax = plt.subplots(figsize=(14,5))  # Create a figure containing a single axes.\n",
    "ax.plot([1, 2, 3, 4], [1, 4, 2, 3]);  # Plot some data on the axes."
   ]
  },
  {
   "cell_type": "markdown",
   "id": "f20203f6",
   "metadata": {
    "id": "f20203f6"
   },
   "source": [
    "<div class=\"alert alert-success\">\n",
    "<h4>Tips</h4>\n",
    "\n",
    "To see a list of methods, try typing `ax.` then pressing the <TAB> key.\n"
   ]
  },
  {
   "cell_type": "code",
   "execution_count": null,
   "id": "a3a6cdb5-bbfb-4d7d-b056-6712509888db",
   "metadata": {},
   "outputs": [],
   "source": []
  },
  {
   "cell_type": "code",
   "execution_count": null,
   "id": "01f37d24",
   "metadata": {
    "id": "01f37d24",
    "outputId": "7b8a017e-f5b9-4eed-8a28-b167a00ac0fe"
   },
   "outputs": [],
   "source": [
    "fig, ax = plt.subplots(figsize=(14,5))  # Create a figure containing a single axes.\n",
    "ax.scatter([1, 2, 3, 4], [1, 4, 2, 3]);  # Plot some data on the axes.\n"
   ]
  },
  {
   "cell_type": "code",
   "execution_count": null,
   "id": "553bb733",
   "metadata": {
    "id": "553bb733",
    "outputId": "8f7aa86f-b4bc-498c-cc6b-533a7095db68"
   },
   "outputs": [],
   "source": [
    "fig, ax = plt.subplots(figsize=(14,5))  # Create a figure containing a single axes.\n",
    "ax.bar([1, 2, 3, 4], [1, 4, 2, 3]);  # Plot some data on the axes.\n"
   ]
  },
  {
   "cell_type": "markdown",
   "id": "cb1ae909",
   "metadata": {
    "id": "cb1ae909"
   },
   "source": [
    "### Add an x-label:"
   ]
  },
  {
   "cell_type": "code",
   "execution_count": null,
   "id": "6507f9bc",
   "metadata": {
    "id": "6507f9bc",
    "outputId": "5b9c2fe2-e42f-4da1-9670-009c54fa7af2"
   },
   "outputs": [],
   "source": [
    "fig, ax = plt.subplots(figsize=(14,5))  # Create a figure containing a single axes.\n",
    "ax.plot([1, 2, 3, 4], [1, 4, 2, 3]);  # Plot some data on the axes.\n",
    "ax.set_xlabel('x'); # Add an x-label to the axes.\n"
   ]
  },
  {
   "cell_type": "markdown",
   "id": "ab1fc5ae",
   "metadata": {
    "id": "ab1fc5ae"
   },
   "source": [
    "### Add a y-label:"
   ]
  },
  {
   "cell_type": "code",
   "execution_count": null,
   "id": "ba92f9a0",
   "metadata": {
    "id": "ba92f9a0",
    "outputId": "8461a4e5-12fa-45fb-d45d-4cdb2e47db47"
   },
   "outputs": [],
   "source": [
    "fig, ax = plt.subplots(figsize=(14,5))  # Create a figure containing a single axes.\n",
    "ax.plot([1, 2, 3, 4], [1, 4, 2, 3]);  # Plot some data on the axes.\n",
    "ax.set_xlabel('x'); # Add an x-label to the axes.\n",
    "ax.set_ylabel('y'); # Add a y-label to the axes."
   ]
  },
  {
   "cell_type": "markdown",
   "id": "386a901e",
   "metadata": {
    "id": "386a901e"
   },
   "source": [
    "### Add a title:"
   ]
  },
  {
   "cell_type": "code",
   "execution_count": null,
   "id": "d0a15528",
   "metadata": {
    "id": "d0a15528",
    "outputId": "966f3b45-745b-4060-8453-abed16ca9526"
   },
   "outputs": [],
   "source": [
    "fig, ax = plt.subplots(figsize=(14,5))  # Create a figure containing a single axes.\n",
    "ax.plot([1, 2, 3, 4], [1, 4, 2, 3]);  # Plot some data on the axes.\n",
    "ax.set_xlabel('x'); # Add an x-label to the axes.\n",
    "ax.set_ylabel('y'); # Add a y-label to the axes.\n",
    "ax.set_title('Simple Plot'); # Add a title to the axes."
   ]
  },
  {
   "cell_type": "markdown",
   "id": "aae40cd3",
   "metadata": {
    "id": "aae40cd3"
   },
   "source": [
    "### Add styling"
   ]
  },
  {
   "cell_type": "code",
   "execution_count": null,
   "id": "ceccd929",
   "metadata": {
    "id": "ceccd929",
    "outputId": "86029439-c854-4153-c418-a90a4b238fae"
   },
   "outputs": [],
   "source": [
    "fig, ax = plt.subplots(figsize=(14,5))  # Create a figure containing a single axes.\n",
    "ax.plot([1, 2, 3, 4], [1, 4, 2, 3], color='pink', marker='+', linestyle='dashed', markersize=12, linewidth=3);  # Plot some data on the axes.\n",
    "ax.plot([1, 2, 3, 4], [2, 1, 3, 1], color='green', marker='+', linestyle='solid', markersize=12, linewidth=3);  # Plot some data on the axes.\n",
    "ax.set_xlabel('x'); # Add an x-label to the axes.\n",
    "ax.set_ylabel('y'); # Add a y-label to the axes.\n",
    "ax.set_title('Simple Plot'); # Add a title to the axes."
   ]
  },
  {
   "cell_type": "markdown",
   "id": "d93b0cca",
   "metadata": {
    "id": "d93b0cca"
   },
   "source": [
    "<div class=\"alert alert-info\">\n",
    "<h4>Exercise</h4>\n",
    "\n",
    "Add another line to the plot above and style your plot.  \n",
    "\n",
    "<details><summary><i><u>(Hint)</u><i></summary><br>\n",
    "    \n",
    "- Add another `ax.plot()` line\n",
    "- Change the data \n",
    "    \n",
    "    \n",
    "<details><summary><i><u>(Solution)</u><i></summary><br>\n",
    "    \n",
    "```python\n",
    "fig, ax = plt.subplots()  # Create a figure containing a single axes.\n",
    "ax.plot([1, 2, 3, 4], [1, 4, 2, 3], color='pink', marker='+', linestyle='dashed', markersize=12, linewidth=3);  \n",
    "ax.plot([1, 2, 3, 4], [3, 4, 6, 1], color='red', marker='o', linestyle='dashed', markersize=12, linewidth=3); \n",
    "ax.set_xlabel('x'); # Add an x-label to the axes.\n",
    "ax.set_ylabel('y'); # Add a y-label to the axes.\n",
    "ax.set_title('Simple Plot'); # Add a title to the axes.\n",
    "```\n",
    "\n",
    "</details>\n",
    "\n",
    "</details>\n",
    "</div>"
   ]
  },
  {
   "cell_type": "markdown",
   "id": "bf9dd5f9",
   "metadata": {
    "id": "bf9dd5f9"
   },
   "source": [
    "<div class=\"alert alert-info\">\n",
    "<h4>Exercise</h4>\n",
    "\n",
    "Add labels and legends representing two lines in your plot.\n",
    "    \n",
    "<details><summary><i><u>(Hint)</u><i></summary><br>\n",
    "    \n",
    "- Use label='xxx' in ax.plot()\n",
    "- Add ax.legend()\n",
    "    \n",
    "<details><summary><i><u>(Solution)</u><i></summary><br>\n",
    "    \n",
    "```python\n",
    "fig, ax = plt.subplots()  # Create a figure containing a single axes.\n",
    "ax.plot([1, 2, 3, 4], [1, 4, 2, 3], label='data 1', color='pink', marker='+', linestyle='dashed', markersize=12, linewidth=3);  \n",
    "ax.plot([1, 2, 3, 4], [3, 4, 6, 1], label='data 2', color='red', marker='o', linestyle='dashed', markersize=12, linewidth=3); \n",
    "ax.set_xlabel('x'); # Add an x-label to the axes.\n",
    "ax.set_ylabel('y'); # Add a y-label to the axes.\n",
    "ax.set_title('Simple Plot'); # Add a title to the axes.\n",
    "ax.legend(); # Add a legend\n",
    "```\n",
    "\n",
    "</details>\n",
    "\n",
    "</details>\n",
    "    \n",
    "</div>"
   ]
  }
 ],
 "metadata": {
  "colab": {
   "name": "01-read-a-plot.ipynb",
   "provenance": []
  },
  "kernelspec": {
   "display_name": "anaconda-2022.05-py39",
   "language": "python",
   "name": "conda-env-anaconda-2022.05-py39-py"
  },
  "language_info": {
   "codemirror_mode": {
    "name": "ipython",
    "version": 3
   },
   "file_extension": ".py",
   "mimetype": "text/x-python",
   "name": "python",
   "nbconvert_exporter": "python",
   "pygments_lexer": "ipython3",
   "version": "3.9.12"
  }
 },
 "nbformat": 4,
 "nbformat_minor": 5
}
