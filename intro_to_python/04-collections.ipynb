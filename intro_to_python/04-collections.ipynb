{
 "cells": [
  {
   "cell_type": "markdown",
   "id": "e51d407f",
   "metadata": {},
   "source": [
    "# Collections"
   ]
  },
  {
   "cell_type": "markdown",
   "id": "fd78eb06",
   "metadata": {},
   "source": [
    "### Lists"
   ]
  },
  {
   "cell_type": "code",
   "execution_count": null,
   "id": "be9a9db8",
   "metadata": {},
   "outputs": [],
   "source": [
    "snake_1 = \"anaconda\"\n",
    "snake_2 = \"cobra\"\n",
    "snake_3 = \"mamba\""
   ]
  },
  {
   "cell_type": "code",
   "execution_count": null,
   "id": "7cacc05c",
   "metadata": {},
   "outputs": [],
   "source": [
    "snake_1 + snake_2 + snake_3"
   ]
  },
  {
   "cell_type": "code",
   "execution_count": null,
   "id": "fe759e0a",
   "metadata": {},
   "outputs": [],
   "source": [
    "snakes = [snake_1, snake_2, snake_3]"
   ]
  },
  {
   "cell_type": "code",
   "execution_count": null,
   "id": "a650f959",
   "metadata": {},
   "outputs": [],
   "source": [
    "snakes"
   ]
  },
  {
   "cell_type": "code",
   "execution_count": null,
   "id": "63572979",
   "metadata": {},
   "outputs": [],
   "source": [
    "numbers = [1, 2, 3, 4]"
   ]
  },
  {
   "cell_type": "code",
   "execution_count": null,
   "id": "b5568332",
   "metadata": {},
   "outputs": [],
   "source": [
    "type(numbers)"
   ]
  },
  {
   "cell_type": "markdown",
   "id": "968ff310",
   "metadata": {},
   "source": [
    "### Indexing"
   ]
  },
  {
   "cell_type": "code",
   "execution_count": null,
   "id": "bea3c8ad",
   "metadata": {},
   "outputs": [],
   "source": [
    "snake_3 = snakes[2]"
   ]
  },
  {
   "cell_type": "code",
   "execution_count": null,
   "id": "7bb897c3",
   "metadata": {},
   "outputs": [],
   "source": [
    "snake_3"
   ]
  },
  {
   "cell_type": "code",
   "execution_count": null,
   "id": "eb8089ed",
   "metadata": {},
   "outputs": [],
   "source": [
    "snakes[0]"
   ]
  },
  {
   "cell_type": "code",
   "execution_count": null,
   "id": "b55ab873",
   "metadata": {},
   "outputs": [],
   "source": [
    "snakes"
   ]
  },
  {
   "cell_type": "code",
   "execution_count": null,
   "id": "86087853",
   "metadata": {},
   "outputs": [],
   "source": [
    "snakes[-3]"
   ]
  },
  {
   "cell_type": "code",
   "execution_count": null,
   "id": "a51db30b",
   "metadata": {},
   "outputs": [],
   "source": [
    "%%script false --no-raise-error\n",
    "\n",
    "snakes[10]"
   ]
  },
  {
   "cell_type": "code",
   "execution_count": null,
   "id": "5842c873",
   "metadata": {},
   "outputs": [],
   "source": [
    "snakes + [\"sidewinder\"]"
   ]
  },
  {
   "cell_type": "code",
   "execution_count": null,
   "id": "7bbbd95c",
   "metadata": {},
   "outputs": [],
   "source": [
    "snakes"
   ]
  },
  {
   "cell_type": "code",
   "execution_count": null,
   "id": "4cab94e3",
   "metadata": {},
   "outputs": [],
   "source": [
    "snakes = snakes + [\"sidewinder\"]"
   ]
  },
  {
   "cell_type": "markdown",
   "id": "d8c6b9f3",
   "metadata": {},
   "source": [
    "### Slicing"
   ]
  },
  {
   "cell_type": "code",
   "execution_count": null,
   "id": "fa5969c3",
   "metadata": {},
   "outputs": [],
   "source": [
    "snakes"
   ]
  },
  {
   "cell_type": "code",
   "execution_count": null,
   "id": "b004355f",
   "metadata": {},
   "outputs": [],
   "source": [
    "snakes[1:-1]"
   ]
  },
  {
   "cell_type": "markdown",
   "id": "feef1d75",
   "metadata": {},
   "source": [
    "### Challenge\n",
    "\n",
    "<div class='alert alert-info'>\n",
    "  🎒 Think up and implement a \"realistic\" use case for a python list\n",
    "</div>\n"
   ]
  },
  {
   "cell_type": "markdown",
   "id": "e6e40cc8",
   "metadata": {},
   "source": [
    "### Example"
   ]
  },
  {
   "cell_type": "code",
   "execution_count": null,
   "id": "948f7bef",
   "metadata": {},
   "outputs": [],
   "source": [
    "list_of_songs = [\n",
    "    \"never_gonna_give_you_up.mp3\",\n",
    "    \"stacys_mom.mp3\",\n",
    "    \"eye_of_the_tiger.mp3\",\n",
    "    \"teenage_dirtbag.mp3\",\n",
    "    \"99_red_baloons.flac\",\n",
    "    \"all_star_smash_mouth.mp3\"\n",
    "]"
   ]
  },
  {
   "cell_type": "markdown",
   "id": "e2c28874",
   "metadata": {},
   "source": [
    "### Referencing"
   ]
  },
  {
   "cell_type": "code",
   "execution_count": null,
   "id": "ceb6e745",
   "metadata": {},
   "outputs": [],
   "source": [
    "one_hit_wonders = list_of_songs"
   ]
  },
  {
   "cell_type": "code",
   "execution_count": null,
   "id": "c390d6eb",
   "metadata": {},
   "outputs": [],
   "source": [
    "one_hit_wonders"
   ]
  },
  {
   "cell_type": "code",
   "execution_count": null,
   "id": "b9d36f9f",
   "metadata": {},
   "outputs": [],
   "source": [
    "list_of_songs"
   ]
  },
  {
   "cell_type": "code",
   "execution_count": null,
   "id": "0b602051",
   "metadata": {},
   "outputs": [],
   "source": [
    "list_of_songs[1] = \"alis_mom.mp3\""
   ]
  },
  {
   "cell_type": "code",
   "execution_count": null,
   "id": "11ac98b2",
   "metadata": {},
   "outputs": [],
   "source": [
    "list_of_songs"
   ]
  },
  {
   "cell_type": "code",
   "execution_count": null,
   "id": "a6b070bf",
   "metadata": {},
   "outputs": [],
   "source": [
    "one_hit_wonders"
   ]
  },
  {
   "cell_type": "code",
   "execution_count": null,
   "id": "d9869ffd",
   "metadata": {},
   "outputs": [],
   "source": [
    "list_of_songs = [\n",
    "    \"never_gonna_give_you_up.mp3\",\n",
    "    \"stacys_mom.mp3\",\n",
    "    \"eye_of_the_tiger.mp3\",\n",
    "    \"teenage_dirtbag.mp3\",\n",
    "    \"99_red_baloons.flac\",\n",
    "    \"all_star_smash_mouth.mp3\"\n",
    "]"
   ]
  },
  {
   "cell_type": "code",
   "execution_count": null,
   "id": "c9e4ba98",
   "metadata": {},
   "outputs": [],
   "source": [
    "one_hit_wonders = list_of_songs.copy()"
   ]
  },
  {
   "cell_type": "code",
   "execution_count": null,
   "id": "8107c319",
   "metadata": {},
   "outputs": [],
   "source": [
    "one_hit_wonders = one_hit_wonders + [\"ice_ice_baby.mp3\"]"
   ]
  },
  {
   "cell_type": "code",
   "execution_count": null,
   "id": "588adbfb",
   "metadata": {},
   "outputs": [],
   "source": [
    "one_hit_wonders"
   ]
  },
  {
   "cell_type": "code",
   "execution_count": null,
   "id": "6ec5bbfe",
   "metadata": {},
   "outputs": [],
   "source": [
    "list_of_songs"
   ]
  },
  {
   "cell_type": "markdown",
   "id": "40082b71",
   "metadata": {},
   "source": [
    "### Methods"
   ]
  },
  {
   "cell_type": "code",
   "execution_count": null,
   "id": "f86a86fc",
   "metadata": {},
   "outputs": [],
   "source": [
    "dir(list_of_songs)"
   ]
  },
  {
   "cell_type": "code",
   "execution_count": null,
   "id": "ca16ef44",
   "metadata": {},
   "outputs": [],
   "source": [
    "list_of_songs.append(\"stranger_things_theme.mp3\")"
   ]
  },
  {
   "cell_type": "code",
   "execution_count": null,
   "id": "e7bdb28d",
   "metadata": {},
   "outputs": [],
   "source": [
    "garbage = list_of_songs + [1] + [[\"hey\"]]"
   ]
  },
  {
   "cell_type": "code",
   "execution_count": null,
   "id": "b3872619",
   "metadata": {},
   "outputs": [],
   "source": [
    "list_of_songs"
   ]
  },
  {
   "cell_type": "code",
   "execution_count": null,
   "id": "b89fd0a2",
   "metadata": {},
   "outputs": [],
   "source": [
    "list_of_songs.append([\"got_theme_song.mp3\", \"west_world_theme.mp3\"])"
   ]
  },
  {
   "cell_type": "code",
   "execution_count": null,
   "id": "a8131bb5",
   "metadata": {},
   "outputs": [],
   "source": [
    "list_of_songs"
   ]
  },
  {
   "cell_type": "code",
   "execution_count": null,
   "id": "3fd96a7d",
   "metadata": {},
   "outputs": [],
   "source": [
    "del list_of_songs[-1]"
   ]
  },
  {
   "cell_type": "markdown",
   "id": "e6580729",
   "metadata": {},
   "source": [
    "### Extend"
   ]
  },
  {
   "cell_type": "code",
   "execution_count": null,
   "id": "48843d2f",
   "metadata": {},
   "outputs": [],
   "source": [
    "list_of_songs"
   ]
  },
  {
   "cell_type": "code",
   "execution_count": null,
   "id": "7b96df56",
   "metadata": {},
   "outputs": [],
   "source": [
    "list_of_songs.extend([\"got_theme_song.mp3\", \"west_world_theme.mp3\"])"
   ]
  },
  {
   "cell_type": "code",
   "execution_count": null,
   "id": "d6dbeb0a",
   "metadata": {},
   "outputs": [],
   "source": [
    "list_of_songs"
   ]
  },
  {
   "cell_type": "markdown",
   "id": "b2d54ea4",
   "metadata": {},
   "source": [
    "### More Methods"
   ]
  },
  {
   "cell_type": "code",
   "execution_count": null,
   "id": "b587d7d1",
   "metadata": {},
   "outputs": [],
   "source": [
    "numbers = [1, 9, 3, -1, 5, 5, 5]"
   ]
  },
  {
   "cell_type": "code",
   "execution_count": null,
   "id": "ea55261a",
   "metadata": {},
   "outputs": [],
   "source": [
    "dir(numbers)[36:]"
   ]
  },
  {
   "cell_type": "code",
   "execution_count": null,
   "id": "084a3b65",
   "metadata": {},
   "outputs": [],
   "source": [
    "numbers.sort()"
   ]
  },
  {
   "cell_type": "code",
   "execution_count": null,
   "id": "b48e750e",
   "metadata": {},
   "outputs": [],
   "source": [
    "numbers"
   ]
  },
  {
   "cell_type": "code",
   "execution_count": null,
   "id": "cd42b65a",
   "metadata": {},
   "outputs": [],
   "source": [
    "numbers.count(5)"
   ]
  },
  {
   "cell_type": "code",
   "execution_count": null,
   "id": "2ce902ab",
   "metadata": {},
   "outputs": [],
   "source": [
    "numbers.pop()"
   ]
  },
  {
   "cell_type": "code",
   "execution_count": null,
   "id": "084eb830",
   "metadata": {},
   "outputs": [],
   "source": [
    "numbers"
   ]
  },
  {
   "cell_type": "code",
   "execution_count": null,
   "id": "2f7f03f0",
   "metadata": {},
   "outputs": [],
   "source": [
    "last = numbers.pop()"
   ]
  },
  {
   "cell_type": "code",
   "execution_count": null,
   "id": "f1b57eb4",
   "metadata": {},
   "outputs": [],
   "source": [
    "last"
   ]
  },
  {
   "cell_type": "code",
   "execution_count": null,
   "id": "a04dd5fd",
   "metadata": {},
   "outputs": [],
   "source": [
    "numbers"
   ]
  },
  {
   "cell_type": "markdown",
   "id": "56e3ae00",
   "metadata": {},
   "source": [
    "### Dictionaries"
   ]
  },
  {
   "cell_type": "code",
   "execution_count": null,
   "id": "94376678",
   "metadata": {},
   "outputs": [],
   "source": [
    "vocab = {\n",
    "    # key: value\n",
    "    \"ni\": \"you\", \n",
    "    \"hao\": \"good\", \n",
    "    \"ni hao\": \"hello\"\n",
    "}"
   ]
  },
  {
   "cell_type": "code",
   "execution_count": null,
   "id": "0436f47a",
   "metadata": {},
   "outputs": [],
   "source": [
    "vocab[\"ni\"] + vocab[\"hao\"]"
   ]
  },
  {
   "cell_type": "code",
   "execution_count": null,
   "id": "3c371761",
   "metadata": {},
   "outputs": [],
   "source": [
    "vocab[\"ni hao\"]"
   ]
  },
  {
   "cell_type": "code",
   "execution_count": null,
   "id": "60c62748",
   "metadata": {},
   "outputs": [],
   "source": [
    "%%script false --no-raise-error\n",
    "\n",
    "vocab[\"zhongwen\"]"
   ]
  },
  {
   "cell_type": "code",
   "execution_count": null,
   "id": "68982386",
   "metadata": {},
   "outputs": [],
   "source": [
    "vocab[\"zhongwen\"] = \"Chinese language\""
   ]
  },
  {
   "cell_type": "code",
   "execution_count": null,
   "id": "9e67ddb5",
   "metadata": {},
   "outputs": [],
   "source": [
    "vocab[\"zhongwen\"]"
   ]
  },
  {
   "cell_type": "markdown",
   "id": "8417e435",
   "metadata": {},
   "source": [
    "### Methods"
   ]
  },
  {
   "cell_type": "code",
   "execution_count": null,
   "id": "80e48e7b",
   "metadata": {},
   "outputs": [],
   "source": [
    "vocab"
   ]
  },
  {
   "cell_type": "code",
   "execution_count": null,
   "id": "c7631a40",
   "metadata": {},
   "outputs": [],
   "source": [
    "dir(vocab)[34:]"
   ]
  },
  {
   "cell_type": "code",
   "execution_count": null,
   "id": "bf583fbb",
   "metadata": {},
   "outputs": [],
   "source": [
    "list(vocab.keys())"
   ]
  },
  {
   "cell_type": "code",
   "execution_count": null,
   "id": "299940c6",
   "metadata": {},
   "outputs": [],
   "source": [
    "list(vocab.values())"
   ]
  },
  {
   "cell_type": "code",
   "execution_count": null,
   "id": "dc5d02d0",
   "metadata": {},
   "outputs": [],
   "source": [
    "list(vocab.items())"
   ]
  },
  {
   "cell_type": "markdown",
   "id": "d90d2659",
   "metadata": {},
   "source": [
    "### Get"
   ]
  },
  {
   "cell_type": "code",
   "execution_count": null,
   "id": "e8018ffa",
   "metadata": {},
   "outputs": [],
   "source": [
    "%%script false --no-raise-error\n",
    "\n",
    "vocab[\"wo\"]"
   ]
  },
  {
   "cell_type": "code",
   "execution_count": null,
   "id": "eab0478b",
   "metadata": {},
   "outputs": [],
   "source": [
    "vocab.get(\"wo\")"
   ]
  },
  {
   "cell_type": "code",
   "execution_count": null,
   "id": "f0c71ccf",
   "metadata": {},
   "outputs": [],
   "source": [
    "vocab.get(\"ni\")"
   ]
  },
  {
   "cell_type": "code",
   "execution_count": null,
   "id": "ada07d50",
   "metadata": {},
   "outputs": [],
   "source": [
    "vocab.get(\"wo\", \"Not yet known\")"
   ]
  },
  {
   "cell_type": "markdown",
   "id": "65b2f731",
   "metadata": {},
   "source": [
    "### Sets"
   ]
  },
  {
   "cell_type": "code",
   "execution_count": null,
   "id": "14adf780",
   "metadata": {},
   "outputs": [],
   "source": [
    "wonders = [\"never_gunna_give_you_up\", \"ice_ice_baby\", \"99_red_balloons\"]\n",
    "songs = [\"never_gunna_give_you_up\", \"ice_ice_baby\", \"99_red_balloons\", \"stranger_things_theme_song\"]"
   ]
  },
  {
   "cell_type": "code",
   "execution_count": null,
   "id": "ada0ee90",
   "metadata": {},
   "outputs": [],
   "source": [
    "set(songs) - set(wonders) "
   ]
  },
  {
   "cell_type": "code",
   "execution_count": null,
   "id": "d8eb09a2",
   "metadata": {},
   "outputs": [],
   "source": [
    "dir(set(songs))"
   ]
  },
  {
   "cell_type": "markdown",
   "id": "c111629a",
   "metadata": {},
   "source": [
    "### Tuples"
   ]
  },
  {
   "cell_type": "code",
   "execution_count": null,
   "id": "826a03ea",
   "metadata": {},
   "outputs": [],
   "source": [
    "my_tuple = (100, 0)"
   ]
  },
  {
   "cell_type": "code",
   "execution_count": null,
   "id": "f0c7946e",
   "metadata": {},
   "outputs": [],
   "source": [
    "%%script false --no-raise-error\n",
    "\n",
    "my_tuple[0] = 200"
   ]
  },
  {
   "cell_type": "code",
   "execution_count": null,
   "id": "8d8a803c",
   "metadata": {},
   "outputs": [],
   "source": [
    "colour = (255, 0, 20)"
   ]
  },
  {
   "cell_type": "code",
   "execution_count": null,
   "id": "31788183",
   "metadata": {},
   "outputs": [],
   "source": [
    "red, green, blue = colour"
   ]
  },
  {
   "cell_type": "code",
   "execution_count": null,
   "id": "c6b07a4c",
   "metadata": {},
   "outputs": [],
   "source": [
    "blue"
   ]
  },
  {
   "cell_type": "markdown",
   "id": "d48ac797",
   "metadata": {},
   "source": [
    "### Homework\n",
    "\n",
    "<div class='alert alert-info'>\n",
    "  🎒 Create a list of 5 sports teams and then use .append, and .extend, to ultimately update the list to 8 teams. Afterwards, create a separate dictionary with 3 cities (as keys), and the corresponding list of sports teams (as values). Try indexing out specific values.\n",
    "</div>"
   ]
  },
  {
   "cell_type": "code",
   "execution_count": null,
   "id": "3e06b3e0",
   "metadata": {},
   "outputs": [],
   "source": [
    "teams = [\"Raptors\", \"Lakers\", \"Bulls\", \"Blue Jays\", \"Dodgers\"]"
   ]
  },
  {
   "cell_type": "code",
   "execution_count": null,
   "id": "181e3239",
   "metadata": {},
   "outputs": [],
   "source": [
    "teams.append(\"Cubs\")"
   ]
  },
  {
   "cell_type": "code",
   "execution_count": null,
   "id": "a7fa9f6d",
   "metadata": {},
   "outputs": [],
   "source": [
    "teams"
   ]
  },
  {
   "cell_type": "code",
   "execution_count": null,
   "id": "aa500ec6",
   "metadata": {},
   "outputs": [],
   "source": [
    "teams.extend([\"Maple Leafs\", \"Kings\"])"
   ]
  },
  {
   "cell_type": "code",
   "execution_count": null,
   "id": "c0789dde",
   "metadata": {},
   "outputs": [],
   "source": [
    "teams"
   ]
  },
  {
   "cell_type": "code",
   "execution_count": null,
   "id": "0af149e7",
   "metadata": {},
   "outputs": [],
   "source": [
    "cities = {\n",
    "    \"toronto\": [\"Raptors\", \"Blue Jays\", \"Maple Leafs\"],\n",
    "    \"chicago\": [\"Bulls\", \"Cubs\", \"Blackhawks\"], \n",
    "    \"los angeles\": [\"Maple Leafs\", \"Kings\", \"Blackhawks\"]\n",
    "}"
   ]
  },
  {
   "cell_type": "code",
   "execution_count": null,
   "id": "69bf93a5",
   "metadata": {},
   "outputs": [],
   "source": [
    "cities[\"toronto\"][0] = \"Huskies\""
   ]
  },
  {
   "cell_type": "code",
   "execution_count": null,
   "id": "2c41ac9e",
   "metadata": {},
   "outputs": [],
   "source": [
    "cities"
   ]
  }
 ],
 "metadata": {
  "kernelspec": {
   "display_name": "Python 3 (ipykernel)",
   "language": "python",
   "name": "python3"
  },
  "language_info": {
   "codemirror_mode": {
    "name": "ipython",
    "version": 3
   },
   "file_extension": ".py",
   "mimetype": "text/x-python",
   "name": "python",
   "nbconvert_exporter": "python",
   "pygments_lexer": "ipython3",
   "version": "3.9.12"
  }
 },
 "nbformat": 4,
 "nbformat_minor": 5
}
