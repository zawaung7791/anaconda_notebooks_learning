{
 "cells": [
  {
   "cell_type": "markdown",
   "id": "f3cfa244",
   "metadata": {},
   "source": [
    "# Imports"
   ]
  },
  {
   "cell_type": "markdown",
   "id": "a96dd70e",
   "metadata": {},
   "source": [
    "### \"Square Root\""
   ]
  },
  {
   "cell_type": "code",
   "execution_count": null,
   "id": "b733be5f",
   "metadata": {},
   "outputs": [],
   "source": [
    "10 ** 2"
   ]
  },
  {
   "cell_type": "code",
   "execution_count": null,
   "id": "e3c2261f",
   "metadata": {},
   "outputs": [],
   "source": [
    "100 ** (1/2)"
   ]
  },
  {
   "cell_type": "code",
   "execution_count": null,
   "id": "1a98bd9d",
   "metadata": {},
   "outputs": [],
   "source": [
    "round(4.5)"
   ]
  },
  {
   "cell_type": "markdown",
   "id": "bb10bce5",
   "metadata": {},
   "source": [
    "### `import`"
   ]
  },
  {
   "cell_type": "code",
   "execution_count": null,
   "id": "a435345f",
   "metadata": {},
   "outputs": [],
   "source": [
    "import math"
   ]
  },
  {
   "cell_type": "code",
   "execution_count": null,
   "id": "0b9fcd54",
   "metadata": {},
   "outputs": [],
   "source": [
    "math.sqrt(100)"
   ]
  },
  {
   "cell_type": "code",
   "execution_count": null,
   "id": "27b39b4b",
   "metadata": {},
   "outputs": [],
   "source": [
    "my_string = \"this is a string\"\n",
    "my_string.upper()"
   ]
  },
  {
   "cell_type": "markdown",
   "id": "9694e451",
   "metadata": {},
   "source": [
    "### `from`"
   ]
  },
  {
   "cell_type": "code",
   "execution_count": null,
   "id": "0bd93d4a",
   "metadata": {},
   "outputs": [],
   "source": [
    "from math import sqrt"
   ]
  },
  {
   "cell_type": "code",
   "execution_count": null,
   "id": "150e57b0",
   "metadata": {},
   "outputs": [],
   "source": [
    "sqrt(9)"
   ]
  },
  {
   "cell_type": "markdown",
   "id": "bc8c1260",
   "metadata": {},
   "source": [
    "### `as`"
   ]
  },
  {
   "cell_type": "code",
   "execution_count": null,
   "id": "2e42ebc3",
   "metadata": {},
   "outputs": [],
   "source": [
    "from math import sqrt as square_root"
   ]
  },
  {
   "cell_type": "code",
   "execution_count": null,
   "id": "43a1d148",
   "metadata": {},
   "outputs": [],
   "source": [
    "square_root(7)"
   ]
  },
  {
   "cell_type": "markdown",
   "id": "584adfbf",
   "metadata": {},
   "source": [
    "### Documentation"
   ]
  },
  {
   "cell_type": "code",
   "execution_count": null,
   "id": "fed5cded",
   "metadata": {},
   "outputs": [],
   "source": [
    "help(sqrt)"
   ]
  },
  {
   "cell_type": "code",
   "execution_count": null,
   "id": "cad417f2",
   "metadata": {},
   "outputs": [],
   "source": [
    "help(square_root)"
   ]
  },
  {
   "cell_type": "code",
   "execution_count": null,
   "id": "b63cfaef",
   "metadata": {},
   "outputs": [],
   "source": [
    "type(math.pi)"
   ]
  },
  {
   "cell_type": "code",
   "execution_count": null,
   "id": "c50492ab",
   "metadata": {},
   "outputs": [],
   "source": [
    "square_root(10)"
   ]
  },
  {
   "cell_type": "markdown",
   "id": "c35c0d9e",
   "metadata": {},
   "source": [
    "### Challenge\n",
    "\n",
    "<div class='alert alert-info'>\n",
    "  🎒 Find some interesting/useful tools in the <a href=\"https://docs.python.org/3/library/math.html\">math</a> module\n",
    "</div>"
   ]
  },
  {
   "cell_type": "markdown",
   "id": "e8b597a1",
   "metadata": {},
   "source": [
    "### Examples"
   ]
  },
  {
   "cell_type": "code",
   "execution_count": null,
   "id": "925ec437",
   "metadata": {},
   "outputs": [],
   "source": [
    "math.ceil(9.9)"
   ]
  },
  {
   "cell_type": "code",
   "execution_count": null,
   "id": "1fbf4eab",
   "metadata": {},
   "outputs": [],
   "source": [
    "9.9 // 1"
   ]
  },
  {
   "cell_type": "code",
   "execution_count": null,
   "id": "dd9b11a7",
   "metadata": {},
   "outputs": [],
   "source": [
    "math.floor(9.9)"
   ]
  },
  {
   "cell_type": "code",
   "execution_count": null,
   "id": "a9528ad8",
   "metadata": {},
   "outputs": [],
   "source": [
    "from math import tau"
   ]
  },
  {
   "cell_type": "code",
   "execution_count": null,
   "id": "3cae84df",
   "metadata": {},
   "outputs": [],
   "source": [
    "tau"
   ]
  },
  {
   "cell_type": "code",
   "execution_count": null,
   "id": "ea7466a6",
   "metadata": {},
   "outputs": [],
   "source": [
    "math.gcd(20, 12, 16)"
   ]
  },
  {
   "cell_type": "markdown",
   "id": "61dbe1b3",
   "metadata": {},
   "source": [
    "### [Useful Modules](https://docs.python.org/3/py-modindex.html)"
   ]
  },
  {
   "cell_type": "markdown",
   "id": "1137365d",
   "metadata": {},
   "source": [
    "<div class='alert alert-success'>\n",
    "  🔬📁 Don't get overwhelmed, just look at a couple\n",
    "</div>"
   ]
  },
  {
   "cell_type": "markdown",
   "id": "eccd786b",
   "metadata": {},
   "source": [
    "- time\n",
    "- itertools\n",
    "- random\n",
    "- collections"
   ]
  },
  {
   "cell_type": "markdown",
   "id": "919b798c",
   "metadata": {},
   "source": [
    "### time"
   ]
  },
  {
   "cell_type": "code",
   "execution_count": null,
   "id": "822c6f34",
   "metadata": {},
   "outputs": [],
   "source": [
    "import time"
   ]
  },
  {
   "cell_type": "code",
   "execution_count": null,
   "id": "87bfce7a",
   "metadata": {},
   "outputs": [],
   "source": [
    "print(1)\n",
    "time.sleep(1)\n",
    "print(2)\n",
    "time.sleep(1)\n",
    "print(3)\n",
    "time.sleep(1)\n",
    "print(4)"
   ]
  },
  {
   "cell_type": "markdown",
   "id": "09a58570",
   "metadata": {},
   "source": [
    "### itertools"
   ]
  },
  {
   "cell_type": "code",
   "execution_count": null,
   "id": "1891f10e",
   "metadata": {},
   "outputs": [],
   "source": [
    "food = [\"indian\", \"sushi\", \"pizza\"]\n",
    "drinks = [\"cocktail\", \"wine\", \"beer\"]\n",
    "dessert = [\"ice cream\", \"cake\", \"popcorn\"]"
   ]
  },
  {
   "cell_type": "code",
   "execution_count": null,
   "id": "95d487a8",
   "metadata": {},
   "outputs": [],
   "source": [
    "import itertools"
   ]
  },
  {
   "cell_type": "code",
   "execution_count": null,
   "id": "592b792e",
   "metadata": {},
   "outputs": [],
   "source": [
    "list(itertools.product(food, drinks, dessert))"
   ]
  },
  {
   "cell_type": "markdown",
   "id": "e2ab257b",
   "metadata": {},
   "source": [
    "### `random`"
   ]
  },
  {
   "cell_type": "code",
   "execution_count": null,
   "id": "3fb6ba9f",
   "metadata": {},
   "outputs": [],
   "source": [
    "import random"
   ]
  },
  {
   "cell_type": "code",
   "execution_count": null,
   "id": "577bf6f4",
   "metadata": {},
   "outputs": [],
   "source": [
    "random.choices([\"🟦\", \"🟥\", \"🟧\", \"🟩\"], k=10)"
   ]
  },
  {
   "cell_type": "code",
   "execution_count": null,
   "id": "8ea31884",
   "metadata": {},
   "outputs": [],
   "source": [
    "options = [\"☀️\", \"🌧\", \"⛈\", \"🌤\", \"☁️\"]\n",
    "weights = [1000, 200, 40, 30, 150]\n",
    "\n",
    "random.choices(options, weights, k=10)"
   ]
  },
  {
   "cell_type": "code",
   "execution_count": null,
   "id": "2a8d86b3",
   "metadata": {},
   "outputs": [],
   "source": [
    "%%script false --no-raise-error\n",
    "\n",
    "random.sample([\"🟦\", \"🟥\", \"🟧\", \"🟩\"], k=10)"
   ]
  },
  {
   "cell_type": "code",
   "execution_count": null,
   "id": "06657c88",
   "metadata": {},
   "outputs": [],
   "source": [
    "random.choice([\"☀️\", \"🌧\", \"⛈\", \"🌤\", \"☁️\"])\n",
    "random.choices([\"☀️\", \"🌧\", \"⛈\", \"🌤\", \"☁️\"])[0]"
   ]
  },
  {
   "cell_type": "markdown",
   "id": "2207c233",
   "metadata": {},
   "source": [
    "### Challenge\n",
    "\n",
    "<div class='alert alert-info'>\n",
    "  🎒 Use random.choices with weights to model some of your own daily/weekly activities!\n",
    "</div>"
   ]
  },
  {
   "cell_type": "code",
   "execution_count": null,
   "id": "21eb01b1",
   "metadata": {},
   "outputs": [],
   "source": [
    "options = [\"🪨\", \"🎶\", \"🍻\", \"🇨🇳\", \"🥘\"]\n",
    "weights = [3, 1, 2, 4, 5]\n",
    "\n",
    "random.choices(options, weights, k=10)"
   ]
  },
  {
   "cell_type": "markdown",
   "id": "90e7b21b",
   "metadata": {},
   "source": [
    "### `collections.Counter`"
   ]
  },
  {
   "cell_type": "code",
   "execution_count": null,
   "id": "660c91f9",
   "metadata": {},
   "outputs": [],
   "source": [
    "from collections import Counter"
   ]
  },
  {
   "cell_type": "code",
   "execution_count": null,
   "id": "44af5621",
   "metadata": {},
   "outputs": [],
   "source": [
    "colours = [\"Red\", \"Red\", \"Red\", \"Green\", \"Blue\", \"Blue\"]"
   ]
  },
  {
   "cell_type": "code",
   "execution_count": null,
   "id": "be3b5338",
   "metadata": {},
   "outputs": [],
   "source": [
    "counter = Counter(colours)"
   ]
  },
  {
   "cell_type": "code",
   "execution_count": null,
   "id": "585609e0",
   "metadata": {},
   "outputs": [],
   "source": [
    "counter"
   ]
  },
  {
   "cell_type": "code",
   "execution_count": null,
   "id": "b95f6c30",
   "metadata": {},
   "outputs": [],
   "source": [
    "type(counter)"
   ]
  },
  {
   "cell_type": "code",
   "execution_count": null,
   "id": "c4cea351",
   "metadata": {},
   "outputs": [],
   "source": [
    "counter[\"Red\"]"
   ]
  },
  {
   "cell_type": "code",
   "execution_count": null,
   "id": "028b78bc",
   "metadata": {},
   "outputs": [],
   "source": [
    "counter.most_common(2)"
   ]
  },
  {
   "cell_type": "markdown",
   "id": "729d4d4c",
   "metadata": {},
   "source": [
    "### Challenge\n",
    "\n",
    "<div class='alert alert-info'>\n",
    "  🎒 Use Counter to count how many times you press Left in the \"Konami Cheat Code\", and print the number of button presses in the full cheat code (Hint: Up, Up, Down, Down, Left, Right, Left, Right, B, A, Start)\n",
    "</div>"
   ]
  },
  {
   "cell_type": "code",
   "execution_count": null,
   "id": "78eccc1f",
   "metadata": {},
   "outputs": [],
   "source": [
    "code = [\"⬆️\", \"⬆️\", \"⬇️\", \"⬇️\", \"⬅️\", \"➡️\", \"⬅️\", \"➡️\", \"🅱️\", \"🅰️\", \"⭐️\"]"
   ]
  },
  {
   "cell_type": "code",
   "execution_count": null,
   "id": "624bde2c",
   "metadata": {},
   "outputs": [],
   "source": [
    "counter_code = Counter(code)"
   ]
  },
  {
   "cell_type": "code",
   "execution_count": null,
   "id": "56f6d245",
   "metadata": {},
   "outputs": [],
   "source": [
    "counter_code[\"⬅️\"]"
   ]
  },
  {
   "cell_type": "code",
   "execution_count": null,
   "id": "511025b0",
   "metadata": {},
   "outputs": [],
   "source": [
    "counter_code"
   ]
  },
  {
   "cell_type": "markdown",
   "id": "c4b513cf",
   "metadata": {},
   "source": [
    "### \"Third Party\" Libraries"
   ]
  },
  {
   "cell_type": "markdown",
   "id": "f5d1b22b",
   "metadata": {},
   "source": [
    "- [rich](https://github.com/Textualize/rich)\n",
    "- [chime](https://github.com/MaxHalford/chime)\n",
    "- [schedule](https://github.com/dbader/schedule)\n",
    "- [faker](https://github.com/joke2k/faker)\n",
    "- [pandas](https://github.com/pandas-dev/pandas)"
   ]
  },
  {
   "cell_type": "markdown",
   "id": "59e78306",
   "metadata": {},
   "source": [
    "### rich"
   ]
  },
  {
   "cell_type": "code",
   "execution_count": null,
   "id": "ca8ad0b9",
   "metadata": {},
   "outputs": [],
   "source": [
    "from rich import print"
   ]
  },
  {
   "cell_type": "code",
   "execution_count": null,
   "id": "21b65b37",
   "metadata": {},
   "outputs": [],
   "source": [
    "print(list(itertools.product(food, drinks, dessert)))"
   ]
  },
  {
   "cell_type": "markdown",
   "id": "3152cafd",
   "metadata": {},
   "source": [
    "### chime"
   ]
  },
  {
   "cell_type": "code",
   "execution_count": null,
   "id": "e3fba38e",
   "metadata": {},
   "outputs": [],
   "source": [
    "import chime"
   ]
  },
  {
   "cell_type": "code",
   "execution_count": null,
   "id": "8a7610bc",
   "metadata": {},
   "outputs": [],
   "source": [
    "chime.success()"
   ]
  },
  {
   "cell_type": "code",
   "execution_count": null,
   "id": "c43fedf0",
   "metadata": {},
   "outputs": [],
   "source": [
    "chime.warning()"
   ]
  },
  {
   "cell_type": "markdown",
   "id": "4ba14297",
   "metadata": {},
   "source": [
    "### schedule"
   ]
  },
  {
   "cell_type": "code",
   "execution_count": null,
   "id": "3d819444",
   "metadata": {},
   "outputs": [],
   "source": [
    "import schedule\n",
    "\n",
    "def job():\n",
    "    print(\"This could be anything!\")"
   ]
  },
  {
   "cell_type": "code",
   "execution_count": null,
   "id": "a373d818",
   "metadata": {},
   "outputs": [],
   "source": [
    "schedule.every(5).minutes.do(job)"
   ]
  },
  {
   "cell_type": "code",
   "execution_count": null,
   "id": "2a1a1554",
   "metadata": {},
   "outputs": [],
   "source": [
    "# while True:\n",
    "#     schedule.run_pending()"
   ]
  },
  {
   "cell_type": "markdown",
   "id": "d3ece8d2",
   "metadata": {},
   "source": [
    "### faker"
   ]
  },
  {
   "cell_type": "code",
   "execution_count": null,
   "id": "40496b89",
   "metadata": {},
   "outputs": [],
   "source": [
    "from faker import Faker\n",
    "\n",
    "fake = Faker()"
   ]
  },
  {
   "cell_type": "code",
   "execution_count": null,
   "id": "5b2f4397",
   "metadata": {},
   "outputs": [],
   "source": [
    "fake.name()"
   ]
  },
  {
   "cell_type": "code",
   "execution_count": null,
   "id": "dfe695a4",
   "metadata": {},
   "outputs": [],
   "source": [
    "fake.credit_card_number()"
   ]
  },
  {
   "cell_type": "markdown",
   "id": "613ca888",
   "metadata": {},
   "source": [
    "### pandas"
   ]
  },
  {
   "cell_type": "code",
   "execution_count": null,
   "id": "10a72d56",
   "metadata": {},
   "outputs": [],
   "source": [
    "import pandas as pd"
   ]
  },
  {
   "cell_type": "code",
   "execution_count": null,
   "id": "2da45caa",
   "metadata": {},
   "outputs": [],
   "source": [
    "df = pd.DataFrame({\n",
    "    \"a\": 1.0,\n",
    "    \"b\": pd.Timestamp(\"20220101\"),\n",
    "    \"c\": pd.Series([1, 2, 3, 4], dtype=\"float32\"),\n",
    "    \"d\": pd.Categorical([\"test\", \"train\", \"test\", \"train\"]),\n",
    "    \"e\": \"foo\",\n",
    "})"
   ]
  },
  {
   "cell_type": "code",
   "execution_count": null,
   "id": "b63a4d58",
   "metadata": {},
   "outputs": [],
   "source": [
    "df[\"c\"]"
   ]
  },
  {
   "cell_type": "markdown",
   "id": "a8b31ab8",
   "metadata": {},
   "source": [
    "### Antigravity"
   ]
  },
  {
   "cell_type": "code",
   "execution_count": null,
   "id": "5fe16f34",
   "metadata": {},
   "outputs": [],
   "source": [
    "import antigravity"
   ]
  },
  {
   "cell_type": "markdown",
   "id": "6cfb7c6d",
   "metadata": {},
   "source": [
    "### Challenge\n",
    "\n",
    "<div class='alert alert-info'>\n",
    "🎒 Use Faker to generate a fake email and password!\n",
    "</div>"
   ]
  },
  {
   "cell_type": "code",
   "execution_count": null,
   "id": "a82b34e5",
   "metadata": {},
   "outputs": [],
   "source": [
    "from faker import Faker\n",
    "\n",
    "fake = Faker()"
   ]
  },
  {
   "cell_type": "code",
   "execution_count": null,
   "id": "5745476d",
   "metadata": {},
   "outputs": [],
   "source": [
    "fake.email()"
   ]
  },
  {
   "cell_type": "code",
   "execution_count": null,
   "id": "0e0fc8d4",
   "metadata": {},
   "outputs": [],
   "source": [
    "fake.password()"
   ]
  },
  {
   "cell_type": "markdown",
   "id": "92a4ae99",
   "metadata": {},
   "source": [
    "### Homework"
   ]
  },
  {
   "cell_type": "markdown",
   "id": "1bb4e62f",
   "metadata": {},
   "source": [
    "<div class='alert alert-info'>\n",
    "🎒 Explore some other packages on <a href=\"https://anaconda.cloud/package-categories\">Anaconda Nucleus</a>!\n",
    "</div>"
   ]
  }
 ],
 "metadata": {
  "kernelspec": {
   "display_name": "Python 3 (ipykernel)",
   "language": "python",
   "name": "python3"
  },
  "language_info": {
   "codemirror_mode": {
    "name": "ipython",
    "version": 3
   },
   "file_extension": ".py",
   "mimetype": "text/x-python",
   "name": "python",
   "nbconvert_exporter": "python",
   "pygments_lexer": "ipython3",
   "version": "3.9.12"
  }
 },
 "nbformat": 4,
 "nbformat_minor": 5
}
