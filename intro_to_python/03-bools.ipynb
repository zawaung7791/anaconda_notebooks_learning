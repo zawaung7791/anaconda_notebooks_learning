{
 "cells": [
  {
   "cell_type": "markdown",
   "id": "7925b840",
   "metadata": {},
   "source": [
    "# Bools"
   ]
  },
  {
   "cell_type": "markdown",
   "id": "6490ad75",
   "metadata": {},
   "source": [
    "### `=`"
   ]
  },
  {
   "cell_type": "code",
   "execution_count": null,
   "id": "4af25e7e",
   "metadata": {},
   "outputs": [],
   "source": [
    "result = 4 * 4"
   ]
  },
  {
   "cell_type": "code",
   "execution_count": null,
   "id": "4ffca815",
   "metadata": {},
   "outputs": [],
   "source": [
    "result"
   ]
  },
  {
   "cell_type": "markdown",
   "id": "a8baa411",
   "metadata": {},
   "source": [
    "### `==`"
   ]
  },
  {
   "cell_type": "code",
   "execution_count": null,
   "id": "b2b21d54",
   "metadata": {},
   "outputs": [],
   "source": [
    "result == 16"
   ]
  },
  {
   "cell_type": "code",
   "execution_count": null,
   "id": "4fe4aa08",
   "metadata": {},
   "outputs": [],
   "source": [
    "3 * 3 == 9"
   ]
  },
  {
   "cell_type": "markdown",
   "id": "2379ea3b",
   "metadata": {},
   "source": [
    "### `!=`"
   ]
  },
  {
   "cell_type": "code",
   "execution_count": null,
   "id": "ec6cadc5",
   "metadata": {},
   "outputs": [],
   "source": [
    "2 + 2 != 4"
   ]
  },
  {
   "cell_type": "code",
   "execution_count": null,
   "id": "29b4f10f",
   "metadata": {},
   "outputs": [],
   "source": [
    "my_name = \"Max\""
   ]
  },
  {
   "cell_type": "code",
   "execution_count": null,
   "id": "25f5aea5",
   "metadata": {},
   "outputs": [],
   "source": [
    "my_name != \"Max\""
   ]
  },
  {
   "cell_type": "markdown",
   "id": "b345d02e",
   "metadata": {},
   "source": [
    "### Floating Point Errors"
   ]
  },
  {
   "cell_type": "code",
   "execution_count": null,
   "id": "dffafcda",
   "metadata": {},
   "outputs": [],
   "source": [
    "1.0 == 1.0"
   ]
  },
  {
   "cell_type": "code",
   "execution_count": null,
   "id": "666a3138",
   "metadata": {},
   "outputs": [],
   "source": [
    "0.1 + 0.2 == 0.3"
   ]
  },
  {
   "cell_type": "code",
   "execution_count": null,
   "id": "a1f7939e",
   "metadata": {},
   "outputs": [],
   "source": [
    "round(0.1 + 0.2, 1) == 0.3"
   ]
  },
  {
   "cell_type": "markdown",
   "id": "33467458",
   "metadata": {},
   "source": [
    "### Unequal"
   ]
  },
  {
   "cell_type": "code",
   "execution_count": null,
   "id": "0c31a395",
   "metadata": {},
   "outputs": [],
   "source": [
    "my_number_a = 8\n",
    "my_number_b = 7\n",
    "\n",
    "my_number_b < my_number_a"
   ]
  },
  {
   "cell_type": "code",
   "execution_count": null,
   "id": "2fc56b24",
   "metadata": {},
   "outputs": [],
   "source": [
    "9 < 10"
   ]
  },
  {
   "cell_type": "code",
   "execution_count": null,
   "id": "3cf81a37",
   "metadata": {},
   "outputs": [],
   "source": [
    "9.5 >= 9.5"
   ]
  },
  {
   "cell_type": "code",
   "execution_count": null,
   "id": "4a25de85",
   "metadata": {},
   "outputs": [],
   "source": [
    "11 <= 40"
   ]
  },
  {
   "cell_type": "markdown",
   "id": "dea1986b",
   "metadata": {},
   "source": [
    "### Challenge\n",
    "\n",
    "<div class='alert alert-info'>\n",
    "  🎒 Write a snippet of code to detect if any given temperature is between two numbers\n",
    "</div>"
   ]
  },
  {
   "cell_type": "markdown",
   "id": "6cd76eae",
   "metadata": {},
   "source": [
    "### \"Between\""
   ]
  },
  {
   "cell_type": "code",
   "execution_count": null,
   "id": "65dc96f4",
   "metadata": {},
   "outputs": [],
   "source": [
    "hot_tub = 104"
   ]
  },
  {
   "cell_type": "code",
   "execution_count": null,
   "id": "e9862a21",
   "metadata": {},
   "outputs": [],
   "source": [
    "low = 99\n",
    "high = 105"
   ]
  },
  {
   "cell_type": "code",
   "execution_count": null,
   "id": "09215061",
   "metadata": {},
   "outputs": [],
   "source": [
    "high <= hot_tub <= low"
   ]
  },
  {
   "cell_type": "markdown",
   "id": "a529f45e",
   "metadata": {},
   "source": [
    "### `True`/`False`"
   ]
  },
  {
   "cell_type": "code",
   "execution_count": null,
   "id": "42f80bce",
   "metadata": {},
   "outputs": [],
   "source": [
    "True"
   ]
  },
  {
   "cell_type": "code",
   "execution_count": null,
   "id": "23dd3a42",
   "metadata": {},
   "outputs": [],
   "source": [
    "False"
   ]
  },
  {
   "cell_type": "code",
   "execution_count": null,
   "id": "cc312712",
   "metadata": {},
   "outputs": [],
   "source": [
    "result = True"
   ]
  },
  {
   "cell_type": "code",
   "execution_count": null,
   "id": "9289457b",
   "metadata": {},
   "outputs": [],
   "source": [
    "type(True)"
   ]
  },
  {
   "cell_type": "code",
   "execution_count": null,
   "id": "e1cdf765",
   "metadata": {},
   "outputs": [],
   "source": [
    "type(result)"
   ]
  },
  {
   "cell_type": "markdown",
   "id": "77c84d51",
   "metadata": {},
   "source": [
    "### `not`"
   ]
  },
  {
   "cell_type": "code",
   "execution_count": null,
   "id": "5de44af3",
   "metadata": {},
   "outputs": [],
   "source": [
    "not 4 + 4 != 8"
   ]
  },
  {
   "cell_type": "code",
   "execution_count": null,
   "id": "2c0122c4",
   "metadata": {},
   "outputs": [],
   "source": [
    "not True"
   ]
  },
  {
   "cell_type": "markdown",
   "id": "9f9df02c",
   "metadata": {},
   "source": [
    "### Autocasting"
   ]
  },
  {
   "cell_type": "code",
   "execution_count": null,
   "id": "f53091bd",
   "metadata": {},
   "outputs": [],
   "source": [
    "1 == False"
   ]
  },
  {
   "cell_type": "code",
   "execution_count": null,
   "id": "fc429466",
   "metadata": {},
   "outputs": [],
   "source": [
    "0 == True"
   ]
  },
  {
   "cell_type": "code",
   "execution_count": null,
   "id": "2b918a9d",
   "metadata": {},
   "outputs": [],
   "source": [
    "[] == False"
   ]
  },
  {
   "cell_type": "markdown",
   "id": "3ab0fc9a",
   "metadata": {},
   "source": [
    "### `and`"
   ]
  },
  {
   "cell_type": "code",
   "execution_count": null,
   "id": "aa62903a",
   "metadata": {},
   "outputs": [],
   "source": [
    "low <= hot_tub and hot_tub <= high"
   ]
  },
  {
   "cell_type": "code",
   "execution_count": null,
   "id": "1dcc2056",
   "metadata": {},
   "outputs": [],
   "source": [
    "True and True"
   ]
  },
  {
   "cell_type": "code",
   "execution_count": null,
   "id": "55df1ada",
   "metadata": {},
   "outputs": [],
   "source": [
    "True and False"
   ]
  },
  {
   "cell_type": "code",
   "execution_count": null,
   "id": "7cc3451c",
   "metadata": {},
   "outputs": [],
   "source": [
    "False and True"
   ]
  },
  {
   "cell_type": "code",
   "execution_count": null,
   "id": "03441c3c",
   "metadata": {},
   "outputs": [],
   "source": [
    "False and False"
   ]
  },
  {
   "cell_type": "markdown",
   "id": "4181c2a0",
   "metadata": {},
   "source": [
    "### `and` \"Rules\""
   ]
  },
  {
   "cell_type": "code",
   "execution_count": null,
   "id": "ae993449",
   "metadata": {},
   "outputs": [],
   "source": [
    "# colour black and indian\n",
    "\n",
    "black = True\n",
    "indian_food = True\n",
    "\n",
    "black and indian_food"
   ]
  },
  {
   "cell_type": "code",
   "execution_count": null,
   "id": "14b735da",
   "metadata": {},
   "outputs": [],
   "source": [
    "sushi = False"
   ]
  },
  {
   "cell_type": "code",
   "execution_count": null,
   "id": "6155b499",
   "metadata": {},
   "outputs": [],
   "source": [
    "black and False"
   ]
  },
  {
   "cell_type": "code",
   "execution_count": null,
   "id": "7e79302d",
   "metadata": {},
   "outputs": [],
   "source": [
    "True and True and True and False"
   ]
  },
  {
   "cell_type": "code",
   "execution_count": null,
   "id": "38fad7bf",
   "metadata": {},
   "outputs": [],
   "source": [
    "black & False"
   ]
  },
  {
   "cell_type": "markdown",
   "id": "29c453fb",
   "metadata": {},
   "source": [
    "### `or`"
   ]
  },
  {
   "cell_type": "code",
   "execution_count": null,
   "id": "688fd98e",
   "metadata": {},
   "outputs": [],
   "source": [
    "# volleyball or snowboarding\n",
    "\n",
    "volleyball = True\n",
    "snowboarding = False\n",
    "skiing = False"
   ]
  },
  {
   "cell_type": "code",
   "execution_count": null,
   "id": "bba1d46a",
   "metadata": {},
   "outputs": [],
   "source": [
    "snowboarding or skiing"
   ]
  },
  {
   "cell_type": "code",
   "execution_count": null,
   "id": "eecd3396",
   "metadata": {},
   "outputs": [],
   "source": [
    "snowboarding | skiing"
   ]
  },
  {
   "cell_type": "markdown",
   "id": "1308a1ab",
   "metadata": {},
   "source": [
    "### `or` \"Rules\""
   ]
  },
  {
   "cell_type": "code",
   "execution_count": null,
   "id": "522b2545",
   "metadata": {},
   "outputs": [],
   "source": [
    "False or False"
   ]
  },
  {
   "cell_type": "code",
   "execution_count": null,
   "id": "69b879d3",
   "metadata": {},
   "outputs": [],
   "source": [
    "True or True"
   ]
  },
  {
   "cell_type": "code",
   "execution_count": null,
   "id": "1581b129",
   "metadata": {},
   "outputs": [],
   "source": [
    "False or False or False or True"
   ]
  },
  {
   "cell_type": "markdown",
   "id": "23a6ec10",
   "metadata": {},
   "source": [
    "### Combining `&` `|` "
   ]
  },
  {
   "cell_type": "code",
   "execution_count": null,
   "id": "67d643fe",
   "metadata": {},
   "outputs": [],
   "source": [
    "volleyball & (sushi | indian_food)"
   ]
  },
  {
   "cell_type": "markdown",
   "id": "283d8c69",
   "metadata": {},
   "source": [
    "### Homework\n",
    "\n",
    "<div class='alert alert-info'>\n",
    "  🎒 Come up with some unique combo \"conditions\" that might apply to your own life\n",
    "</div>"
   ]
  },
  {
   "cell_type": "code",
   "execution_count": null,
   "id": "7a81e494",
   "metadata": {},
   "outputs": [],
   "source": []
  },
  {
   "cell_type": "code",
   "execution_count": null,
   "id": "0d958ede",
   "metadata": {},
   "outputs": [],
   "source": []
  }
 ],
 "metadata": {
  "kernelspec": {
   "display_name": "Python 3 (ipykernel)",
   "language": "python",
   "name": "python3"
  },
  "language_info": {
   "codemirror_mode": {
    "name": "ipython",
    "version": 3
   },
   "file_extension": ".py",
   "mimetype": "text/x-python",
   "name": "python",
   "nbconvert_exporter": "python",
   "pygments_lexer": "ipython3",
   "version": "3.9.12"
  }
 },
 "nbformat": 4,
 "nbformat_minor": 5
}
