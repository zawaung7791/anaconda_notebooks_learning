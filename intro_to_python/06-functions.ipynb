{
 "cells": [
  {
   "cell_type": "markdown",
   "id": "8396471b",
   "metadata": {},
   "source": [
    "# Functions"
   ]
  },
  {
   "cell_type": "markdown",
   "id": "819c06d9",
   "metadata": {},
   "source": [
    "### Using Functions"
   ]
  },
  {
   "cell_type": "code",
   "execution_count": null,
   "id": "2c51b902",
   "metadata": {},
   "outputs": [],
   "source": [
    "round(4.5)"
   ]
  },
  {
   "cell_type": "code",
   "execution_count": null,
   "id": "cb7f09af",
   "metadata": {},
   "outputs": [],
   "source": [
    "from math import sqrt"
   ]
  },
  {
   "cell_type": "code",
   "execution_count": null,
   "id": "56d492c5",
   "metadata": {},
   "outputs": [],
   "source": [
    "sqrt(10)"
   ]
  },
  {
   "cell_type": "code",
   "execution_count": null,
   "id": "c20e652d",
   "metadata": {},
   "outputs": [],
   "source": [
    "list(zip([1, 2, 3], \"abc\"))"
   ]
  },
  {
   "cell_type": "markdown",
   "id": "0f24d134",
   "metadata": {},
   "source": [
    "### Using Methods"
   ]
  },
  {
   "cell_type": "code",
   "execution_count": null,
   "id": "6b93bdef",
   "metadata": {},
   "outputs": [],
   "source": [
    "kramer = \"   THESE PRETZELS ARE MAKING ME THIRSTY   \""
   ]
  },
  {
   "cell_type": "code",
   "execution_count": null,
   "id": "7acdc26b",
   "metadata": {},
   "outputs": [],
   "source": [
    "kramer.strip().lower()"
   ]
  },
  {
   "cell_type": "markdown",
   "id": "be710c8b",
   "metadata": {},
   "source": [
    "### Creating Functions"
   ]
  },
  {
   "cell_type": "code",
   "execution_count": null,
   "id": "c7e5abe8",
   "metadata": {},
   "outputs": [],
   "source": [
    "def lower(s):\n",
    "    print(s.lower())"
   ]
  },
  {
   "cell_type": "code",
   "execution_count": null,
   "id": "840777e4",
   "metadata": {},
   "outputs": [],
   "source": [
    "art = lower(\"KRAMERICA and Vandelay Inc.\")"
   ]
  },
  {
   "cell_type": "code",
   "execution_count": null,
   "id": "e127b0f6",
   "metadata": {},
   "outputs": [],
   "source": [
    "print(art)"
   ]
  },
  {
   "cell_type": "markdown",
   "id": "67b6a089",
   "metadata": {},
   "source": [
    "### `None`"
   ]
  },
  {
   "cell_type": "code",
   "execution_count": null,
   "id": "3de5188e",
   "metadata": {},
   "outputs": [],
   "source": [
    "print(art)"
   ]
  },
  {
   "cell_type": "code",
   "execution_count": null,
   "id": "46f8b97d",
   "metadata": {},
   "outputs": [],
   "source": [
    "type(art)\n",
    "None"
   ]
  },
  {
   "cell_type": "markdown",
   "id": "6041dd31",
   "metadata": {},
   "source": [
    "### `return`"
   ]
  },
  {
   "cell_type": "code",
   "execution_count": null,
   "id": "46e14961",
   "metadata": {},
   "outputs": [],
   "source": [
    "def lower(s):\n",
    "    print(s.lower())\n",
    "    # return None"
   ]
  },
  {
   "cell_type": "code",
   "execution_count": null,
   "id": "c8c078c8",
   "metadata": {},
   "outputs": [],
   "source": [
    "%%script false --no-raise-error\n",
    "\n",
    "lower(\"KRAMERICA and Vandelay Inc.\").upper()"
   ]
  },
  {
   "cell_type": "code",
   "execution_count": null,
   "id": "6777464f",
   "metadata": {},
   "outputs": [],
   "source": [
    "def lower(x):\n",
    "    return x.lower()"
   ]
  },
  {
   "cell_type": "code",
   "execution_count": null,
   "id": "f6afc9d5",
   "metadata": {},
   "outputs": [],
   "source": [
    "art = lower(\"KRAMERICA and Vandelay Inc.\")"
   ]
  },
  {
   "cell_type": "code",
   "execution_count": null,
   "id": "9745900f",
   "metadata": {},
   "outputs": [],
   "source": [
    "art.upper()"
   ]
  },
  {
   "cell_type": "markdown",
   "id": "48ff8da9",
   "metadata": {},
   "source": [
    "### Function \"Anatomy\""
   ]
  },
  {
   "cell_type": "markdown",
   "id": "e53ecc33",
   "metadata": {},
   "source": [
    "1. def\n",
    "2. name\n",
    "3. arguments\n",
    "4. ????\n",
    "5. return"
   ]
  },
  {
   "cell_type": "code",
   "execution_count": null,
   "id": "44452ee8",
   "metadata": {},
   "outputs": [],
   "source": [
    "sentence = \"George and Jerry met at the Coffee Shop to talk about Kramer's new business\""
   ]
  },
  {
   "cell_type": "code",
   "execution_count": null,
   "id": "4bb75e27",
   "metadata": {},
   "outputs": [],
   "source": [
    "sentence.replace(\"George\", \"Art Vandelay\")"
   ]
  },
  {
   "cell_type": "code",
   "execution_count": null,
   "id": "a2bc09bc",
   "metadata": {},
   "outputs": [],
   "source": [
    "def pseudoize(s):\n",
    "    s = s.replace(\"George\", \"Art Vandelay\")\n",
    "    s = s.replace(\"Jerry\", \"Kel Varnsen\")\n",
    "    s = s.replace(\"Kramer\", \"H.E. Pennypacker\")\n",
    "    return s"
   ]
  },
  {
   "cell_type": "code",
   "execution_count": null,
   "id": "e5ca96e6",
   "metadata": {},
   "outputs": [],
   "source": [
    "new_sentence = pseudoize(sentence)"
   ]
  },
  {
   "cell_type": "markdown",
   "id": "b83ad301",
   "metadata": {},
   "source": [
    "### 1 Argument"
   ]
  },
  {
   "cell_type": "code",
   "execution_count": null,
   "id": "49b5d2a8",
   "metadata": {},
   "outputs": [],
   "source": [
    "def pseudoize(text):\n",
    "    s = text.replace(\"George\", \"Art Vandelay\")\n",
    "    s = s.replace(\"Jerry\", \"Kel Varnsen\")\n",
    "    s = s.replace(\"Kramer\", \"H.E. Pennypacker\")\n",
    "    return s"
   ]
  },
  {
   "cell_type": "code",
   "execution_count": null,
   "id": "896315cf",
   "metadata": {},
   "outputs": [],
   "source": [
    "pseudoize(\"This is a string about Jerry and Elaine\")"
   ]
  },
  {
   "cell_type": "markdown",
   "id": "4d864daf",
   "metadata": {},
   "source": [
    "### 0 Arguments"
   ]
  },
  {
   "cell_type": "code",
   "execution_count": null,
   "id": "4c150dbc",
   "metadata": {},
   "outputs": [],
   "source": [
    "def pretty_pointless():\n",
    "    return 4"
   ]
  },
  {
   "cell_type": "code",
   "execution_count": null,
   "id": "91fb44a8",
   "metadata": {},
   "outputs": [],
   "source": [
    "pretty_pointless()"
   ]
  },
  {
   "cell_type": "code",
   "execution_count": null,
   "id": "fc2aaa9c",
   "metadata": {},
   "outputs": [],
   "source": [
    "import random\n",
    "\n",
    "def random_letter():\n",
    "    return random.choice(\"abcdefghijklmnopqrstuvwxyz\")"
   ]
  },
  {
   "cell_type": "code",
   "execution_count": null,
   "id": "80eddff5",
   "metadata": {},
   "outputs": [],
   "source": [
    "random_letter()"
   ]
  },
  {
   "cell_type": "markdown",
   "id": "e51136e2",
   "metadata": {},
   "source": [
    "### Multiple Arguments"
   ]
  },
  {
   "cell_type": "code",
   "execution_count": null,
   "id": "93743c2a",
   "metadata": {},
   "outputs": [],
   "source": [
    "def madlib(name, colour, country):\n",
    "    return f\"My name is {name}, I live in {country}, and {colour} is my favourite colour!\""
   ]
  },
  {
   "cell_type": "code",
   "execution_count": null,
   "id": "b26fd118",
   "metadata": {},
   "outputs": [],
   "source": [
    "madlib(\"Max\", \"⬛️\", \"🇨🇦\")\n",
    "\n",
    "madlib(colour=\"⬛️\", name=\"Max\", country=\"🇨🇦\")"
   ]
  },
  {
   "cell_type": "code",
   "execution_count": null,
   "id": "ca4b49ce",
   "metadata": {},
   "outputs": [],
   "source": [
    "madlib(\"⬛️\", \"🇨🇦\", \"Max\")"
   ]
  },
  {
   "cell_type": "markdown",
   "id": "e577a64c",
   "metadata": {},
   "source": [
    "### Default Arguments"
   ]
  },
  {
   "cell_type": "code",
   "execution_count": null,
   "id": "f1c252a4",
   "metadata": {},
   "outputs": [],
   "source": [
    "def dna():\n",
    "    return \"\".join(random.choices(\"ATGC\", k=50))"
   ]
  },
  {
   "cell_type": "code",
   "execution_count": null,
   "id": "db0cad24",
   "metadata": {},
   "outputs": [],
   "source": [
    "dna()"
   ]
  },
  {
   "cell_type": "code",
   "execution_count": null,
   "id": "75470d88",
   "metadata": {},
   "outputs": [],
   "source": [
    "def dna(length=20):\n",
    "    return \"\".join(random.choices(\"ATGC\", k=length))"
   ]
  },
  {
   "cell_type": "code",
   "execution_count": null,
   "id": "81bff89a",
   "metadata": {},
   "outputs": [],
   "source": [
    "dna()"
   ]
  },
  {
   "cell_type": "code",
   "execution_count": null,
   "id": "78257850",
   "metadata": {},
   "outputs": [],
   "source": [
    "dna(100)"
   ]
  },
  {
   "cell_type": "markdown",
   "id": "9b1adada",
   "metadata": {},
   "source": [
    "### Challenge\n",
    "\n",
    "<div class='alert alert-info'>\n",
    "🎒 Write a function that can convert DNA into RNA\n",
    "    \n",
    "Hint: RNA is just DNA with \"T\" replaced with \"U\"\n",
    "</div>"
   ]
  },
  {
   "cell_type": "code",
   "execution_count": null,
   "id": "6dbcaab5",
   "metadata": {},
   "outputs": [],
   "source": [
    "def rna(dna):\n",
    "    return dna.replace(\"T\", \"U\")"
   ]
  },
  {
   "cell_type": "code",
   "execution_count": null,
   "id": "213f8514",
   "metadata": {},
   "outputs": [],
   "source": [
    "rna(dna(60))"
   ]
  },
  {
   "cell_type": "markdown",
   "id": "4533ec05",
   "metadata": {},
   "source": [
    "### docstrings"
   ]
  },
  {
   "cell_type": "code",
   "execution_count": null,
   "id": "3d7b1064",
   "metadata": {},
   "outputs": [],
   "source": [
    "help(round)"
   ]
  },
  {
   "cell_type": "code",
   "execution_count": null,
   "id": "5c842582",
   "metadata": {},
   "outputs": [],
   "source": [
    "def dna(length=50):\n",
    "    \"\"\"\n",
    "    Creates a strand of DNA\n",
    "    \n",
    "    Arguments\n",
    "      - length: int\n",
    "      \n",
    "    Returns: str\n",
    "    \"\"\"\n",
    "    return \"\".join(random.choices(\"ATGC\", k=length))"
   ]
  },
  {
   "cell_type": "code",
   "execution_count": null,
   "id": "1558f952",
   "metadata": {},
   "outputs": [],
   "source": [
    "help(dna)"
   ]
  },
  {
   "cell_type": "code",
   "execution_count": null,
   "id": "36f4ada2",
   "metadata": {},
   "outputs": [],
   "source": [
    "dna()"
   ]
  },
  {
   "cell_type": "markdown",
   "id": "c2af09b1",
   "metadata": {},
   "source": [
    "### `lambda` Functions"
   ]
  },
  {
   "cell_type": "code",
   "execution_count": null,
   "id": "9d929a58",
   "metadata": {},
   "outputs": [],
   "source": [
    "def dna(length=50):\n",
    "    return \"\".join(random.choices(\"ATGC\", k=length))"
   ]
  },
  {
   "cell_type": "code",
   "execution_count": null,
   "id": "60440291",
   "metadata": {},
   "outputs": [],
   "source": [
    "dna = lambda length: \"\".join(random.choices(\"ATGC\", k=length))"
   ]
  },
  {
   "cell_type": "code",
   "execution_count": null,
   "id": "47fad684",
   "metadata": {},
   "outputs": [],
   "source": [
    "dna(50)"
   ]
  },
  {
   "cell_type": "code",
   "execution_count": null,
   "id": "0ffab6ef",
   "metadata": {},
   "outputs": [],
   "source": [
    "lambda length: \"\".join(random.choices(\"ATGC\", k=length))"
   ]
  },
  {
   "cell_type": "markdown",
   "id": "af9f1430",
   "metadata": {},
   "source": [
    "### `filter`"
   ]
  },
  {
   "cell_type": "code",
   "execution_count": null,
   "id": "32dd3431",
   "metadata": {},
   "outputs": [],
   "source": [
    "songs = [\"1.mp3\", \"2.flac\", \"3.mp3\", \"4.mp3\"]"
   ]
  },
  {
   "cell_type": "code",
   "execution_count": null,
   "id": "c74d3427",
   "metadata": {},
   "outputs": [],
   "source": [
    "def mp3_keeper(song): \n",
    "    return song.endswith(\".mp3\")\n",
    "\n",
    "list(filter(lambda x: x.endswith(\".mp3\"), songs))"
   ]
  },
  {
   "cell_type": "markdown",
   "id": "2e951707",
   "metadata": {},
   "source": [
    "### `map`"
   ]
  },
  {
   "cell_type": "code",
   "execution_count": null,
   "id": "da8d8341",
   "metadata": {},
   "outputs": [],
   "source": [
    "song = \"1.mp3\""
   ]
  },
  {
   "cell_type": "code",
   "execution_count": null,
   "id": "d7edded1",
   "metadata": {},
   "outputs": [],
   "source": [
    "f\"my_song_{song.split('.')[0]}.flac\""
   ]
  },
  {
   "cell_type": "code",
   "execution_count": null,
   "id": "7ef09048",
   "metadata": {},
   "outputs": [],
   "source": [
    "\"my_song_1.mp3\""
   ]
  },
  {
   "cell_type": "code",
   "execution_count": null,
   "id": "df4ef784",
   "metadata": {},
   "outputs": [],
   "source": [
    "list(map(lambda song: f\"my_song_{song.split('.')[0]}.flac\", songs))"
   ]
  },
  {
   "cell_type": "markdown",
   "id": "bf0c31f2",
   "metadata": {},
   "source": [
    "### `reduce`"
   ]
  },
  {
   "cell_type": "code",
   "execution_count": null,
   "id": "57cb989b",
   "metadata": {},
   "outputs": [],
   "source": [
    "from functools import reduce\n",
    "\n",
    "reduce(lambda result, value: result + value, [1, 2, 3, 4, 5])"
   ]
  },
  {
   "cell_type": "code",
   "execution_count": null,
   "id": "47a05ada",
   "metadata": {},
   "outputs": [],
   "source": [
    "sum([1, 2, 3, 4, 5])"
   ]
  },
  {
   "cell_type": "markdown",
   "id": "88f5f224",
   "metadata": {},
   "source": [
    "### `*args`, `**kwargs`"
   ]
  },
  {
   "cell_type": "code",
   "execution_count": null,
   "id": "cf4de076",
   "metadata": {},
   "outputs": [],
   "source": [
    "def test(my_arg, *args, **kwargs):\n",
    "    print(my_arg)\n",
    "    print(args)\n",
    "    print(kwargs)"
   ]
  },
  {
   "cell_type": "code",
   "execution_count": null,
   "id": "b795879a",
   "metadata": {},
   "outputs": [],
   "source": [
    "test(1, 2, 3, \"c\", \"d\", e=\"f\", g=\"z\")"
   ]
  },
  {
   "cell_type": "markdown",
   "id": "673b4b2c",
   "metadata": {},
   "source": [
    "### Challenge\n",
    "\n",
    "<div class='alert alert-info'>\n",
    "    🎒 Create a function that returns the \"complementary strand\" for any piece of DNA\n",
    "    \n",
    "Hint: reverse the string and make the following replacements (A → T, C → G, G → C, T → A)\n",
    "</div>"
   ]
  },
  {
   "cell_type": "code",
   "execution_count": null,
   "id": "57c5a3a3",
   "metadata": {},
   "outputs": [],
   "source": [
    "def make_complement(strand):\n",
    "    translation_table = str.maketrans(\"ACGT\", \"TGCA\")\n",
    "    strand = strand.translate(translation_table)\n",
    "    strand = strand[::-1]\n",
    "    return strand"
   ]
  },
  {
   "cell_type": "code",
   "execution_count": null,
   "id": "693a7aa2",
   "metadata": {},
   "outputs": [],
   "source": [
    "str.maketrans(\"ACGT\", \"TGCA\")"
   ]
  },
  {
   "cell_type": "code",
   "execution_count": null,
   "id": "16df21a4",
   "metadata": {},
   "outputs": [],
   "source": [
    "dna_1 = dna(50)"
   ]
  },
  {
   "cell_type": "code",
   "execution_count": null,
   "id": "b546102d",
   "metadata": {},
   "outputs": [],
   "source": [
    "dna_2 = make_complement(dna_1)"
   ]
  },
  {
   "cell_type": "code",
   "execution_count": null,
   "id": "11ec44fb",
   "metadata": {},
   "outputs": [],
   "source": [
    "print(dna_1, dna_2)"
   ]
  },
  {
   "cell_type": "code",
   "execution_count": null,
   "id": "e91d4f66",
   "metadata": {},
   "outputs": [],
   "source": [
    "list(zip(dna_1, dna_2))"
   ]
  }
 ],
 "metadata": {
  "kernelspec": {
   "display_name": "Python 3 (ipykernel)",
   "language": "python",
   "name": "python3"
  },
  "language_info": {
   "codemirror_mode": {
    "name": "ipython",
    "version": 3
   },
   "file_extension": ".py",
   "mimetype": "text/x-python",
   "name": "python",
   "nbconvert_exporter": "python",
   "pygments_lexer": "ipython3",
   "version": "3.9.12"
  }
 },
 "nbformat": 4,
 "nbformat_minor": 5
}
