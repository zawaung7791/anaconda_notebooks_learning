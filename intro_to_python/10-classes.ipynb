{
 "cells": [
  {
   "cell_type": "markdown",
   "id": "87de79dc",
   "metadata": {},
   "source": [
    "# Classes"
   ]
  },
  {
   "cell_type": "markdown",
   "id": "6f8f6656",
   "metadata": {},
   "source": [
    "### \"Classic Example\""
   ]
  },
  {
   "cell_type": "code",
   "execution_count": null,
   "id": "4c6f4d76",
   "metadata": {},
   "outputs": [],
   "source": [
    "class Dog:\n",
    "    \"\"\"A dog (lol, duh)\"\"\"\n",
    "\n",
    "    def __init__(self, name, breed):\n",
    "        \"\"\"Initialize name and breed attributes\"\"\"\n",
    "        self.name = name\n",
    "        self.breed = breed\n",
    "\n",
    "    def sit(self):\n",
    "        \"\"\"Sit on command\"\"\"\n",
    "        print(f\"{self.name} is now sitting\")\n",
    "\n",
    "    def roll_over(self):\n",
    "        \"\"\"Roll over on command\"\"\"\n",
    "        print(f\"{self.name} rolled over\")"
   ]
  },
  {
   "cell_type": "code",
   "execution_count": null,
   "id": "ff46667b",
   "metadata": {},
   "outputs": [],
   "source": [
    "dog = Dog(\"fido\", \"german shepherd\")"
   ]
  },
  {
   "cell_type": "code",
   "execution_count": null,
   "id": "a463a6cd",
   "metadata": {},
   "outputs": [],
   "source": [
    "dog.sit()"
   ]
  },
  {
   "cell_type": "markdown",
   "id": "bd598fb3",
   "metadata": {},
   "source": [
    "### Real Example"
   ]
  },
  {
   "cell_type": "markdown",
   "id": "170f91ea",
   "metadata": {},
   "source": [
    "Create a \"dictionary\" that can do two-way look up:\n",
    "\n",
    "```python\n",
    ">>> d = {\"nihao\": \"hello\"}\n",
    ">>> d[\"nihao\"]\n",
    "\"hello\"\n",
    ">>> d[\"hello\"]\n",
    "\"nihao\"\n",
    "```"
   ]
  },
  {
   "cell_type": "code",
   "execution_count": null,
   "id": "2e9d3dc0",
   "metadata": {},
   "outputs": [],
   "source": [
    "vocab = dict()"
   ]
  },
  {
   "cell_type": "code",
   "execution_count": null,
   "id": "65d7cced",
   "metadata": {},
   "outputs": [],
   "source": [
    "vocab[\"nihao\"] = \"hello\""
   ]
  },
  {
   "cell_type": "code",
   "execution_count": null,
   "id": "7d746002",
   "metadata": {},
   "outputs": [],
   "source": [
    "vocab[\"nihao\"]"
   ]
  },
  {
   "cell_type": "code",
   "execution_count": null,
   "id": "6fbce47a",
   "metadata": {},
   "outputs": [],
   "source": [
    "vocab[\"hello\"] = \"nihao\""
   ]
  },
  {
   "cell_type": "markdown",
   "id": "930b1dc7",
   "metadata": {},
   "source": [
    "### `__init__`"
   ]
  },
  {
   "cell_type": "code",
   "execution_count": null,
   "id": "6386d469",
   "metadata": {},
   "outputs": [],
   "source": [
    "class bidict:\n",
    "    def __init__(self, data):\n",
    "        self.key_dict = data\n",
    "        self.value_dict = {v: k for k, v in data.items()}"
   ]
  },
  {
   "cell_type": "code",
   "execution_count": null,
   "id": "8cc55138",
   "metadata": {},
   "outputs": [],
   "source": [
    "vocab = bidict({\"nihao\": \"hello\"})"
   ]
  },
  {
   "cell_type": "code",
   "execution_count": null,
   "id": "ebb02527",
   "metadata": {},
   "outputs": [],
   "source": [
    "vocab.key_dict[\"nihao\"]"
   ]
  },
  {
   "cell_type": "code",
   "execution_count": null,
   "id": "818b7e1c",
   "metadata": {},
   "outputs": [],
   "source": [
    "vocab.value_dict[\"hello\"]"
   ]
  },
  {
   "cell_type": "code",
   "execution_count": null,
   "id": "b0a262a7",
   "metadata": {},
   "outputs": [],
   "source": [
    "vocab.key_dict[\"ni\"] = \"you\""
   ]
  },
  {
   "cell_type": "code",
   "execution_count": null,
   "id": "4599e6f1",
   "metadata": {},
   "outputs": [],
   "source": [
    "vocab.value_dict"
   ]
  },
  {
   "cell_type": "markdown",
   "id": "080953f9",
   "metadata": {},
   "source": [
    "### Methods + Properties"
   ]
  },
  {
   "cell_type": "code",
   "execution_count": null,
   "id": "88c8445b",
   "metadata": {},
   "outputs": [],
   "source": [
    "class bidict:\n",
    "    def __init__(self, data):\n",
    "        if isinstance(data, dict):\n",
    "            self._kdict = data\n",
    "        else:\n",
    "            raise TypeError(\"data must be a dict\")\n",
    "    \n",
    "    @property\n",
    "    def _vdict(self):\n",
    "        return {v: k for k, v in self._kdict.items()}\n",
    "    \n",
    "    def get(self, key):\n",
    "        return self._kdict.get(key, self._vdict.get(key))"
   ]
  },
  {
   "cell_type": "code",
   "execution_count": null,
   "id": "4bf3faad",
   "metadata": {},
   "outputs": [],
   "source": [
    "vocab = bidict({\"nihao\": \"hello\"})"
   ]
  },
  {
   "cell_type": "code",
   "execution_count": null,
   "id": "e32d5982",
   "metadata": {},
   "outputs": [],
   "source": [
    "vocab.get(\"nihao\")"
   ]
  },
  {
   "cell_type": "code",
   "execution_count": null,
   "id": "d2deda64",
   "metadata": {},
   "outputs": [],
   "source": [
    "vocab._kdict[\"ni\"] = \"you\""
   ]
  },
  {
   "cell_type": "code",
   "execution_count": null,
   "id": "fe7c361b",
   "metadata": {},
   "outputs": [],
   "source": [
    "%%script false --no-raise-error\n",
    "\n",
    "vocab[\"nihao\"]"
   ]
  },
  {
   "cell_type": "code",
   "execution_count": null,
   "id": "81f4ccd6",
   "metadata": {},
   "outputs": [],
   "source": [
    "vocab._vdict"
   ]
  },
  {
   "cell_type": "markdown",
   "id": "1b83addd",
   "metadata": {},
   "source": [
    "### \"Dunder\" Methods"
   ]
  },
  {
   "cell_type": "code",
   "execution_count": null,
   "id": "0cfaf8ed",
   "metadata": {},
   "outputs": [],
   "source": [
    "class bidict:\n",
    "    def __repr__(self):\n",
    "        return self._kdict.__repr__()\n",
    "    \n",
    "    def __init__(self, data):\n",
    "        if isinstance(data, dict):\n",
    "            self._kdict = data\n",
    "        else:\n",
    "            raise TypeError(\"data must be a dict\")\n",
    "    \n",
    "    @property\n",
    "    def _vdict(self):\n",
    "        return {v: k for k, v in self._kdict.items()}\n",
    "    \n",
    "    def get(self, key):\n",
    "        return self._kdict.get(key, self._vdict.get(key))\n",
    "    \n",
    "    def __getitem__(self, key):\n",
    "        try:\n",
    "            return self._kdict[key]\n",
    "        except KeyError:\n",
    "            return self._vdict[key]\n",
    "        \n",
    "    def __setitem__(self, key, newvalue):\n",
    "        self._kdict[key] = newvalue"
   ]
  },
  {
   "cell_type": "code",
   "execution_count": null,
   "id": "5318140e",
   "metadata": {},
   "outputs": [],
   "source": [
    "vocab = bidict({\"nihao\": \"hello\", \"ni\": \"you\"})"
   ]
  },
  {
   "cell_type": "code",
   "execution_count": null,
   "id": "78fb08d8",
   "metadata": {},
   "outputs": [],
   "source": [
    "vocab[\"ni\"]"
   ]
  },
  {
   "cell_type": "code",
   "execution_count": null,
   "id": "6426e529",
   "metadata": {},
   "outputs": [],
   "source": [
    "vocab[\"you\"]"
   ]
  },
  {
   "cell_type": "code",
   "execution_count": null,
   "id": "dab1ec0c",
   "metadata": {},
   "outputs": [],
   "source": [
    "vocab[\"wo\"] = \"i\""
   ]
  },
  {
   "cell_type": "code",
   "execution_count": null,
   "id": "d2b103b9",
   "metadata": {},
   "outputs": [],
   "source": [
    "vocab[\"wo\"]"
   ]
  },
  {
   "cell_type": "code",
   "execution_count": null,
   "id": "cb278e49",
   "metadata": {},
   "outputs": [],
   "source": [
    "vocab"
   ]
  },
  {
   "cell_type": "code",
   "execution_count": null,
   "id": "63da1e22",
   "metadata": {},
   "outputs": [],
   "source": [
    "{\"easier\": \"to_read\"}"
   ]
  },
  {
   "cell_type": "code",
   "execution_count": null,
   "id": "a7a2c363",
   "metadata": {},
   "outputs": [],
   "source": [
    "dir(dict())"
   ]
  },
  {
   "cell_type": "markdown",
   "id": "f04f04c5",
   "metadata": {},
   "source": [
    "### Operator Overloading"
   ]
  },
  {
   "cell_type": "code",
   "execution_count": null,
   "id": "6bb220ae",
   "metadata": {},
   "outputs": [],
   "source": [
    "unidict = {\"key_1\": 1, \"key_2\": 2} | {\"key_3\": 3, \"key_4\": 4, \"key_1\": \"Hey\"}"
   ]
  },
  {
   "cell_type": "code",
   "execution_count": null,
   "id": "68c502c1",
   "metadata": {},
   "outputs": [],
   "source": [
    "class bidict:\n",
    "    def __repr__(self):\n",
    "        return self._kdict.__repr__()\n",
    "    \n",
    "    def __init__(self, data):\n",
    "        if isinstance(data, dict):\n",
    "            self._kdict = data\n",
    "        else:\n",
    "            raise TypeError(\"data must be a dict\")\n",
    "    \n",
    "    @property\n",
    "    def _vdict(self):\n",
    "        return {v: k for k, v in self._kdict.items()}\n",
    "    \n",
    "    def get(self, key):\n",
    "        return self._kdict.get(key, self._vdict.get(key))\n",
    "    \n",
    "    def __getitem__(self, key):\n",
    "        try:\n",
    "            return self._kdict[key]\n",
    "        except KeyError:\n",
    "            return self._vdict[key]\n",
    "        \n",
    "    def __setitem__(self, key, newvalue):\n",
    "        self._kdict[key] = newvalue\n",
    "        \n",
    "    def __or__(self, rhs):\n",
    "        if isinstance(rhs, bidict):\n",
    "            rhs = rhs._kdict\n",
    "        lhs = self._kdict\n",
    "        new = lhs | rhs\n",
    "        return bidict(new)"
   ]
  },
  {
   "cell_type": "code",
   "execution_count": null,
   "id": "6c3d40a6",
   "metadata": {},
   "outputs": [],
   "source": [
    "new_vocab = bidict({\"ni\": \"you\"}) | bidict({\"wo\": \"i\"})"
   ]
  },
  {
   "cell_type": "code",
   "execution_count": null,
   "id": "4e02de99",
   "metadata": {},
   "outputs": [],
   "source": [
    "new_vocab"
   ]
  },
  {
   "cell_type": "markdown",
   "id": "87389928",
   "metadata": {},
   "source": [
    "### Challenge\n",
    "\n",
    "<div class='alert alert-info'>\n",
    "  🎒 Implement an inplace \"__ior__\" (|=) updating method for bidict\n",
    "</div>"
   ]
  },
  {
   "cell_type": "code",
   "execution_count": null,
   "id": "2efdbb37",
   "metadata": {},
   "outputs": [],
   "source": [
    "my_dict = {\"ni\": \"you\"}"
   ]
  },
  {
   "cell_type": "code",
   "execution_count": null,
   "id": "3c82042c",
   "metadata": {},
   "outputs": [],
   "source": [
    "my_dict |= {\"wo\": \"i\"}"
   ]
  },
  {
   "cell_type": "code",
   "execution_count": null,
   "id": "cbace6ea",
   "metadata": {},
   "outputs": [],
   "source": [
    "my_dict"
   ]
  },
  {
   "cell_type": "code",
   "execution_count": null,
   "id": "40069e25",
   "metadata": {},
   "outputs": [],
   "source": [
    "my_number = 4"
   ]
  },
  {
   "cell_type": "code",
   "execution_count": null,
   "id": "51a46302",
   "metadata": {},
   "outputs": [],
   "source": [
    "my_number += 4"
   ]
  },
  {
   "cell_type": "code",
   "execution_count": null,
   "id": "4765a6d8",
   "metadata": {},
   "outputs": [],
   "source": [
    "my_number"
   ]
  },
  {
   "cell_type": "code",
   "execution_count": null,
   "id": "38028873",
   "metadata": {},
   "outputs": [],
   "source": [
    "class bidict:\n",
    "    def __repr__(self):\n",
    "        return self._kdict.__repr__()\n",
    "    \n",
    "    def __init__(self, data=None):\n",
    "        if not data: \n",
    "            self._kdict = dict()\n",
    "        elif isinstance(data, dict):\n",
    "            self._kdict = data\n",
    "        else:\n",
    "            raise TypeError(\"data must be a dict\")\n",
    "    \n",
    "    @property\n",
    "    def _vdict(self):\n",
    "        return {v: k for k, v in self._kdict.items()}\n",
    "    \n",
    "    def get(self, key):\n",
    "        return self._kdict.get(key, self._vdict.get(key))\n",
    "    \n",
    "    def __getitem__(self, key):\n",
    "        try:\n",
    "            return self._kdict[key]\n",
    "        except KeyError:\n",
    "            return self._vdict[key]\n",
    "        \n",
    "    def __setitem__(self, key, newvalue):\n",
    "        self._kdict[key] = newvalue\n",
    "        \n",
    "    def __or__(self, rhs):\n",
    "        if isinstance(rhs, bidict):\n",
    "            rhs = rhs._kdict\n",
    "        lhs = self._kdict\n",
    "        new = lhs | rhs\n",
    "        return bidict(new)\n",
    "    \n",
    "    def __ior__(self, rhs):\n",
    "        self = self | rhs\n",
    "        return self"
   ]
  },
  {
   "cell_type": "code",
   "execution_count": null,
   "id": "de6a7509",
   "metadata": {},
   "outputs": [],
   "source": [
    "vocab = bidict({\"hi\": \"nihao\", \"you\": \"ni\", \"good\": \"hao\"})"
   ]
  },
  {
   "cell_type": "code",
   "execution_count": null,
   "id": "94530bec",
   "metadata": {},
   "outputs": [],
   "source": [
    "vocab |= {\"like\": \"xihuan\"}"
   ]
  },
  {
   "cell_type": "code",
   "execution_count": null,
   "id": "d6475e2e",
   "metadata": {},
   "outputs": [],
   "source": [
    "vocab[\"xihuan\"]"
   ]
  },
  {
   "cell_type": "markdown",
   "id": "c19644fc",
   "metadata": {},
   "source": [
    "### Inheritance"
   ]
  },
  {
   "cell_type": "code",
   "execution_count": null,
   "id": "e8e91360",
   "metadata": {},
   "outputs": [],
   "source": [
    "['rock', 'paper', 'scissors', 'scissors', 'paper']"
   ]
  },
  {
   "cell_type": "code",
   "execution_count": null,
   "id": "6961d311",
   "metadata": {},
   "outputs": [],
   "source": [
    "[1, 2, 0, 0, 2]"
   ]
  },
  {
   "cell_type": "code",
   "execution_count": null,
   "id": "df665103",
   "metadata": {},
   "outputs": [],
   "source": [
    "X = ['rock', 'paper', 'scissors', 'scissors', 'paper']\n",
    "{x: i for i, x in enumerate(set(X))}"
   ]
  },
  {
   "cell_type": "code",
   "execution_count": null,
   "id": "5cb64a75",
   "metadata": {},
   "outputs": [],
   "source": [
    "seqdict = {v: k for k, v in enumerate(set(X))}"
   ]
  },
  {
   "cell_type": "code",
   "execution_count": null,
   "id": "7a5d9c54",
   "metadata": {},
   "outputs": [],
   "source": [
    "{v: k for k, v in seqdict.items()}"
   ]
  },
  {
   "cell_type": "markdown",
   "id": "874f5199",
   "metadata": {},
   "source": [
    "### Blueprint\n",
    "\n",
    "```python\n",
    "X = ['rock', 'paper', 'scissors', 'scissors', 'paper']\n",
    "encoder = Encoder()\n",
    "encoder.fit(X)\n",
    "encoder.transform(X)\n",
    "[1, 2, 0, 0, 2]\n",
    "encoder.inverse_transform(1)\n",
    "\"rock\"\n",
    "```"
   ]
  },
  {
   "cell_type": "code",
   "execution_count": null,
   "id": "502f9ffc",
   "metadata": {},
   "outputs": [],
   "source": [
    "class ListEncoder(bidict):\n",
    "    def __init__(self):\n",
    "        self = super().__init__()\n",
    "        \n",
    "    def fit(self, X):\n",
    "        if not isinstance(X, list):\n",
    "            raise TypeError(\"X must be a list\")\n",
    "        self._kdict = dict(enumerate(set(X)))\n",
    "        return self\n",
    "    \n",
    "    def transform(self, X):\n",
    "        if not isinstance(X, list):\n",
    "            return self._vdict[X]\n",
    "        return [self._vdict.get(xi) for xi in X]\n",
    "    \n",
    "    def inverse_transform(self, X):\n",
    "        if not isinstance(X, list):\n",
    "            return self._kdict[X]\n",
    "        return [self._kdict.get(xi) for xi in X]"
   ]
  },
  {
   "cell_type": "code",
   "execution_count": null,
   "id": "f1fcc834",
   "metadata": {},
   "outputs": [],
   "source": [
    "le = ListEncoder()"
   ]
  },
  {
   "cell_type": "code",
   "execution_count": null,
   "id": "f80d58f6",
   "metadata": {},
   "outputs": [],
   "source": [
    "le.fit([\"R\", \"P\", \"S\", \"R\"])"
   ]
  },
  {
   "cell_type": "code",
   "execution_count": null,
   "id": "cb4d4204",
   "metadata": {},
   "outputs": [],
   "source": [
    "le.transform([\"R\", \"S\"])"
   ]
  },
  {
   "cell_type": "code",
   "execution_count": null,
   "id": "24fa469f",
   "metadata": {},
   "outputs": [],
   "source": [
    "le.transform(\"P\")"
   ]
  },
  {
   "cell_type": "code",
   "execution_count": null,
   "id": "70d6a3ae",
   "metadata": {},
   "outputs": [],
   "source": [
    "le.inverse_transform(1)"
   ]
  },
  {
   "cell_type": "code",
   "execution_count": null,
   "id": "adcee9dc",
   "metadata": {},
   "outputs": [],
   "source": [
    "le.inverse_transform([1, 2, 2, 0])"
   ]
  },
  {
   "cell_type": "markdown",
   "id": "103668a8",
   "metadata": {},
   "source": [
    "### Homework\n",
    "\n",
    "<div class='alert alert-info'>\n",
    "  🎒 Implement a `.fit_transform()` method that fits and then transforms in a single step!\n",
    "</div>"
   ]
  },
  {
   "cell_type": "code",
   "execution_count": null,
   "id": "bbc7b4be",
   "metadata": {},
   "outputs": [],
   "source": [
    "class ListEncoder(bidict):\n",
    "    def __init__(self):\n",
    "        self = super().__init__()\n",
    "        \n",
    "    def fit(self, X):\n",
    "        if not isinstance(X, list):\n",
    "            raise TypeError(\"X must be a list\")\n",
    "        self._kdict = dict(enumerate(set(X)))\n",
    "        return self\n",
    "    \n",
    "    def transform(self, X):\n",
    "        if not isinstance(X, list):\n",
    "            return self._vdict[X]\n",
    "        return [self._vdict.get(xi) for xi in X]\n",
    "    \n",
    "    def inverse_transform(self, X):\n",
    "        if not isinstance(X, list):\n",
    "            return self._kdict[X]\n",
    "        return [self._kdict.get(xi) for xi in X]\n",
    "    \n",
    "    def fit_transform(self, X):\n",
    "        self.fit(X)\n",
    "        return self.transform(X)"
   ]
  },
  {
   "cell_type": "code",
   "execution_count": null,
   "id": "7c4764c9",
   "metadata": {},
   "outputs": [],
   "source": [
    "le = ListEncoder()\n",
    "le.fit_transform([\"R\", \"P\", \"S\", \"R\"])"
   ]
  }
 ],
 "metadata": {
  "kernelspec": {
   "display_name": "Python 3 (ipykernel)",
   "language": "python",
   "name": "python3"
  },
  "language_info": {
   "codemirror_mode": {
    "name": "ipython",
    "version": 3
   },
   "file_extension": ".py",
   "mimetype": "text/x-python",
   "name": "python",
   "nbconvert_exporter": "python",
   "pygments_lexer": "ipython3",
   "version": "3.9.12"
  }
 },
 "nbformat": 4,
 "nbformat_minor": 5
}
