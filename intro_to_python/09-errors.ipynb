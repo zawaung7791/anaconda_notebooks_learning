{
 "cells": [
  {
   "cell_type": "markdown",
   "id": "b0348beb",
   "metadata": {},
   "source": [
    "# Errors"
   ]
  },
  {
   "cell_type": "markdown",
   "id": "f290f2db",
   "metadata": {},
   "source": [
    "### Common Errors"
   ]
  },
  {
   "cell_type": "code",
   "execution_count": null,
   "id": "27092d5d",
   "metadata": {},
   "outputs": [],
   "source": [
    "colours = [\"⬛️\", \"🟩\", \"🟦\", \"🟥\", \"🟧\"]"
   ]
  },
  {
   "cell_type": "code",
   "execution_count": null,
   "id": "7942fb1c",
   "metadata": {},
   "outputs": [],
   "source": [
    "colours[1000]"
   ]
  },
  {
   "cell_type": "code",
   "execution_count": null,
   "id": "f8942e9a",
   "metadata": {},
   "outputs": [],
   "source": [
    "IndexError"
   ]
  },
  {
   "cell_type": "code",
   "execution_count": null,
   "id": "0713ff84",
   "metadata": {},
   "outputs": [],
   "source": [
    "float(\"3.3432.4929,88372\")"
   ]
  },
  {
   "cell_type": "code",
   "execution_count": null,
   "id": "e0b89721",
   "metadata": {},
   "outputs": [],
   "source": [
    "vocab = {\"ni\": \"you\"}"
   ]
  },
  {
   "cell_type": "code",
   "execution_count": null,
   "id": "cd065254",
   "metadata": {},
   "outputs": [],
   "source": [
    "vocab[\"wo\"]"
   ]
  },
  {
   "cell_type": "code",
   "execution_count": null,
   "id": "d8e91610",
   "metadata": {},
   "outputs": [],
   "source": [
    "True and 0 or \"Name\""
   ]
  },
  {
   "cell_type": "code",
   "execution_count": null,
   "id": "edad4777",
   "metadata": {},
   "outputs": [],
   "source": [
    "def func():\n",
    "    my_variable = 1\n",
    "    return my_variable"
   ]
  },
  {
   "cell_type": "code",
   "execution_count": null,
   "id": "011bb3d9",
   "metadata": {},
   "outputs": [],
   "source": [
    "1 + \"1\""
   ]
  },
  {
   "cell_type": "markdown",
   "id": "7ebf4e5b",
   "metadata": {},
   "source": [
    "### \"try\""
   ]
  },
  {
   "cell_type": "code",
   "execution_count": null,
   "id": "2019b8c8",
   "metadata": {},
   "outputs": [],
   "source": [
    "float(\"$5,999.98\")"
   ]
  },
  {
   "cell_type": "markdown",
   "id": "dfcd4de1",
   "metadata": {},
   "source": [
    "### `try` ... `except` ... (`pass`)"
   ]
  },
  {
   "cell_type": "code",
   "execution_count": null,
   "id": "7687faf1",
   "metadata": {},
   "outputs": [],
   "source": [
    "try:\n",
    "    float(\"$5,999.98\")\n",
    "except ValueError:\n",
    "    print(\"Whoopsies\")"
   ]
  },
  {
   "cell_type": "code",
   "execution_count": null,
   "id": "44c182ed",
   "metadata": {},
   "outputs": [],
   "source": [
    "price = \"$5,999.98\"\n",
    "\n",
    "def discount(price, by=0.20):\n",
    "    try:\n",
    "        price = price.replace(\"$\", \"\").replace(\",\", \"\")\n",
    "        price = float(price)\n",
    "    except ValueError:\n",
    "        return None\n",
    "    return price * (1-by)"
   ]
  },
  {
   "cell_type": "code",
   "execution_count": null,
   "id": "b84ad826",
   "metadata": {},
   "outputs": [],
   "source": [
    "discount(\"$10,000.98\", by=0.15)"
   ]
  },
  {
   "cell_type": "markdown",
   "id": "62c5d400",
   "metadata": {},
   "source": [
    "### `raise`"
   ]
  },
  {
   "cell_type": "code",
   "execution_count": null,
   "id": "839c437f",
   "metadata": {},
   "outputs": [],
   "source": [
    "def discount(price, by=0.20):\n",
    "    if by >= 1:\n",
    "        raise ValueError(\"Can't discount by more than 100%!\")\n",
    "    return price * (1-by)"
   ]
  },
  {
   "cell_type": "code",
   "execution_count": null,
   "id": "453d5f14",
   "metadata": {},
   "outputs": [],
   "source": [
    "discount(50, by=1.20)\n",
    "print(\"this\")"
   ]
  },
  {
   "cell_type": "markdown",
   "id": "13c056cc",
   "metadata": {},
   "source": [
    "### Warnings"
   ]
  },
  {
   "cell_type": "code",
   "execution_count": null,
   "id": "236ac92f",
   "metadata": {},
   "outputs": [],
   "source": [
    "import warnings\n",
    "  \n",
    "warnings.warn(\"Use .method2 instead()\", DeprecationWarning)\n",
    "print(\"this will still print\")"
   ]
  },
  {
   "cell_type": "code",
   "execution_count": null,
   "id": "a09d2817",
   "metadata": {},
   "outputs": [],
   "source": [
    "warnings.warn(\"Pandas will give you a lot of warnings!\")"
   ]
  },
  {
   "cell_type": "markdown",
   "id": "15760bfc",
   "metadata": {},
   "source": [
    "- `default`: Show all warnings (even those ignored by default)\n",
    "- `ignore`: Ignore all warnings\n",
    "- `error`: Convert all warnings to errors"
   ]
  },
  {
   "cell_type": "code",
   "execution_count": null,
   "id": "3d274770",
   "metadata": {},
   "outputs": [],
   "source": [
    "warnings.simplefilter('error', UserWarning)"
   ]
  },
  {
   "cell_type": "code",
   "execution_count": null,
   "id": "acbe593c",
   "metadata": {},
   "outputs": [],
   "source": [
    "warnings.warn(\"Pandas will give you a lot of warnings!\")"
   ]
  },
  {
   "cell_type": "code",
   "execution_count": null,
   "id": "83a5cced",
   "metadata": {},
   "outputs": [],
   "source": [
    "warnings.simplefilter('ignore', UserWarning)\n",
    "warnings.simplefilter('ignore', DeprecationWarning)"
   ]
  },
  {
   "cell_type": "code",
   "execution_count": null,
   "id": "7c083eca",
   "metadata": {},
   "outputs": [],
   "source": [
    "warnings.warn(\"Pandas will give you a lot of warnings!\", DeprecationWarning)"
   ]
  },
  {
   "cell_type": "code",
   "execution_count": null,
   "id": "ada876c4",
   "metadata": {},
   "outputs": [],
   "source": [
    "warnings.resetwarnings()"
   ]
  },
  {
   "cell_type": "code",
   "execution_count": null,
   "id": "78362b20",
   "metadata": {},
   "outputs": [],
   "source": [
    "warnings.warn(\"Pandas will give you a lot of warnings!\", DeprecationWarning)"
   ]
  },
  {
   "cell_type": "markdown",
   "id": "ee2e74c0",
   "metadata": {},
   "source": [
    "### `catch_warnings`"
   ]
  },
  {
   "cell_type": "code",
   "execution_count": null,
   "id": "cf059530",
   "metadata": {},
   "outputs": [],
   "source": [
    "def random_letter():\n",
    "    warnings.warn(\"Will return \\\"M\\\" in the 3.1\", FutureWarning)\n",
    "    return \"L\""
   ]
  },
  {
   "cell_type": "code",
   "execution_count": null,
   "id": "7538d441",
   "metadata": {},
   "outputs": [],
   "source": [
    "with warnings.catch_warnings():\n",
    "    warnings.simplefilter(\"ignore\")\n",
    "    letter = random_letter()\n",
    "    print(letter)"
   ]
  },
  {
   "cell_type": "markdown",
   "id": "f1c62db3",
   "metadata": {},
   "source": [
    "### Homework\n",
    "\n",
    "<div class='alert alert-info'>\n",
    "  🎒 Create a discount function that issues a warning if the discount is greater than 80%. Then try to convert the warning into an error!\n",
    "</div>"
   ]
  },
  {
   "cell_type": "code",
   "execution_count": null,
   "id": "ffbece50",
   "metadata": {},
   "outputs": [],
   "source": [
    "def discount(price, by=0.20):\n",
    "    if by >= 1:\n",
    "        raise ValueError(\"Can't discount by more than 100%!\")\n",
    "    if by >= 0.8:\n",
    "        warnings.warn(\"Profit margins will be really thin!\")\n",
    "    return price * (1-by)"
   ]
  },
  {
   "cell_type": "code",
   "execution_count": null,
   "id": "5ca1f27b",
   "metadata": {},
   "outputs": [],
   "source": [
    "discount(500, by=0.85)"
   ]
  },
  {
   "cell_type": "code",
   "execution_count": null,
   "id": "cd7f7216",
   "metadata": {},
   "outputs": [],
   "source": [
    "warnings.simplefilter('error', UserWarning)"
   ]
  },
  {
   "cell_type": "code",
   "execution_count": null,
   "id": "c76efb70",
   "metadata": {},
   "outputs": [],
   "source": [
    "discount(500, by=0.85)"
   ]
  }
 ],
 "metadata": {
  "kernelspec": {
   "display_name": "Python 3 (ipykernel)",
   "language": "python",
   "name": "python3"
  },
  "language_info": {
   "codemirror_mode": {
    "name": "ipython",
    "version": 3
   },
   "file_extension": ".py",
   "mimetype": "text/x-python",
   "name": "python",
   "nbconvert_exporter": "python",
   "pygments_lexer": "ipython3",
   "version": "3.9.12"
  }
 },
 "nbformat": 4,
 "nbformat_minor": 5
}
