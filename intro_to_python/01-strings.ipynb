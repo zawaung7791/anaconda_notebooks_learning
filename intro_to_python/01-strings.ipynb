{
 "cells": [
  {
   "cell_type": "markdown",
   "id": "06c205c1",
   "metadata": {},
   "source": [
    "# Strings"
   ]
  },
  {
   "cell_type": "markdown",
   "id": "e0d3aa0b",
   "metadata": {},
   "source": [
    "### Basics"
   ]
  },
  {
   "cell_type": "code",
   "execution_count": null,
   "id": "23e42c11",
   "metadata": {},
   "outputs": [],
   "source": [
    "\"this is a string that is also a sentence\""
   ]
  },
  {
   "cell_type": "code",
   "execution_count": null,
   "id": "261d484e",
   "metadata": {},
   "outputs": [],
   "source": [
    "'this'"
   ]
  },
  {
   "cell_type": "code",
   "execution_count": null,
   "id": "672389e3",
   "metadata": {},
   "outputs": [],
   "source": [
    "'t'"
   ]
  },
  {
   "cell_type": "code",
   "execution_count": null,
   "id": "0c983215",
   "metadata": {},
   "outputs": [],
   "source": [
    "'598798234792'"
   ]
  },
  {
   "cell_type": "code",
   "execution_count": null,
   "id": "2f51e8fe",
   "metadata": {},
   "outputs": [],
   "source": [
    "'this is a string too '"
   ]
  },
  {
   "cell_type": "code",
   "execution_count": null,
   "id": "6ede7d68",
   "metadata": {},
   "outputs": [],
   "source": [
    "\"\"\"\n",
    "put \n",
    "things\n",
    "on \n",
    "multiple \n",
    "lines\n",
    "\"\"\""
   ]
  },
  {
   "cell_type": "markdown",
   "id": "4919b581",
   "metadata": {},
   "source": [
    "### `print`"
   ]
  },
  {
   "cell_type": "code",
   "execution_count": null,
   "id": "c5dac2b9",
   "metadata": {},
   "outputs": [],
   "source": [
    "'string 1'\n",
    "'string 2'\n",
    "'string 3'"
   ]
  },
  {
   "cell_type": "code",
   "execution_count": null,
   "id": "2946f0e0",
   "metadata": {},
   "outputs": [],
   "source": [
    "print('string 1')\n",
    "print('string 2')\n",
    "print('string 3')"
   ]
  },
  {
   "cell_type": "markdown",
   "id": "c0198a7e",
   "metadata": {},
   "source": [
    "### Variables"
   ]
  },
  {
   "cell_type": "code",
   "execution_count": null,
   "id": "ac4b23cf",
   "metadata": {},
   "outputs": [],
   "source": [
    "word = \"Microphone\""
   ]
  },
  {
   "cell_type": "code",
   "execution_count": null,
   "id": "d6620c3a",
   "metadata": {},
   "outputs": [],
   "source": [
    "word = \"Camera\""
   ]
  },
  {
   "cell_type": "code",
   "execution_count": null,
   "id": "6a4bcd48",
   "metadata": {},
   "outputs": [],
   "source": [
    "word"
   ]
  },
  {
   "cell_type": "code",
   "execution_count": null,
   "id": "ddeb51eb",
   "metadata": {},
   "outputs": [],
   "source": [
    "in_snake_case = \"this is another variable\""
   ]
  },
  {
   "cell_type": "code",
   "execution_count": null,
   "id": "9bfc010e",
   "metadata": {},
   "outputs": [],
   "source": [
    "camelCase = 'Do as the romans do... so don\\'t write camel case'"
   ]
  },
  {
   "cell_type": "markdown",
   "id": "438e30bf",
   "metadata": {},
   "source": [
    "### Interpolation"
   ]
  },
  {
   "cell_type": "code",
   "execution_count": null,
   "id": "1bccb4a6",
   "metadata": {},
   "outputs": [],
   "source": [
    "word = \"Microphone\""
   ]
  },
  {
   "cell_type": "code",
   "execution_count": null,
   "id": "cca00969",
   "metadata": {},
   "outputs": [],
   "source": [
    "f\"My word is: {word}\""
   ]
  },
  {
   "cell_type": "code",
   "execution_count": null,
   "id": "adef6d40",
   "metadata": {},
   "outputs": [],
   "source": [
    "my_name = \"Max\""
   ]
  },
  {
   "cell_type": "code",
   "execution_count": null,
   "id": "e8551755",
   "metadata": {},
   "outputs": [],
   "source": [
    "f\"Hi my name is {my_name}\""
   ]
  },
  {
   "cell_type": "code",
   "execution_count": null,
   "id": "0a1f7ebb",
   "metadata": {},
   "outputs": [],
   "source": [
    "name = \"Max\"\n",
    "colour = \"⬛️\"\n",
    "country = \"🇨🇦\"\n",
    "\n",
    "f\"Hi, my name is {name}, my favourite colour is {colour}, and I live in {country}\""
   ]
  },
  {
   "cell_type": "markdown",
   "id": "5555b83a",
   "metadata": {},
   "source": [
    "### Challenge\n",
    "\n",
    "<div class='alert alert-info'>\n",
    "  🎒\n",
    "  Code a \"story\" about your name, age, and favourite TV show\n",
    "</div>\n",
    "<br/>\n",
    "<details>\n",
    "<summary><u>Solution</u></summary>\n",
    "    \n",
    "```python\n",
    "my_name = \"Maggie\"\n",
    "my_age = \"∞\"\n",
    "my_TV = \"The Afterparty\"\n",
    "print(f\"Hi, I'm {my_name}, I'm {my_age} years-old, and I love \\\"{my_TV}\\\".\")\n",
    "```\n",
    "    \n",
    "> Hi, I'm Maggie, I'm ∞ years-old, and I love \"The Afterparty\".\n",
    "    \n",
    "<div class='alert alert-warning'>\n",
    "  ❌✍️ Just don't do this...\n",
    "</div>\n",
    "   \n",
    "```python\n",
    "myName = \"pleaseDont\"\n",
    "myAge = \"thisIsCalledCamelCase\"\n",
    "myTV = \"python_uses_snake_case_99%_of_the_time\"\n",
    "``` \n",
    "    \n",
    "</details>"
   ]
  },
  {
   "cell_type": "code",
   "execution_count": null,
   "id": "c930248a",
   "metadata": {},
   "outputs": [],
   "source": [
    "my_name = \"Maggie\"\n",
    "my_age = \"∞\"\n",
    "my_TV = \"The Afterparty\"\n",
    "print(f\"Hi, I'm {my_name}, I'm {my_age} years-old, and I love \\\"{my_TV}\\\".\")"
   ]
  },
  {
   "cell_type": "markdown",
   "id": "99839e84",
   "metadata": {},
   "source": [
    "### String Methods"
   ]
  },
  {
   "cell_type": "code",
   "execution_count": null,
   "id": "e9a9c84a",
   "metadata": {},
   "outputs": [],
   "source": [
    "name\n",
    "type(name)"
   ]
  },
  {
   "cell_type": "code",
   "execution_count": null,
   "id": "afac2c90",
   "metadata": {},
   "outputs": [],
   "source": [
    "dir(name)"
   ]
  },
  {
   "cell_type": "markdown",
   "id": "1b7d13e9",
   "metadata": {},
   "source": [
    "<div class='alert alert-success'>\n",
    "  🔬🧵 Don't get overwhelmed, just look at a couple\n",
    "</div>"
   ]
  },
  {
   "cell_type": "markdown",
   "id": "d031efdf",
   "metadata": {},
   "source": [
    "- `.upper`\n",
    "- `.lower`\n",
    "- `.strip`\n",
    "- `.endswith`\n",
    "- `.startswith`"
   ]
  },
  {
   "cell_type": "code",
   "execution_count": null,
   "id": "dec098a5",
   "metadata": {},
   "outputs": [],
   "source": [
    "full_name = \"max humber\"\n",
    "full_name.title()"
   ]
  },
  {
   "cell_type": "code",
   "execution_count": null,
   "id": "1a46de84",
   "metadata": {},
   "outputs": [],
   "source": [
    "\"SALKJHK;DJHFLKAWEHFLKSDHFLFKJDS\".lower()"
   ]
  },
  {
   "cell_type": "code",
   "execution_count": null,
   "id": "c3407dfb",
   "metadata": {},
   "outputs": [],
   "source": [
    "\"       Lot's of padding.       \".strip()"
   ]
  },
  {
   "cell_type": "code",
   "execution_count": null,
   "id": "8978878e",
   "metadata": {},
   "outputs": [],
   "source": [
    "\"song_243.mp3\".endswith(\".flac\")"
   ]
  },
  {
   "cell_type": "markdown",
   "id": "5767bd7f",
   "metadata": {},
   "source": [
    "### `in`"
   ]
  },
  {
   "cell_type": "code",
   "execution_count": null,
   "id": "8e0e836b",
   "metadata": {},
   "outputs": [],
   "source": [
    "\"good\" in \"good bye\""
   ]
  },
  {
   "cell_type": "code",
   "execution_count": null,
   "id": "2b9be66a",
   "metadata": {},
   "outputs": [],
   "source": [
    "\"Good\".lower() in \"good bye\""
   ]
  },
  {
   "cell_type": "markdown",
   "id": "7fc66329",
   "metadata": {},
   "source": [
    "### Homework\n",
    "\n",
    "<div class='alert alert-info'>\n",
    "  🎒 Replace all of the punctuation in the following quotes\n",
    "</div>"
   ]
  },
  {
   "cell_type": "code",
   "execution_count": null,
   "id": "fba54188",
   "metadata": {},
   "outputs": [],
   "source": [
    "quote_1 = \"Oh I gotta get on that internet, I'm late on everything!\""
   ]
  },
  {
   "cell_type": "code",
   "execution_count": null,
   "id": "38f75559",
   "metadata": {},
   "outputs": [],
   "source": [
    "quote_1 = quote_1.lower().replace(\",\", \"\").replace(\"!\", \"\").replace(\"'\", \"\")"
   ]
  },
  {
   "cell_type": "code",
   "execution_count": null,
   "id": "e1255930",
   "metadata": {},
   "outputs": [],
   "source": [
    "quote_2 = \"What’s the deal with lampshades? I mean if it’s a lamp, why do you want shade?\""
   ]
  },
  {
   "cell_type": "code",
   "execution_count": null,
   "id": "346eb19c",
   "metadata": {},
   "outputs": [],
   "source": [
    "quote_2.replace(\"?\", \"\").replace(\"’\", \"\").replace(\",\", \"\").lower()"
   ]
  }
 ],
 "metadata": {
  "kernelspec": {
   "display_name": "Python 3 (ipykernel)",
   "language": "python",
   "name": "python3"
  },
  "language_info": {
   "codemirror_mode": {
    "name": "ipython",
    "version": 3
   },
   "file_extension": ".py",
   "mimetype": "text/x-python",
   "name": "python",
   "nbconvert_exporter": "python",
   "pygments_lexer": "ipython3",
   "version": "3.9.12"
  }
 },
 "nbformat": 4,
 "nbformat_minor": 5
}
