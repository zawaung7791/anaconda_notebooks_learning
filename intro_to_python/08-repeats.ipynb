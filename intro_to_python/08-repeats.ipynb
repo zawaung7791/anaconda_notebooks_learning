{
 "cells": [
  {
   "cell_type": "markdown",
   "id": "10e6c566",
   "metadata": {},
   "source": [
    "# \"Repeats\""
   ]
  },
  {
   "cell_type": "markdown",
   "id": "0204079b",
   "metadata": {},
   "source": [
    "### From Map"
   ]
  },
  {
   "cell_type": "code",
   "execution_count": null,
   "id": "ae3293d6",
   "metadata": {},
   "outputs": [],
   "source": [
    "def mp3_to_flac(x): \n",
    "    return f\"my_song_{x.split('.')[0]}.flac\"\n",
    "\n",
    "songs = ['1.mp3', '2.mp3', '3.mp3']\n",
    "csongs = map(mp3_to_flac, songs)\n",
    "list(csongs)"
   ]
  },
  {
   "cell_type": "markdown",
   "id": "7820b6bd",
   "metadata": {},
   "source": [
    "### To Loop"
   ]
  },
  {
   "cell_type": "code",
   "execution_count": null,
   "id": "4cedd79e",
   "metadata": {},
   "outputs": [],
   "source": [
    "for song in songs:\n",
    "    flac_song = mp3_to_flac(song)\n",
    "    print(flac_song)"
   ]
  },
  {
   "cell_type": "markdown",
   "id": "4d1211ce",
   "metadata": {},
   "source": [
    "### Iterables"
   ]
  },
  {
   "cell_type": "code",
   "execution_count": null,
   "id": "aad2365f",
   "metadata": {},
   "outputs": [],
   "source": [
    "for number in [1, 2, 3, 4]:\n",
    "    print(number)"
   ]
  },
  {
   "cell_type": "code",
   "execution_count": null,
   "id": "145306be",
   "metadata": {},
   "outputs": [],
   "source": [
    "for letter in \"this sentence\":\n",
    "    print(letter)"
   ]
  },
  {
   "cell_type": "code",
   "execution_count": null,
   "id": "c95dd446",
   "metadata": {},
   "outputs": [],
   "source": [
    "iterable_1 = \"abcdef\"\n",
    "iterable_2 = [1, 2, 3, 4]\n",
    "iterable_3 = map(mp3_to_flac, ['1.mp3', '2.mp3', '3.mp3'])\n",
    "iterable_4 = {\"even\": \"dictionaries\", \"are\": \"iterables\"}\n",
    "iterable_5 = range(1, 5)"
   ]
  },
  {
   "cell_type": "code",
   "execution_count": null,
   "id": "5af947bf",
   "metadata": {},
   "outputs": [],
   "source": [
    "for i in range(1, 5+1):\n",
    "    print(i)"
   ]
  },
  {
   "cell_type": "markdown",
   "id": "4eebc8f3",
   "metadata": {},
   "source": [
    "### `for` loops"
   ]
  },
  {
   "cell_type": "code",
   "execution_count": null,
   "id": "00b49721",
   "metadata": {},
   "outputs": [],
   "source": [
    "converted = []\n",
    "for song in songs:\n",
    "    flac_song = mp3_to_flac(song)\n",
    "    converted.append(flac_song)"
   ]
  },
  {
   "cell_type": "code",
   "execution_count": null,
   "id": "f2a8df42",
   "metadata": {},
   "outputs": [],
   "source": [
    "converted"
   ]
  },
  {
   "cell_type": "code",
   "execution_count": null,
   "id": "d16d4947",
   "metadata": {},
   "outputs": [],
   "source": [
    "list(map(lambda song: f\"my_song_{song.split('.')[0]}.flac\", ['1.mp3', '2.mp3', '3.mp3']))"
   ]
  },
  {
   "cell_type": "markdown",
   "id": "01ce0264",
   "metadata": {},
   "source": [
    "### FizzBuzz"
   ]
  },
  {
   "cell_type": "code",
   "execution_count": null,
   "id": "cc6feca1",
   "metadata": {},
   "outputs": [],
   "source": [
    "def fizzbuzz(number): \n",
    "    if number % 3 == 0 and number % 5 == 0:\n",
    "        return \"fizzbuzz\"\n",
    "    elif number % 3 == 0:\n",
    "        return \"fizz\"\n",
    "    elif number % 5 == 0:\n",
    "        return \"buzz\"\n",
    "    else:\n",
    "        return number"
   ]
  },
  {
   "cell_type": "code",
   "execution_count": null,
   "id": "61ac42b0",
   "metadata": {},
   "outputs": [],
   "source": [
    "fizzbuzz(1)"
   ]
  },
  {
   "cell_type": "code",
   "execution_count": null,
   "id": "bab5b675",
   "metadata": {},
   "outputs": [],
   "source": [
    "fizzbuzz(3)"
   ]
  },
  {
   "cell_type": "code",
   "execution_count": null,
   "id": "3ca0083e",
   "metadata": {},
   "outputs": [],
   "source": [
    "fizzed_numbers = []\n",
    "for number in range(1, 100+1):\n",
    "    fn = fizzbuzz(number)\n",
    "    fizzed_numbers.append(fn)\n",
    "    \n",
    "print(fizzed_numbers)"
   ]
  },
  {
   "cell_type": "code",
   "execution_count": null,
   "id": "095ab1f8",
   "metadata": {},
   "outputs": [],
   "source": [
    "list(map(fizzbuzz, range(1, 100+1)))"
   ]
  },
  {
   "cell_type": "markdown",
   "id": "faefc1f8",
   "metadata": {},
   "source": [
    "### `enumerate`"
   ]
  },
  {
   "cell_type": "code",
   "execution_count": null,
   "id": "5741f26e",
   "metadata": {},
   "outputs": [],
   "source": [
    "dow = [\"Monday\", \"Tuesday\", \"Wednesday\", \"Thursday\", \"Friday\", \"Saturday\", \"Sunday\"]"
   ]
  },
  {
   "cell_type": "code",
   "execution_count": null,
   "id": "2fb057e8",
   "metadata": {},
   "outputs": [],
   "source": [
    "for i, day in enumerate(dow):\n",
    "    print(f\"{i} -> {day}\")"
   ]
  },
  {
   "cell_type": "markdown",
   "id": "0257034d",
   "metadata": {},
   "source": [
    "### Challenge\n",
    "\n",
    "<div class='alert alert-info'>\n",
    "  🎒 Solve this real life Interview Problem!\n",
    "</div>\n",
    "\n",
    "> You are given an integer array prices where prices[i] is the price of a given stock on the ith day.\n",
    "On each day, you may decide to buy and/or sell the stock.\n",
    "You can only hold at most one share of the stock at any time.\n",
    "However, you can buy it then immediately sell it on the same day.\n",
    "Find and return the maximum profit you can achieve."
   ]
  },
  {
   "cell_type": "code",
   "execution_count": null,
   "id": "444513f8",
   "metadata": {},
   "outputs": [],
   "source": [
    "prices = [1, 2, 7, 4, 3, 2, 8, 1]"
   ]
  },
  {
   "cell_type": "code",
   "execution_count": null,
   "id": "ac39c9c0",
   "metadata": {},
   "outputs": [],
   "source": [
    "def max_profit(prices):\n",
    "    profit = 0\n",
    "    for yesterday, today in zip(prices, prices[1:]):\n",
    "        if today >= yesterday:\n",
    "            profit += today - yesterday\n",
    "    return profit"
   ]
  },
  {
   "cell_type": "code",
   "execution_count": null,
   "id": "fcffa52a",
   "metadata": {},
   "outputs": [],
   "source": [
    "max_profit([5, 5, 5, 4, 5])"
   ]
  },
  {
   "cell_type": "markdown",
   "id": "7b93dce8",
   "metadata": {},
   "source": [
    "### `while` Loops"
   ]
  },
  {
   "cell_type": "code",
   "execution_count": null,
   "id": "badcbf8b",
   "metadata": {},
   "outputs": [],
   "source": [
    "import random"
   ]
  },
  {
   "cell_type": "code",
   "execution_count": null,
   "id": "ff14a7ac",
   "metadata": {},
   "outputs": [],
   "source": [
    "target = 100_000\n",
    "visitors = []\n",
    "\n",
    "while sum(visitors) < target:\n",
    "    day = random.randrange(300, 10_000)\n",
    "    visitors.append(day)"
   ]
  },
  {
   "cell_type": "code",
   "execution_count": null,
   "id": "5c075451",
   "metadata": {},
   "outputs": [],
   "source": [
    "len(visitors)"
   ]
  },
  {
   "cell_type": "code",
   "execution_count": null,
   "id": "688180a8",
   "metadata": {},
   "outputs": [],
   "source": [
    "visitors"
   ]
  },
  {
   "cell_type": "markdown",
   "id": "33cf24de",
   "metadata": {},
   "source": [
    "### Infinite Loops + `Break`"
   ]
  },
  {
   "cell_type": "code",
   "execution_count": null,
   "id": "451d286c",
   "metadata": {},
   "outputs": [],
   "source": [
    "while True:\n",
    "    response = input(\"Do you like vegetables \")\n",
    "    if response.lower() in [\"yes\", \"y\"]:\n",
    "        print(\"Same!\")\n",
    "        break"
   ]
  },
  {
   "cell_type": "code",
   "execution_count": null,
   "id": "51fb5692",
   "metadata": {},
   "outputs": [],
   "source": [
    "print(\"I'm back!\")"
   ]
  },
  {
   "cell_type": "markdown",
   "id": "e5d0cbd0",
   "metadata": {},
   "source": [
    "### List Comprehensions"
   ]
  },
  {
   "cell_type": "code",
   "execution_count": null,
   "id": "0ae7dfc2",
   "metadata": {},
   "outputs": [],
   "source": [
    "def mp3_to_flac(x): \n",
    "    return f\"my_song_{x.split('.')[0]}.flac\"\n",
    "\n",
    "songs = ['1.mp3', '2.mp3', '3.mp3']\n",
    "csongs = map(mp3_to_flac, songs)"
   ]
  },
  {
   "cell_type": "code",
   "execution_count": null,
   "id": "7f0d3aca",
   "metadata": {},
   "outputs": [],
   "source": [
    "[mp3_to_flac(x) for x in songs]"
   ]
  },
  {
   "cell_type": "code",
   "execution_count": null,
   "id": "51d5a766",
   "metadata": {},
   "outputs": [],
   "source": [
    "[mp3_to_flac(x) for x in songs]"
   ]
  },
  {
   "cell_type": "code",
   "execution_count": null,
   "id": "ddb5dda1",
   "metadata": {},
   "outputs": [],
   "source": [
    "csongs = []\n",
    "for x in songs:\n",
    "    csongs.append(mp3_to_flac(x))\n",
    "print(csongs)"
   ]
  },
  {
   "cell_type": "code",
   "execution_count": null,
   "id": "b160a2b1",
   "metadata": {},
   "outputs": [],
   "source": [
    "emojis = {\"😇\": \"good\", \"😈\": \"bad\", \"😞\": \"sad\"} "
   ]
  },
  {
   "cell_type": "code",
   "execution_count": null,
   "id": "5a2204b6",
   "metadata": {},
   "outputs": [],
   "source": [
    "emojis[\"😇\"]"
   ]
  },
  {
   "cell_type": "code",
   "execution_count": null,
   "id": "3a6dfea7",
   "metadata": {},
   "outputs": [],
   "source": [
    "%%script false --no-raise-error\n",
    "\n",
    "emojis[\"good\"]"
   ]
  },
  {
   "cell_type": "code",
   "execution_count": null,
   "id": "b255b871",
   "metadata": {},
   "outputs": [],
   "source": [
    "emojis2 = {value: key for key, value in emojis.items()}"
   ]
  },
  {
   "cell_type": "code",
   "execution_count": null,
   "id": "518151e0",
   "metadata": {},
   "outputs": [],
   "source": [
    "{value: key for key, value in emojis.items()}"
   ]
  },
  {
   "cell_type": "code",
   "execution_count": null,
   "id": "2b6423ef",
   "metadata": {},
   "outputs": [],
   "source": [
    "emojis[\"😇\"]"
   ]
  },
  {
   "cell_type": "code",
   "execution_count": null,
   "id": "536ad20d",
   "metadata": {},
   "outputs": [],
   "source": [
    "emojis2[\"good\"]"
   ]
  },
  {
   "cell_type": "markdown",
   "id": "5629a513",
   "metadata": {},
   "source": [
    "### Recursion"
   ]
  },
  {
   "cell_type": "code",
   "execution_count": null,
   "id": "6e25ef9f",
   "metadata": {},
   "outputs": [],
   "source": [
    "def countdown(n):\n",
    "    if n > 0: \n",
    "        print(n)\n",
    "        countdown(n-1)\n",
    "    else:\n",
    "        print(\"🤯\")\n",
    "        return"
   ]
  },
  {
   "cell_type": "code",
   "execution_count": null,
   "id": "a59853f8",
   "metadata": {},
   "outputs": [],
   "source": [
    "countdown(10)"
   ]
  },
  {
   "cell_type": "code",
   "execution_count": null,
   "id": "0cb862ac",
   "metadata": {},
   "outputs": [],
   "source": [
    "def countdown(n):\n",
    "    while n > 0:\n",
    "        print(n)\n",
    "        n -= 1\n",
    "    print(\"🤯\")"
   ]
  },
  {
   "cell_type": "code",
   "execution_count": null,
   "id": "9d7214b6",
   "metadata": {},
   "outputs": [],
   "source": [
    "countdown(n=10)"
   ]
  },
  {
   "cell_type": "markdown",
   "id": "cd77087c",
   "metadata": {},
   "source": [
    "### [tqdm](https://github.com/tqdm/tqdm)"
   ]
  },
  {
   "cell_type": "code",
   "execution_count": null,
   "id": "ea1378ef",
   "metadata": {},
   "outputs": [],
   "source": [
    "import time\n",
    "import random\n",
    "from tqdm import tqdm\n",
    "\n",
    "pages = range(1, 50)\n",
    "\n",
    "for page in tqdm(pages):\n",
    "    time.sleep(random.randrange(1, 10)/10)"
   ]
  },
  {
   "cell_type": "markdown",
   "id": "605338b0",
   "metadata": {},
   "source": [
    "### Homework\n",
    "\n",
    "<div class='alert alert-info'>\n",
    "  🎒 Solve this \"Interview\" style question...\n",
    "</div>"
   ]
  },
  {
   "cell_type": "code",
   "execution_count": null,
   "id": "d4820d62",
   "metadata": {},
   "outputs": [],
   "source": [
    "'''\n",
    "Imagine we have a \"robot\" that picks items from a shelf. \n",
    "The robot can go up (U), down (D), left (L), or right (R)... \n",
    "Given a sequence of \"directions\", create a function to determine if the \n",
    "robot successfully picked the item from the shelf and has returned\n",
    "to it's starting position.\n",
    " \n",
    "Example 1:\n",
    "Input: moves = \"UDUD\"\n",
    "Output: true\n",
    "\n",
    "Example 2:\n",
    "Input: moves = \"LLLLDDDU\"\n",
    "Output: false\n",
    "\n",
    "Example 3:\n",
    "Input: moves = \"RRDDLULU\"\n",
    "Output: true\n",
    "'''"
   ]
  },
  {
   "cell_type": "code",
   "execution_count": null,
   "id": "e83ace9f",
   "metadata": {},
   "outputs": [],
   "source": [
    "moves = \"LLLLDDDU\"\n",
    "\n",
    "def did_pick_and_return(moves):\n",
    "    x = y = 0\n",
    "    for move in moves:\n",
    "        if move == 'R':\n",
    "            x += 1\n",
    "        if move == 'L':\n",
    "            x -= 1\n",
    "        if move == 'U':\n",
    "            y += 1\n",
    "        if move == 'D':\n",
    "            y -= 1\n",
    "    return x == 0 and y == 0"
   ]
  },
  {
   "cell_type": "code",
   "execution_count": null,
   "id": "f8098b50",
   "metadata": {},
   "outputs": [],
   "source": [
    "did_pick_and_return(\"RRDDLULU\")"
   ]
  }
 ],
 "metadata": {
  "kernelspec": {
   "display_name": "Python 3 (ipykernel)",
   "language": "python",
   "name": "python3"
  },
  "language_info": {
   "codemirror_mode": {
    "name": "ipython",
    "version": 3
   },
   "file_extension": ".py",
   "mimetype": "text/x-python",
   "name": "python",
   "nbconvert_exporter": "python",
   "pygments_lexer": "ipython3",
   "version": "3.9.12"
  }
 },
 "nbformat": 4,
 "nbformat_minor": 5
}
