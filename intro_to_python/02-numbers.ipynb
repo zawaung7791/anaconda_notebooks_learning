{
 "cells": [
  {
   "cell_type": "markdown",
   "id": "b58fe37b",
   "metadata": {},
   "source": [
    "# Numbers"
   ]
  },
  {
   "cell_type": "markdown",
   "id": "17de6852",
   "metadata": {},
   "source": [
    "### Ints"
   ]
  },
  {
   "cell_type": "code",
   "execution_count": null,
   "id": "dbd6281a",
   "metadata": {},
   "outputs": [],
   "source": [
    "5"
   ]
  },
  {
   "cell_type": "code",
   "execution_count": null,
   "id": "417768fb",
   "metadata": {},
   "outputs": [],
   "source": [
    "type(4)"
   ]
  },
  {
   "cell_type": "markdown",
   "id": "1b703b8e",
   "metadata": {},
   "source": [
    "### Floats "
   ]
  },
  {
   "cell_type": "code",
   "execution_count": null,
   "id": "f88fccfd",
   "metadata": {},
   "outputs": [],
   "source": [
    "5.05"
   ]
  },
  {
   "cell_type": "code",
   "execution_count": null,
   "id": "ce342c74",
   "metadata": {},
   "outputs": [],
   "source": [
    "6.0"
   ]
  },
  {
   "cell_type": "code",
   "execution_count": null,
   "id": "15e8ab9d",
   "metadata": {},
   "outputs": [],
   "source": [
    "type(10.00000000048)"
   ]
  },
  {
   "cell_type": "markdown",
   "id": "fea5b2e3",
   "metadata": {},
   "source": [
    "### Operators I"
   ]
  },
  {
   "cell_type": "code",
   "execution_count": null,
   "id": "a2612550",
   "metadata": {},
   "outputs": [],
   "source": [
    "2 + 2"
   ]
  },
  {
   "cell_type": "code",
   "execution_count": null,
   "id": "cf70421b",
   "metadata": {},
   "outputs": [],
   "source": [
    "2 * 3"
   ]
  },
  {
   "cell_type": "code",
   "execution_count": null,
   "id": "cdd8f715",
   "metadata": {},
   "outputs": [],
   "source": [
    "9 / 3"
   ]
  },
  {
   "cell_type": "code",
   "execution_count": null,
   "id": "ff117543",
   "metadata": {},
   "outputs": [],
   "source": [
    "9 - 2"
   ]
  },
  {
   "cell_type": "code",
   "execution_count": null,
   "id": "3e15271f",
   "metadata": {},
   "outputs": [],
   "source": [
    "print(f\"{9-2=}\")"
   ]
  },
  {
   "cell_type": "markdown",
   "id": "6544ceef",
   "metadata": {},
   "source": [
    "### Exponents"
   ]
  },
  {
   "cell_type": "code",
   "execution_count": null,
   "id": "bb66f20e",
   "metadata": {},
   "outputs": [],
   "source": [
    "2 ** 3"
   ]
  },
  {
   "cell_type": "code",
   "execution_count": null,
   "id": "5b2f8dd2",
   "metadata": {},
   "outputs": [],
   "source": [
    "10.5 ** 4.8"
   ]
  },
  {
   "cell_type": "code",
   "execution_count": null,
   "id": "17a1de05",
   "metadata": {},
   "outputs": [],
   "source": [
    "100 ** (1/2)"
   ]
  },
  {
   "cell_type": "markdown",
   "id": "5f14235c",
   "metadata": {},
   "source": [
    "### Brackets"
   ]
  },
  {
   "cell_type": "code",
   "execution_count": null,
   "id": "8b290122",
   "metadata": {},
   "outputs": [],
   "source": [
    "2 + 2 - 2 / 2 * 2"
   ]
  },
  {
   "cell_type": "code",
   "execution_count": null,
   "id": "6273b4be",
   "metadata": {},
   "outputs": [],
   "source": [
    "((2 + 2) - 2) / (2 * 2)"
   ]
  },
  {
   "cell_type": "markdown",
   "id": "fe66c69e",
   "metadata": {},
   "source": [
    "### Challenge\n",
    "\n",
    "<div class='alert alert-info'>\n",
    "  🎒\n",
    "  Solve these terrible Facebook/LinkedIn \"Memes\"\n",
    "</div>"
   ]
  },
  {
   "cell_type": "markdown",
   "id": "2815111a",
   "metadata": {},
   "source": [
    "<img width=300 src=\"https://mindyourdecisions.com/blog/wp-content/uploads/2019/07/viral-meme-230-preview-600.png\" />\n",
    "\n",
    "<img width=300 src=\"https://static01.nyt.com/images/2019/08/02/science/02EQUATION1/merlin_158743359_ff291f8a-d473-4849-9d81-9762826b55f4-superJumbo.jpg?quality=75&auto=webp\" />\n",
    "\n",
    "[Source](https://www.nytimes.com/2019/08/02/science/math-equation-pedmas-bemdas-bedmas.html)"
   ]
  },
  {
   "cell_type": "code",
   "execution_count": null,
   "id": "c8ffe081",
   "metadata": {},
   "outputs": [],
   "source": [
    "230 - 220 / 2"
   ]
  },
  {
   "cell_type": "code",
   "execution_count": null,
   "id": "05d9f2b4",
   "metadata": {},
   "outputs": [],
   "source": [
    "8 / 2 * (2 + 2)"
   ]
  },
  {
   "cell_type": "markdown",
   "id": "768032bf",
   "metadata": {},
   "source": [
    "### Floor Division"
   ]
  },
  {
   "cell_type": "code",
   "execution_count": null,
   "id": "3377d219",
   "metadata": {},
   "outputs": [],
   "source": [
    "9.1 // 3"
   ]
  },
  {
   "cell_type": "code",
   "execution_count": null,
   "id": "844e3d24",
   "metadata": {
    "scrolled": true
   },
   "outputs": [],
   "source": [
    "8.9 // 3"
   ]
  },
  {
   "cell_type": "markdown",
   "id": "16893af1",
   "metadata": {},
   "source": [
    "### Rounding"
   ]
  },
  {
   "cell_type": "code",
   "execution_count": null,
   "id": "ae984e30",
   "metadata": {},
   "outputs": [],
   "source": [
    "round(9.1)"
   ]
  },
  {
   "cell_type": "code",
   "execution_count": null,
   "id": "bbf91aed",
   "metadata": {},
   "outputs": [],
   "source": [
    "round(4.5000001)"
   ]
  },
  {
   "cell_type": "code",
   "execution_count": null,
   "id": "56e86c0b",
   "metadata": {},
   "outputs": [],
   "source": [
    "round(3.5)"
   ]
  },
  {
   "cell_type": "code",
   "execution_count": null,
   "id": "490f0007",
   "metadata": {},
   "outputs": [],
   "source": [
    "round(9.8765, 2)"
   ]
  },
  {
   "cell_type": "code",
   "execution_count": null,
   "id": "271d50fe",
   "metadata": {},
   "outputs": [],
   "source": [
    "round(89231.34, -2)"
   ]
  },
  {
   "cell_type": "markdown",
   "id": "5bac530b",
   "metadata": {},
   "source": [
    "### The Modulo Operator"
   ]
  },
  {
   "cell_type": "code",
   "execution_count": null,
   "id": "0bc721e3",
   "metadata": {},
   "outputs": [],
   "source": [
    "8 % 2"
   ]
  },
  {
   "cell_type": "code",
   "execution_count": null,
   "id": "9c60fc29",
   "metadata": {},
   "outputs": [],
   "source": [
    "8 / 2"
   ]
  },
  {
   "cell_type": "code",
   "execution_count": null,
   "id": "ab95fc62",
   "metadata": {},
   "outputs": [],
   "source": [
    "9 % 2"
   ]
  },
  {
   "cell_type": "code",
   "execution_count": null,
   "id": "bfe78c73",
   "metadata": {},
   "outputs": [],
   "source": [
    "9 / 2"
   ]
  },
  {
   "cell_type": "markdown",
   "id": "7aad7f97",
   "metadata": {},
   "source": [
    "### Big Numbers"
   ]
  },
  {
   "cell_type": "code",
   "execution_count": null,
   "id": "60057db3",
   "metadata": {},
   "outputs": [],
   "source": [
    "7e3"
   ]
  },
  {
   "cell_type": "code",
   "execution_count": null,
   "id": "3f60fe8b",
   "metadata": {},
   "outputs": [],
   "source": [
    "type(100_000_000)"
   ]
  },
  {
   "cell_type": "code",
   "execution_count": null,
   "id": "c5db58cc",
   "metadata": {},
   "outputs": [],
   "source": [
    "x = 100_000_000\n",
    "x * 3"
   ]
  },
  {
   "cell_type": "markdown",
   "id": "a1980721",
   "metadata": {},
   "source": [
    "### `+=`"
   ]
  },
  {
   "cell_type": "code",
   "execution_count": null,
   "id": "33fe94ba",
   "metadata": {},
   "outputs": [],
   "source": [
    "profit = 100"
   ]
  },
  {
   "cell_type": "code",
   "execution_count": null,
   "id": "4b9516b8",
   "metadata": {},
   "outputs": [],
   "source": [
    "profit = profit + 10"
   ]
  },
  {
   "cell_type": "code",
   "execution_count": null,
   "id": "52cddc85",
   "metadata": {},
   "outputs": [],
   "source": [
    "profit += 10"
   ]
  },
  {
   "cell_type": "code",
   "execution_count": null,
   "id": "63ebc455",
   "metadata": {},
   "outputs": [],
   "source": [
    "profit"
   ]
  },
  {
   "cell_type": "code",
   "execution_count": null,
   "id": "077e4080",
   "metadata": {},
   "outputs": [],
   "source": [
    "y = 5\n",
    "y *= 2\n",
    "print(y)"
   ]
  },
  {
   "cell_type": "code",
   "execution_count": null,
   "id": "b9a85f56",
   "metadata": {},
   "outputs": [],
   "source": [
    "z = 100\n",
    "z /= 5\n",
    "print(z)"
   ]
  },
  {
   "cell_type": "code",
   "execution_count": null,
   "id": "7dc9968c",
   "metadata": {},
   "outputs": [],
   "source": [
    "a = 76\n",
    "a -= 6\n",
    "a"
   ]
  },
  {
   "cell_type": "markdown",
   "id": "ace6b7ca",
   "metadata": {},
   "source": [
    "### Casting (To)"
   ]
  },
  {
   "cell_type": "code",
   "execution_count": null,
   "id": "eb9967ba",
   "metadata": {},
   "outputs": [],
   "source": [
    "profit = 120"
   ]
  },
  {
   "cell_type": "code",
   "execution_count": null,
   "id": "81735b41",
   "metadata": {},
   "outputs": [],
   "source": [
    "print(f\"${profit}\")"
   ]
  },
  {
   "cell_type": "markdown",
   "id": "a698a5a0",
   "metadata": {},
   "source": [
    "### Casting (From)"
   ]
  },
  {
   "cell_type": "code",
   "execution_count": null,
   "id": "cb1b0b74",
   "metadata": {},
   "outputs": [],
   "source": [
    "%%script false --no-raise-error\n",
    "\n",
    "profit2 = int(\"$120\")\n",
    "profit"
   ]
  },
  {
   "cell_type": "code",
   "execution_count": null,
   "id": "d85c46e4",
   "metadata": {},
   "outputs": [],
   "source": [
    "%%script false --no-raise-error\n",
    "\n",
    "float(\"192.168.1.0\")"
   ]
  },
  {
   "cell_type": "code",
   "execution_count": null,
   "id": "832c6c7d",
   "metadata": {},
   "outputs": [],
   "source": [
    "int(f\"{round(3476261.888)}\")"
   ]
  },
  {
   "cell_type": "markdown",
   "id": "1f4368c2",
   "metadata": {},
   "source": [
    "### Homework"
   ]
  },
  {
   "cell_type": "markdown",
   "id": "32632ba4",
   "metadata": {},
   "source": [
    "<div class='alert alert-info'>\n",
    "  🎒 Google for some other math \"Memes\" and see if you can solve with Python!\n",
    "</div>"
   ]
  },
  {
   "cell_type": "markdown",
   "id": "9df9c6d9",
   "metadata": {},
   "source": [
    "<img width=400 src=\"https://winthropdc.files.wordpress.com/2018/04/facebook_1523114136411.jpg\" />"
   ]
  },
  {
   "cell_type": "code",
   "execution_count": null,
   "id": "a21f9bb6",
   "metadata": {},
   "outputs": [],
   "source": [
    "pair_shoes = 30 / 3\n",
    "print(f\"{pair_shoes = }\")\n",
    "print(f\"{pair_shoes + pair_shoes + pair_shoes = }\")"
   ]
  },
  {
   "cell_type": "code",
   "execution_count": null,
   "id": "fc8587e4",
   "metadata": {},
   "outputs": [],
   "source": [
    "coach_with_whistle = (20 - pair_shoes) / 2\n",
    "print(f\"{coach_with_whistle = }\")\n",
    "print(f\"{pair_shoes + coach_with_whistle + coach_with_whistle = }\")"
   ]
  },
  {
   "cell_type": "code",
   "execution_count": null,
   "id": "942d5ced",
   "metadata": {},
   "outputs": [],
   "source": [
    "pair_whistle = (13 - coach_with_whistle) / 2\n",
    "print(f\"{pair_whistle = }\")\n",
    "print(f\"{coach_with_whistle + pair_whistle + pair_whistle = }\")"
   ]
  },
  {
   "cell_type": "code",
   "execution_count": null,
   "id": "b15cc382",
   "metadata": {},
   "outputs": [],
   "source": [
    "shoe = pair_shoes / 2\n",
    "print(f\"{shoe = }\")"
   ]
  },
  {
   "cell_type": "code",
   "execution_count": null,
   "id": "3639e5de",
   "metadata": {},
   "outputs": [],
   "source": [
    "coach = coach_with_whistle - (pair_whistle/2)\n",
    "print(f\"{coach = }\")"
   ]
  },
  {
   "cell_type": "code",
   "execution_count": null,
   "id": "1d900f70",
   "metadata": {},
   "outputs": [],
   "source": [
    "whistle = pair_whistle / 2\n",
    "print(f\"{whistle = }\")"
   ]
  },
  {
   "cell_type": "code",
   "execution_count": null,
   "id": "dd1da1f6",
   "metadata": {},
   "outputs": [],
   "source": [
    "print(f\"{shoe + coach * whistle = }\")"
   ]
  }
 ],
 "metadata": {
  "kernelspec": {
   "display_name": "Python 3 (ipykernel)",
   "language": "python",
   "name": "python3"
  },
  "language_info": {
   "codemirror_mode": {
    "name": "ipython",
    "version": 3
   },
   "file_extension": ".py",
   "mimetype": "text/x-python",
   "name": "python",
   "nbconvert_exporter": "python",
   "pygments_lexer": "ipython3",
   "version": "3.9.12"
  }
 },
 "nbformat": 4,
 "nbformat_minor": 5
}
