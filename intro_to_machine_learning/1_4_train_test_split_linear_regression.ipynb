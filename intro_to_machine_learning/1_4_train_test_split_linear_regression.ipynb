{
 "cells": [
  {
   "cell_type": "markdown",
   "id": "a6d04f10",
   "metadata": {},
   "source": [
    "# Linear Regression Train/Test Split\n",
    "\n"
   ]
  },
  {
   "cell_type": "code",
   "execution_count": null,
   "id": "0d149dc1",
   "metadata": {},
   "outputs": [],
   "source": [
    "import pandas as pd\n",
    "from sklearn.linear_model import LinearRegression\n",
    "from sklearn.model_selection import train_test_split\n"
   ]
  },
  {
   "cell_type": "code",
   "execution_count": null,
   "id": "17730ca6",
   "metadata": {},
   "outputs": [],
   "source": [
    "# Load the data\n",
    "df = pd.read_csv('https://bit.ly/3cIH97A', delimiter=\",\")\n",
    "df"
   ]
  },
  {
   "cell_type": "markdown",
   "id": "201c6248",
   "metadata": {},
   "source": [
    "Extract the $ X $ and $ Y $ columns from the dataframe."
   ]
  },
  {
   "cell_type": "code",
   "execution_count": null,
   "id": "30c98d98",
   "metadata": {},
   "outputs": [],
   "source": [
    "# Extract input variables (all rows, all columns but last column)\n",
    "X = df.values[:, :-1]\n",
    "\n",
    "# Extract output column (all rows, last column)\n",
    "Y = df.values[:, -1]\n"
   ]
  },
  {
   "cell_type": "markdown",
   "id": "cf69454c",
   "metadata": {},
   "source": [
    "Separate out the training and testing data."
   ]
  },
  {
   "cell_type": "code",
   "execution_count": null,
   "id": "322afb6f",
   "metadata": {},
   "outputs": [],
   "source": [
    "# Separate training and testing data to evaluate performance and reduce overfitting\n",
    "# This leaves a third of the data out for testing\n",
    "# Set a random seed just to make the randomly selected split consistent\n",
    "X_train, X_test, Y_train, Y_test = train_test_split(X, Y, test_size=1.0/3.0, random_state=10)\n"
   ]
  },
  {
   "cell_type": "markdown",
   "id": "a0e09fc8",
   "metadata": {},
   "source": [
    "Fit a linear regression with the training data and calculate the $ R^2 $ for the test dataset. "
   ]
  },
  {
   "cell_type": "code",
   "execution_count": null,
   "id": "07061775",
   "metadata": {},
   "outputs": [],
   "source": [
    "model = LinearRegression()\n",
    "model.fit(X_train, Y_train)\n",
    "result = model.score(X_test, Y_test)\n",
    "print(\"R^2: %.3f\" % result)"
   ]
  },
  {
   "cell_type": "markdown",
   "id": "483967ea",
   "metadata": {},
   "source": [
    "Plot the linear regression against the scatterplot"
   ]
  },
  {
   "cell_type": "code",
   "execution_count": null,
   "id": "2532442c",
   "metadata": {
    "scrolled": true
   },
   "outputs": [],
   "source": [
    "import matplotlib.pyplot as plt\n",
    "\n",
    "# show in chart\n",
    "plt.plot(X, Y, 'o') # scatterplot\n",
    "plt.plot(X, model.coef_.flatten()*X+model.intercept_.flatten()) # line\n",
    "plt.show()"
   ]
  }
 ],
 "metadata": {
  "kernelspec": {
   "display_name": "Python 3 (ipykernel)",
   "language": "python",
   "name": "python3"
  },
  "language_info": {
   "codemirror_mode": {
    "name": "ipython",
    "version": 3
   },
   "file_extension": ".py",
   "mimetype": "text/x-python",
   "name": "python",
   "nbconvert_exporter": "python",
   "pygments_lexer": "ipython3",
   "version": "3.9.7"
  }
 },
 "nbformat": 4,
 "nbformat_minor": 5
}
