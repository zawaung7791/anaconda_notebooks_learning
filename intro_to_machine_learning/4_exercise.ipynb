{
 "cells": [
  {
   "cell_type": "markdown",
   "id": "a6d04f10",
   "metadata": {},
   "source": [
    "# EXERCISE - Decision Trees and Random Forests"
   ]
  },
  {
   "cell_type": "markdown",
   "id": "3d096e1a",
   "metadata": {},
   "source": [
    "In the runnable cell below, replace the question marks \"?\" with the proper Python code to perform a random forest classification on a maintenance part replacement prediction dataset (https://bit.ly/3QHvclX). Use 300 decision trees with a max depth of 10, and a max number of features 3. \n",
    "\n",
    "Use $ 1 / 3 $ of the data for testing and evaluate the prediction performance with a confusion matrix. "
   ]
  },
  {
   "cell_type": "code",
   "execution_count": null,
   "id": "0d149dc1",
   "metadata": {},
   "outputs": [],
   "source": [
    "import pandas as pd\n",
    "from sklearn.metrics import confusion_matrix\n",
    "from sklearn.model_selection import train_test_split\n",
    "from sklearn.tree import DecisionTreeClassifier\n",
    "from sklearn.ensemble import RandomForestClassifier\n",
    "\n",
    "\n",
    "df = pd.read_csv('https://bit.ly/3QHvclX')\n",
    "\n",
    "X = df.values[:, :-1]\n",
    "Y = df.values[:, -1]\n",
    "\n",
    "X_train, X_test, Y_train, Y_test = train_test_split(X, Y, test_size=1.0/3.0, random_state=10)\n",
    "\n",
    "model = RandomForestClassifier(n_estimators=?, max_depth=?, max_features=?, criterion='gini')\n",
    "model.fit(?, ?)\n",
    "\n",
    "\n",
    "results = model.score(?, Y_test)\n",
    "print(results)\n",
    "\n",
    "matrix = confusion_matrix(y_true=?, y_pred=model.predict(?))\n",
    "print(matrix)"
   ]
  },
  {
   "cell_type": "markdown",
   "id": "c41eaed7",
   "metadata": {},
   "source": [
    "### SCROLL DOWN FOR ANSWER\n",
    "|<br>\n",
    "|<br>\n",
    "|<br>\n",
    "|<br>\n",
    "|<br>\n",
    "|<br>\n",
    "|<br>\n",
    "|<br>\n",
    "|<br>\n",
    "|<br>\n",
    "|<br>\n",
    "|<br>\n",
    "|<br>\n",
    "|<br>\n",
    "|<br>\n",
    "|<br>\n",
    "|<br>\n",
    "|<br>\n",
    "|<br>\n",
    "|<br>\n",
    "|<br>\n",
    "|<br>\n",
    "|<br>\n",
    "v \n",
    "\n",
    "```python\n",
    "import pandas as pd\n",
    "from sklearn.metrics import confusion_matrix\n",
    "from sklearn.model_selection import train_test_split\n",
    "from sklearn.tree import DecisionTreeClassifier\n",
    "from sklearn.ensemble import RandomForestClassifier\n",
    "\n",
    "\n",
    "df = pd.read_csv('https://bit.ly/3QHvclX')\n",
    "\n",
    "X = df.values[:, :-1]\n",
    "Y = df.values[:, -1]\n",
    "\n",
    "X_train, X_test, Y_train, Y_test = train_test_split(X, Y, test_size=1.0/3.0, random_state=10)\n",
    "\n",
    "model = RandomForestClassifier(n_estimators=300, max_depth=10, max_features=3, criterion='gini')\n",
    "model.fit(X_train, Y_train)\n",
    "\n",
    "\n",
    "results = model.score(X_test, Y_test)\n",
    "print(results)\n",
    "\n",
    "matrix = confusion_matrix(y_true=Y_test, y_pred=model.predict(X_test))\n",
    "print(matrix)\n",
    "```"
   ]
  }
 ],
 "metadata": {
  "kernelspec": {
   "display_name": "Python 3 (ipykernel)",
   "language": "python",
   "name": "python3"
  },
  "language_info": {
   "codemirror_mode": {
    "name": "ipython",
    "version": 3
   },
   "file_extension": ".py",
   "mimetype": "text/x-python",
   "name": "python",
   "nbconvert_exporter": "python",
   "pygments_lexer": "ipython3",
   "version": "3.9.7"
  }
 },
 "nbformat": 4,
 "nbformat_minor": 5
}
