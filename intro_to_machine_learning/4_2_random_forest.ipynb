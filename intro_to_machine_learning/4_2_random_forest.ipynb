{
 "cells": [
  {
   "cell_type": "markdown",
   "id": "14f7c037",
   "metadata": {},
   "source": [
    "# Random Forest\n",
    "\n",
    "Import dependencies."
   ]
  },
  {
   "cell_type": "code",
   "execution_count": null,
   "id": "799028e9",
   "metadata": {},
   "outputs": [],
   "source": [
    "import pandas as pd\n",
    "from sklearn.ensemble import RandomForestClassifier\n",
    "from sklearn.metrics import confusion_matrix\n",
    "from sklearn.model_selection import train_test_split"
   ]
  },
  {
   "cell_type": "markdown",
   "id": "430883bc",
   "metadata": {},
   "source": [
    "Import good/bad weather data and display in a dataframe."
   ]
  },
  {
   "cell_type": "code",
   "execution_count": null,
   "id": "321ec5a1",
   "metadata": {},
   "outputs": [],
   "source": [
    "df = pd.read_csv('https://bit.ly/3zVspy4')\n",
    "df"
   ]
  },
  {
   "cell_type": "markdown",
   "id": "31e402ae",
   "metadata": {},
   "source": [
    "Separate the input and output data, and set aside $ 1/3 $ of the data for training. "
   ]
  },
  {
   "cell_type": "code",
   "execution_count": null,
   "id": "5738b730",
   "metadata": {},
   "outputs": [],
   "source": [
    "X = df.values[:, :-1]\n",
    "Y = df.values[:, -1]\n",
    "\n",
    "X_train, X_test, Y_train, Y_test = train_test_split(X, Y, test_size=1.0/3.0, random_state=10)\n"
   ]
  },
  {
   "cell_type": "markdown",
   "id": "9687f8bd",
   "metadata": {},
   "source": [
    "Create a random forest classifier model with 300 trees. Limit their depth to 10 nodes and only allow a maximum of 4 features to be used for each tree. "
   ]
  },
  {
   "cell_type": "code",
   "execution_count": null,
   "id": "e9e6b8f3",
   "metadata": {},
   "outputs": [],
   "source": [
    "model = RandomForestClassifier(n_estimators=300, max_depth=10, max_features=4, criterion='gini')\n",
    "model.fit(X_train, Y_train)\n"
   ]
  },
  {
   "cell_type": "markdown",
   "id": "f9dc9e86",
   "metadata": {},
   "source": [
    "Score the accuracy of the decision tree. "
   ]
  },
  {
   "cell_type": "code",
   "execution_count": null,
   "id": "af342c54",
   "metadata": {},
   "outputs": [],
   "source": [
    "results = model.score(X_test, Y_test)\n",
    "print(results)\n"
   ]
  },
  {
   "cell_type": "markdown",
   "id": "317f302a",
   "metadata": {},
   "source": [
    "View the confusion matrix to see the accuracy of true predictions and false predictions. "
   ]
  },
  {
   "cell_type": "code",
   "execution_count": null,
   "id": "1ded585d",
   "metadata": {},
   "outputs": [],
   "source": [
    "matrix = confusion_matrix(y_true=Y_test, y_pred=model.predict(X_test))\n",
    "print(matrix)\n"
   ]
  }
 ],
 "metadata": {
  "kernelspec": {
   "display_name": "Python 3 (ipykernel)",
   "language": "python",
   "name": "python3"
  },
  "language_info": {
   "codemirror_mode": {
    "name": "ipython",
    "version": 3
   },
   "file_extension": ".py",
   "mimetype": "text/x-python",
   "name": "python",
   "nbconvert_exporter": "python",
   "pygments_lexer": "ipython3",
   "version": "3.9.7"
  }
 },
 "nbformat": 4,
 "nbformat_minor": 5
}
