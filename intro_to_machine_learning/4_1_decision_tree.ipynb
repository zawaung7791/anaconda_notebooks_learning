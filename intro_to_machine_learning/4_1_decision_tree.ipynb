{
 "cells": [
  {
   "cell_type": "markdown",
   "id": "d5cba8d4",
   "metadata": {},
   "source": [
    "# Decision Trees\n",
    "\n",
    "Import dependencies."
   ]
  },
  {
   "cell_type": "code",
   "execution_count": null,
   "id": "32cceb26",
   "metadata": {},
   "outputs": [],
   "source": [
    "import pandas as pd\n",
    "import numpy as np \n",
    "\n",
    "from sklearn.metrics import confusion_matrix\n",
    "from sklearn.model_selection import train_test_split\n",
    "from sklearn.tree import DecisionTreeClassifier\n",
    "\n",
    "np.set_printoptions(suppress=True)"
   ]
  },
  {
   "cell_type": "markdown",
   "id": "7f6b0ddb",
   "metadata": {},
   "source": [
    "Import good/bad weather data."
   ]
  },
  {
   "cell_type": "code",
   "execution_count": null,
   "id": "29f37ab9",
   "metadata": {},
   "outputs": [],
   "source": [
    "df = pd.read_csv('https://bit.ly/3zVspy4')\n",
    "df"
   ]
  },
  {
   "cell_type": "markdown",
   "id": "63ae23d3",
   "metadata": {},
   "source": [
    "Separate the input and output variables, and set aside $ 1/3 $ of the data for testing. "
   ]
  },
  {
   "cell_type": "code",
   "execution_count": null,
   "id": "90f1ad16",
   "metadata": {},
   "outputs": [],
   "source": [
    "X = df.values[:, :-1]\n",
    "Y = df.values[:, -1]\n",
    "\n",
    "X_train, X_test, Y_train, Y_test = train_test_split(X, Y, test_size=1.0/3.0, random_state=10)\n"
   ]
  },
  {
   "cell_type": "markdown",
   "id": "7b351c61",
   "metadata": {},
   "source": [
    "Declare the decision tree and fit the training data. "
   ]
  },
  {
   "cell_type": "code",
   "execution_count": null,
   "id": "b4725b68",
   "metadata": {},
   "outputs": [],
   "source": [
    "model = DecisionTreeClassifier(max_depth=10, criterion='gini')\n",
    "model.fit(X_train, Y_train)\n"
   ]
  },
  {
   "cell_type": "markdown",
   "id": "97f7dfd4",
   "metadata": {},
   "source": [
    "Score the accuracy of the model. "
   ]
  },
  {
   "cell_type": "code",
   "execution_count": null,
   "id": "df1fee2e",
   "metadata": {},
   "outputs": [],
   "source": [
    "results = model.score(X_test, Y_test)\n",
    "print(results)\n"
   ]
  },
  {
   "cell_type": "markdown",
   "id": "c6f0ab43",
   "metadata": {},
   "source": [
    "Show the confusion matrix. "
   ]
  },
  {
   "cell_type": "code",
   "execution_count": null,
   "id": "835e178d",
   "metadata": {},
   "outputs": [],
   "source": [
    "matrix = confusion_matrix(y_true=Y_test, y_pred=model.predict(X_test))\n",
    "print(matrix)\n"
   ]
  }
 ],
 "metadata": {
  "kernelspec": {
   "display_name": "Python 3 (ipykernel)",
   "language": "python",
   "name": "python3"
  },
  "language_info": {
   "codemirror_mode": {
    "name": "ipython",
    "version": 3
   },
   "file_extension": ".py",
   "mimetype": "text/x-python",
   "name": "python",
   "nbconvert_exporter": "python",
   "pygments_lexer": "ipython3",
   "version": "3.9.7"
  }
 },
 "nbformat": 4,
 "nbformat_minor": 5
}
