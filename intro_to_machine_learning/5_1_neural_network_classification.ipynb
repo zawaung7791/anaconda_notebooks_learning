{
 "cells": [
  {
   "cell_type": "markdown",
   "id": "fbcf111f",
   "metadata": {},
   "source": [
    "# Neural Networks\n",
    "\n",
    "Import dependencies."
   ]
  },
  {
   "cell_type": "code",
   "execution_count": null,
   "id": "59e4ed99",
   "metadata": {
    "scrolled": true
   },
   "outputs": [],
   "source": [
    "import pandas as pd\n",
    "from sklearn.model_selection import train_test_split\n",
    "from sklearn.neural_network import MLPClassifier\n",
    "from sklearn.metrics import confusion_matrix\n"
   ]
  },
  {
   "cell_type": "markdown",
   "id": "b109689c",
   "metadata": {},
   "source": [
    "Bring in data and present in dataframe."
   ]
  },
  {
   "cell_type": "code",
   "execution_count": null,
   "id": "b2dfae00",
   "metadata": {},
   "outputs": [],
   "source": [
    "df = pd.read_csv('https://bit.ly/3GsNzGt', delimiter=\",\")\n",
    "df\n"
   ]
  },
  {
   "cell_type": "markdown",
   "id": "1dfa3d3a",
   "metadata": {},
   "source": [
    "Extract out input and output variable columns, scale down input variables by 255. Separate training and testing dataset by $ 1/3 $. "
   ]
  },
  {
   "cell_type": "code",
   "execution_count": null,
   "id": "17be5754",
   "metadata": {},
   "outputs": [],
   "source": [
    "\n",
    "# Extract input variables (all rows, all columns but last column)\n",
    "# Note we should do some linear scaling here\n",
    "X = (df.values[:, :-1] / 255.0)\n",
    "\n",
    "# Extract output column (all rows, last column)\n",
    "Y = df.values[:, -1]\n",
    "\n",
    "# Separate training and testing data\n",
    "X_train, X_test, Y_train, Y_test = train_test_split(X, Y, test_size=1/3, random_state=7)\n",
    "\n"
   ]
  },
  {
   "cell_type": "markdown",
   "id": "50530737",
   "metadata": {},
   "source": [
    "Fit a neural network (multi-layer perceptron) classifier with a middle ReLU function, 3 nodes in a hidden layer, 100000 iterations, and a .05 learning rate. Fit the training data to the model. "
   ]
  },
  {
   "cell_type": "code",
   "execution_count": null,
   "id": "0dbb5b6e",
   "metadata": {},
   "outputs": [],
   "source": [
    "\n",
    "nn = MLPClassifier(solver='sgd',\n",
    "                   hidden_layer_sizes=(3, ),\n",
    "                   activation='relu',\n",
    "                   max_iter=100_000,\n",
    "                   learning_rate_init=.05)\n",
    "\n",
    "nn.fit(X_train, Y_train)\n"
   ]
  },
  {
   "cell_type": "markdown",
   "id": "3e4764b6",
   "metadata": {},
   "source": [
    "Print out the coefficients and test score, as well as the confusion matrix. "
   ]
  },
  {
   "cell_type": "code",
   "execution_count": null,
   "id": "43b53768",
   "metadata": {},
   "outputs": [],
   "source": [
    "\n",
    "# Print weights and biases\n",
    "print(nn.coefs_ )\n",
    "print(nn.intercepts_)\n",
    "\n",
    "print(\"Test set score: %f\" % nn.score(X_test, Y_test))\n",
    "\n",
    "cf = confusion_matrix(y_true=Y_test, y_pred=nn.predict(X_test))\n",
    "print(cf)"
   ]
  }
 ],
 "metadata": {
  "kernelspec": {
   "display_name": "Python 3 (ipykernel)",
   "language": "python",
   "name": "python3"
  },
  "language_info": {
   "codemirror_mode": {
    "name": "ipython",
    "version": 3
   },
   "file_extension": ".py",
   "mimetype": "text/x-python",
   "name": "python",
   "nbconvert_exporter": "python",
   "pygments_lexer": "ipython3",
   "version": "3.9.7"
  }
 },
 "nbformat": 4,
 "nbformat_minor": 5
}
