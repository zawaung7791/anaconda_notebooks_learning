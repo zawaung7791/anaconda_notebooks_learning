{
 "cells": [
  {
   "cell_type": "markdown",
   "id": "3234cf43",
   "metadata": {},
   "source": [
    "# Neural Networks on MNIST Dataset\n",
    "\n",
    "Import dependencies."
   ]
  },
  {
   "cell_type": "code",
   "execution_count": null,
   "id": "1a220160",
   "metadata": {
    "scrolled": true
   },
   "outputs": [],
   "source": [
    "import numpy as np\n",
    "import pandas as pd\n",
    "from sklearn.model_selection import train_test_split\n",
    "from sklearn.neural_network import MLPClassifier\n",
    "from sklearn.metrics import confusion_matrix\n"
   ]
  },
  {
   "cell_type": "markdown",
   "id": "f8e1555d",
   "metadata": {},
   "source": [
    "Read MNIST handwritten digits data from Pandas. Note the data is somewhat large so it is stored as a zipped CSV. "
   ]
  },
  {
   "cell_type": "code",
   "execution_count": null,
   "id": "f6b6e7cf",
   "metadata": {},
   "outputs": [],
   "source": [
    "df = pd.read_csv('https://bit.ly/3ilJc2C', compression='zip', delimiter=\",\")\n",
    "df"
   ]
  },
  {
   "cell_type": "markdown",
   "id": "ee434097",
   "metadata": {},
   "source": [
    "Separate the input and output variables. "
   ]
  },
  {
   "cell_type": "code",
   "execution_count": null,
   "id": "82ea38d8",
   "metadata": {},
   "outputs": [],
   "source": [
    "X = df.values[:, :-1] / 255.0\n",
    "Y = df.values[:, -1]\n"
   ]
  },
  {
   "cell_type": "markdown",
   "id": "4266519e",
   "metadata": {},
   "source": [
    "Print out the number of instances of each class. Stratify so that each class is sampled equally. "
   ]
  },
  {
   "cell_type": "code",
   "execution_count": null,
   "id": "25505fa2",
   "metadata": {},
   "outputs": [],
   "source": [
    "\n",
    "# Get a count of each group to ensure samples are equitably balanced\n",
    "print(df.groupby([\"class\"]).agg({\"class\" : [np.size]}))\n",
    "\n",
    "# Separate training and testing data\n",
    "# Note that I use the 'stratify' parameter to ensure\n",
    "# each class is proportionally represented in both sets\n",
    "X_train, X_test, Y_train, Y_test = train_test_split(X, Y,\n",
    "    test_size=.33, random_state=10, stratify=Y)\n"
   ]
  },
  {
   "cell_type": "markdown",
   "id": "d8fbd711",
   "metadata": {},
   "source": [
    "Train a neural network using the logistic function as the hidden layer activation function with 100 nodes. Set a higher learning rate of .01. "
   ]
  },
  {
   "cell_type": "code",
   "execution_count": null,
   "id": "2d401c7b",
   "metadata": {},
   "outputs": [],
   "source": [
    "\n",
    "nn = MLPClassifier(solver='sgd',\n",
    "                   hidden_layer_sizes=(100, ),\n",
    "                   activation='logistic',\n",
    "                   max_iter=480,\n",
    "                   learning_rate_init=.1)\n",
    "\n",
    "nn.fit(X_train, Y_train)\n",
    "\n",
    "print(\"Test set score: %f\" % nn.score(X_test, Y_test))\n",
    "\n",
    "cf = confusion_matrix(y_true=Y_test, y_pred=nn.predict(X_test))\n",
    "print(cf)"
   ]
  },
  {
   "cell_type": "markdown",
   "id": "c0a15920",
   "metadata": {},
   "source": [
    "Display heat map for each digit character weights. "
   ]
  },
  {
   "cell_type": "code",
   "execution_count": null,
   "id": "39e47ab3",
   "metadata": {},
   "outputs": [],
   "source": [
    "# Display heat map\n",
    "import matplotlib.pyplot as plt\n",
    "fig, axes = plt.subplots(4, 4)\n",
    "\n",
    "# use global min / max to ensure all weights are shown on the same scale\n",
    "vmin, vmax = nn.coefs_[0].min(), nn.coefs_[0].max()\n",
    "for coef, ax in zip(nn.coefs_[0].T, axes.ravel()):\n",
    "    ax.matshow(coef.reshape(28, 28), cmap=plt.cm.gray, vmin=.5 * vmin, vmax=.5 * vmax)\n",
    "    ax.set_xticks(())\n",
    "    ax.set_yticks(())"
   ]
  }
 ],
 "metadata": {
  "kernelspec": {
   "display_name": "Python 3 (ipykernel)",
   "language": "python",
   "name": "python3"
  },
  "language_info": {
   "codemirror_mode": {
    "name": "ipython",
    "version": 3
   },
   "file_extension": ".py",
   "mimetype": "text/x-python",
   "name": "python",
   "nbconvert_exporter": "python",
   "pygments_lexer": "ipython3",
   "version": "3.9.7"
  }
 },
 "nbformat": 4,
 "nbformat_minor": 5
}
