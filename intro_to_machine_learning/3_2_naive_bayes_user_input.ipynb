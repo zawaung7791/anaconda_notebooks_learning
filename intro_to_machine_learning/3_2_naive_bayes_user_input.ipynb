{
 "cells": [
  {
   "cell_type": "markdown",
   "id": "f5178e18",
   "metadata": {},
   "source": [
    "# Naive Bayes Spam Email Classifier\n",
    "\n",
    "## with User Test Input \n",
    "\n",
    "Import dependencies"
   ]
  },
  {
   "cell_type": "code",
   "execution_count": null,
   "id": "f15900ff",
   "metadata": {
    "scrolled": true
   },
   "outputs": [],
   "source": [
    "import pandas as pd\n",
    "import numpy as np\n",
    "from sklearn.model_selection import train_test_split\n",
    "from sklearn.feature_extraction.text import CountVectorizer\n",
    "from sklearn.naive_bayes import MultinomialNB\n",
    "\n",
    "np.set_printoptions(suppress=True)"
   ]
  },
  {
   "cell_type": "markdown",
   "id": "fb21b67b",
   "metadata": {},
   "source": [
    "Use this `messsage` variable to create a test message of your choosing. Note that if the entire message contains words the classifier has never seen before, it will be on the fence whether or not it is spam. "
   ]
  },
  {
   "cell_type": "code",
   "execution_count": null,
   "id": "1e0b12ce",
   "metadata": {},
   "outputs": [],
   "source": [
    "message = \"Meet hot singles now\""
   ]
  },
  {
   "cell_type": "markdown",
   "id": "251633b3",
   "metadata": {},
   "source": [
    "Read the training data into a dataframe, but append the test message above so it gets included in the vectorization. We will omit it from trainining afterwards. "
   ]
  },
  {
   "cell_type": "code",
   "execution_count": null,
   "id": "e6495007",
   "metadata": {
    "scrolled": true
   },
   "outputs": [],
   "source": [
    "# read training data, add input to DataFrame\n",
    "df = pd.read_csv('https://bit.ly/3zQBV5y')\n",
    "df.loc[len(df.index)] = [message, 1] # add record\n",
    "df\n"
   ]
  },
  {
   "cell_type": "markdown",
   "id": "512cefc6",
   "metadata": {},
   "source": [
    "Vectorize the training data and the test input together, counting each word occurrence for every email, and break out the `X_all` column containing the input data. "
   ]
  },
  {
   "cell_type": "code",
   "execution_count": null,
   "id": "5a8533b1",
   "metadata": {},
   "outputs": [],
   "source": [
    "# vectorize training data along with user input\n",
    "cv = CountVectorizer()\n",
    "X_all = cv.fit_transform(df['msg'])\n",
    "\n",
    "# Print count vectorizer as a table \n",
    "pd.DataFrame(X_all.toarray(),columns= cv.get_feature_names_out())"
   ]
  },
  {
   "cell_type": "markdown",
   "id": "8340bcbc",
   "metadata": {},
   "source": [
    "Extract the training `X_train` and `Y_train` data, omitting the test record we appended earlier. That will be extracted as the test input as `X_test`. "
   ]
  },
  {
   "cell_type": "code",
   "execution_count": null,
   "id": "56a06f86",
   "metadata": {},
   "outputs": [],
   "source": [
    "# extract the vectorized training data\n",
    "X_train = X_all[:-1,:]\n",
    "Y_train = df[\"spam_ind\"].iloc[:-1]\n",
    "\n",
    "# extract out the test input\n",
    "X_test = X_all[-1:, :]"
   ]
  },
  {
   "cell_type": "markdown",
   "id": "b680ac31",
   "metadata": {},
   "source": [
    "Fit the `MulinomialNB` model to the training data, and predict the probability of being spam for the test email. Note after we predict the probability with `predict_proba()` it will return two values, one for the probability of not being spam and the other for being spam. We want the second value so we extract it. "
   ]
  },
  {
   "cell_type": "code",
   "execution_count": null,
   "id": "1a46a970",
   "metadata": {},
   "outputs": [],
   "source": [
    "# Create multinomial Naive Bayes and train model\n",
    "model = MultinomialNB().fit(X_train, Y_train)\n",
    "\n",
    "# Test the user input for spam\n",
    "probability_of_spam = model.predict_proba(X_test).flatten()[1]\n",
    "print(\"Spam probability: {0}%\".format(probability_of_spam))"
   ]
  }
 ],
 "metadata": {
  "kernelspec": {
   "display_name": "Python 3 (ipykernel)",
   "language": "python",
   "name": "python3"
  },
  "language_info": {
   "codemirror_mode": {
    "name": "ipython",
    "version": 3
   },
   "file_extension": ".py",
   "mimetype": "text/x-python",
   "name": "python",
   "nbconvert_exporter": "python",
   "pygments_lexer": "ipython3",
   "version": "3.9.7"
  }
 },
 "nbformat": 4,
 "nbformat_minor": 5
}
