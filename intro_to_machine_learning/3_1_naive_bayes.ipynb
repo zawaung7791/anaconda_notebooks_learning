{
 "cells": [
  {
   "cell_type": "markdown",
   "id": "f5178e18",
   "metadata": {},
   "source": [
    "# Naive Bayes Spam Email Classifier\n",
    "\n",
    "Import dependencies, turn off scientfic notation."
   ]
  },
  {
   "cell_type": "code",
   "execution_count": null,
   "id": "f15900ff",
   "metadata": {
    "scrolled": true
   },
   "outputs": [],
   "source": [
    "import pandas as pd\n",
    "import numpy as np \n",
    "from sklearn.model_selection import train_test_split\n",
    "from sklearn.feature_extraction.text import CountVectorizer\n",
    "from sklearn.naive_bayes import MultinomialNB\n",
    "from sklearn.metrics import confusion_matrix\n",
    "\n",
    "np.set_printoptions(suppress=True)"
   ]
  },
  {
   "cell_type": "markdown",
   "id": "fb21b67b",
   "metadata": {},
   "source": [
    "Bring in the small email dataset and display it. "
   ]
  },
  {
   "cell_type": "code",
   "execution_count": null,
   "id": "65df9399",
   "metadata": {
    "scrolled": false
   },
   "outputs": [],
   "source": [
    "df = pd.read_csv('https://bit.ly/3zQBV5y')\n",
    "df"
   ]
  },
  {
   "cell_type": "markdown",
   "id": "c2f3c208",
   "metadata": {},
   "source": [
    "Vectorize the message in each email by counting each word occurrence, and break it up into input X and output Y columns. "
   ]
  },
  {
   "cell_type": "code",
   "execution_count": null,
   "id": "db334c31",
   "metadata": {
    "scrolled": false
   },
   "outputs": [],
   "source": [
    "cv = CountVectorizer()\n",
    "X = cv.fit_transform(df['msg'])\n",
    "Y = df['spam_ind']\n",
    "\n",
    "# Print count vectorizer as a table \n",
    "pd.DataFrame(X.toarray(),columns= cv.get_feature_names_out())\n"
   ]
  },
  {
   "cell_type": "markdown",
   "id": "2d4cacd5",
   "metadata": {},
   "source": [
    "Break up the emails into train/test datasets "
   ]
  },
  {
   "cell_type": "code",
   "execution_count": null,
   "id": "84248f2e",
   "metadata": {
    "scrolled": true
   },
   "outputs": [],
   "source": [
    "x_train, x_test, y_train, y_test = train_test_split(X, Y, test_size=1.0/3.0, random_state=7)\n",
    "\n",
    "model = MultinomialNB().fit(x_train, y_train)\n"
   ]
  },
  {
   "cell_type": "markdown",
   "id": "bd08426e",
   "metadata": {},
   "source": [
    "Score the accuracy of the model."
   ]
  },
  {
   "cell_type": "code",
   "execution_count": null,
   "id": "77fc131e",
   "metadata": {
    "scrolled": false
   },
   "outputs": [],
   "source": [
    "result = model.score(x_test,y_test)\n",
    "\n",
    "print(result)"
   ]
  },
  {
   "cell_type": "code",
   "execution_count": null,
   "id": "07e3bf17",
   "metadata": {},
   "outputs": [],
   "source": [
    "confusion_matrix(y_true=y_test, y_pred=model.predict(x_test))"
   ]
  }
 ],
 "metadata": {
  "kernelspec": {
   "display_name": "Python 3 (ipykernel)",
   "language": "python",
   "name": "python3"
  },
  "language_info": {
   "codemirror_mode": {
    "name": "ipython",
    "version": 3
   },
   "file_extension": ".py",
   "mimetype": "text/x-python",
   "name": "python",
   "nbconvert_exporter": "python",
   "pygments_lexer": "ipython3",
   "version": "3.9.7"
  }
 },
 "nbformat": 4,
 "nbformat_minor": 5
}
