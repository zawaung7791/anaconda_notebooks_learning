{
 "cells": [
  {
   "cell_type": "markdown",
   "id": "04a5dfbf",
   "metadata": {},
   "source": [
    "## Confusion Matrix, ROC, and AUC "
   ]
  },
  {
   "cell_type": "markdown",
   "id": "32c04dee",
   "metadata": {},
   "source": [
    "Import Pandas and scikit-learn dependencies, particularly the `LogisticRegression` linear model."
   ]
  },
  {
   "cell_type": "code",
   "execution_count": null,
   "id": "0e5b3e6e",
   "metadata": {},
   "outputs": [],
   "source": [
    "import pandas as pd\n",
    "import numpy as np \n",
    "from sklearn.linear_model import LogisticRegression\n",
    "from sklearn.metrics import confusion_matrix\n",
    "from sklearn.model_selection import train_test_split"
   ]
  },
  {
   "cell_type": "markdown",
   "id": "5bec5246",
   "metadata": {},
   "source": [
    "Read and display the five columns of data, and save to a `df` variable. This dataset contains weather measurments across four independent variables, and an output variable indicating whether this is good weather (1) or not (0). "
   ]
  },
  {
   "cell_type": "code",
   "execution_count": null,
   "id": "fb1be73a",
   "metadata": {},
   "outputs": [],
   "source": [
    "df = pd.read_csv('https://bit.ly/3SMHvPa', delimiter=\",\")\n",
    "df"
   ]
  },
  {
   "cell_type": "markdown",
   "id": "5f710efc",
   "metadata": {},
   "source": [
    "Extract the independent `X` variables and dependent `Y` variable as two separate columns. "
   ]
  },
  {
   "cell_type": "code",
   "execution_count": null,
   "id": "e7413e5e",
   "metadata": {},
   "outputs": [],
   "source": [
    "X = df.values[:, :-1]\n",
    "Y = df.values[:, -1]"
   ]
  },
  {
   "cell_type": "markdown",
   "id": "afcb0105",
   "metadata": {},
   "source": [
    "Split up the training and testing dataset so we leave out $ 1/3 $ of the data for testing. Then create the `LogisticRegression` model and train it with the `X_train` and `Y_train` data. Then extract the predictions for the test dataset. "
   ]
  },
  {
   "cell_type": "code",
   "execution_count": null,
   "id": "195a0f06",
   "metadata": {
    "scrolled": true
   },
   "outputs": [],
   "source": [
    "X_train, X_test, Y_train, Y_test = train_test_split(X, Y, test_size=.33, random_state=10)\n",
    "\n",
    "model = LogisticRegression(penalty='none')\n",
    "model.fit(X_train, Y_train)\n",
    "\n",
    "prediction = model.predict(X_test)"
   ]
  },
  {
   "cell_type": "markdown",
   "id": "f619acf7",
   "metadata": {},
   "source": [
    "Finally, let's evaluate the test dataset predictions in a confusion matrix. We want the diagonal values from top-right to bottom-left to be as high as possible. The other values ideally should be 0, which would indicate perfect performance. "
   ]
  },
  {
   "cell_type": "code",
   "execution_count": null,
   "id": "62a36921",
   "metadata": {},
   "outputs": [],
   "source": [
    "'''\n",
    "[[truepositives falsenegatives]\n",
    " [falsepositives truenegatives]]\n",
    " '''\n",
    "matrix = confusion_matrix(y_true=Y_test, y_pred=prediction, normalize=None)\n",
    "print(matrix)"
   ]
  },
  {
   "cell_type": "markdown",
   "id": "4d7cc8c7",
   "metadata": {},
   "source": [
    "Sure enough, this test dataset does really well and identified all positive and negative cases correctly. If we needed to consolidate perforamcne to a single number to compare to other models, we can use the ROC/AUC for that. This should give us a value of 1.0. "
   ]
  },
  {
   "cell_type": "code",
   "execution_count": null,
   "id": "3ecca17a",
   "metadata": {},
   "outputs": [],
   "source": [
    "from sklearn.metrics import roc_auc_score \n",
    "results = roc_auc_score(prediction, Y_test)\n",
    "print(\"AUC: %.3f\" % results)"
   ]
  }
 ],
 "metadata": {
  "kernelspec": {
   "display_name": "Python 3 (ipykernel)",
   "language": "python",
   "name": "python3"
  },
  "language_info": {
   "codemirror_mode": {
    "name": "ipython",
    "version": 3
   },
   "file_extension": ".py",
   "mimetype": "text/x-python",
   "name": "python",
   "nbconvert_exporter": "python",
   "pygments_lexer": "ipython3",
   "version": "3.9.7"
  }
 },
 "nbformat": 4,
 "nbformat_minor": 5
}
