{
 "cells": [
  {
   "cell_type": "markdown",
   "id": "04a5dfbf",
   "metadata": {},
   "source": [
    "## Multiple Logistic Regression"
   ]
  },
  {
   "cell_type": "markdown",
   "id": "32c04dee",
   "metadata": {},
   "source": [
    "Import Pandas and scikit-learn dependencies, particularly the `LogisticRegression` linear model."
   ]
  },
  {
   "cell_type": "code",
   "execution_count": null,
   "id": "0e5b3e6e",
   "metadata": {},
   "outputs": [],
   "source": [
    "import pandas as pd\n",
    "import numpy as np \n",
    "from sklearn.linear_model import LogisticRegression"
   ]
  },
  {
   "cell_type": "markdown",
   "id": "5bec5246",
   "metadata": {},
   "source": [
    "Read and display the five columns of data, and save to a `df` variable. "
   ]
  },
  {
   "cell_type": "code",
   "execution_count": null,
   "id": "fb1be73a",
   "metadata": {},
   "outputs": [],
   "source": [
    "df = pd.read_csv('https://bit.ly/3SMHvPa', delimiter=\",\")\n",
    "df"
   ]
  },
  {
   "cell_type": "markdown",
   "id": "5f710efc",
   "metadata": {},
   "source": [
    "Extract the independent `X` variables and dependent `Y` variable as two separate datasets. "
   ]
  },
  {
   "cell_type": "code",
   "execution_count": null,
   "id": "e7413e5e",
   "metadata": {},
   "outputs": [],
   "source": [
    "X = df.values[:, :-1]\n",
    "Y = df.values[:, -1]"
   ]
  },
  {
   "cell_type": "markdown",
   "id": "afcb0105",
   "metadata": {},
   "source": [
    "Create the `LogisticRegression` model and train it with the `X` and `Y` data. To keep things simple, be sure to set `penalty` to `none` to maximize fitting. "
   ]
  },
  {
   "cell_type": "code",
   "execution_count": null,
   "id": "195a0f06",
   "metadata": {},
   "outputs": [],
   "source": [
    "model = LogisticRegression(penalty='none')\n",
    "model.fit(X, Y) "
   ]
  },
  {
   "cell_type": "markdown",
   "id": "dc396dba",
   "metadata": {},
   "source": [
    "Print the coefficient values.  "
   ]
  },
  {
   "cell_type": "code",
   "execution_count": null,
   "id": "5d3387ec",
   "metadata": {
    "scrolled": false
   },
   "outputs": [],
   "source": [
    "bx = model.coef_\n",
    "b0 = model.intercept_\n",
    "print(b0, bx)"
   ]
  },
  {
   "cell_type": "code",
   "execution_count": null,
   "id": "f0e13098",
   "metadata": {},
   "outputs": [],
   "source": [
    "# Make a prediction on whether an observation is good weather\n",
    "# rain, lightning, cloudy, temperature\n",
    "prediction = model.predict_proba([[0, 0, 1, 76]])\n",
    "print(\"GOOD WEATHER PREDICTION: \", prediction)"
   ]
  }
 ],
 "metadata": {
  "kernelspec": {
   "display_name": "Python 3 (ipykernel)",
   "language": "python",
   "name": "python3"
  },
  "language_info": {
   "codemirror_mode": {
    "name": "ipython",
    "version": 3
   },
   "file_extension": ".py",
   "mimetype": "text/x-python",
   "name": "python",
   "nbconvert_exporter": "python",
   "pygments_lexer": "ipython3",
   "version": "3.9.7"
  }
 },
 "nbformat": 4,
 "nbformat_minor": 5
}
