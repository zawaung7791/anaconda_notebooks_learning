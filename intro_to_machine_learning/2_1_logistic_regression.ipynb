{
 "cells": [
  {
   "cell_type": "markdown",
   "id": "04a5dfbf",
   "metadata": {},
   "source": [
    "## Simple Logistic Regression"
   ]
  },
  {
   "cell_type": "markdown",
   "id": "32c04dee",
   "metadata": {},
   "source": [
    "Import Pandas and scikit-learn dependencies, particularly the `LogisticRegression` linear model."
   ]
  },
  {
   "cell_type": "code",
   "execution_count": null,
   "id": "0e5b3e6e",
   "metadata": {},
   "outputs": [],
   "source": [
    "import pandas as pd\n",
    "import numpy as np \n",
    "from sklearn.linear_model import LogisticRegression"
   ]
  },
  {
   "cell_type": "markdown",
   "id": "5bec5246",
   "metadata": {},
   "source": [
    "Read and display the two columns of data, and save to a `df` variable. "
   ]
  },
  {
   "cell_type": "code",
   "execution_count": null,
   "id": "fb1be73a",
   "metadata": {},
   "outputs": [],
   "source": [
    "df = pd.read_csv('https://bit.ly/33ebs2R', delimiter=\",\")\n",
    "df"
   ]
  },
  {
   "cell_type": "markdown",
   "id": "5f710efc",
   "metadata": {},
   "source": [
    "Extract the independent `X` variables and dependent `Y` variables as two separate columns. "
   ]
  },
  {
   "cell_type": "code",
   "execution_count": null,
   "id": "e7413e5e",
   "metadata": {},
   "outputs": [],
   "source": [
    "X = df.values[:, :-1]\n",
    "Y = df.values[:, -1]"
   ]
  },
  {
   "cell_type": "markdown",
   "id": "e7a2beea",
   "metadata": {},
   "source": [
    "Plot the data with `matplotlib`. "
   ]
  },
  {
   "cell_type": "code",
   "execution_count": null,
   "id": "c720de27",
   "metadata": {
    "scrolled": false
   },
   "outputs": [],
   "source": [
    "import matplotlib.pyplot as plt\n",
    "\n",
    "# show in chart\n",
    "plt.plot(X, Y, 'o') # scatterplot\n",
    "plt.show()"
   ]
  },
  {
   "cell_type": "markdown",
   "id": "afcb0105",
   "metadata": {},
   "source": [
    "Create the `LogisticRegression` model and train it with the `X` and `Y` data. To keep things simple, be sure to set `penalty` to `none` to maximize fitting. "
   ]
  },
  {
   "cell_type": "code",
   "execution_count": null,
   "id": "195a0f06",
   "metadata": {},
   "outputs": [],
   "source": [
    "model = LogisticRegression(penalty='none')\n",
    "model.fit(X, Y) "
   ]
  },
  {
   "cell_type": "markdown",
   "id": "dc396dba",
   "metadata": {},
   "source": [
    "Print the coefficient values of $ \\beta_0 $ and $ \\beta_1 $.  "
   ]
  },
  {
   "cell_type": "code",
   "execution_count": null,
   "id": "5d3387ec",
   "metadata": {
    "scrolled": false
   },
   "outputs": [],
   "source": [
    "b1 = model.coef_.flatten()[0]\n",
    "b0 = model.intercept_.flatten()[0]\n",
    "print(b0, b1)"
   ]
  },
  {
   "cell_type": "markdown",
   "id": "d77fb79c",
   "metadata": {},
   "source": [
    "Finally, let's plot the logistic regression."
   ]
  },
  {
   "cell_type": "code",
   "execution_count": null,
   "id": "5ae5bb09",
   "metadata": {},
   "outputs": [],
   "source": [
    "plt.plot(X, 1.0 / (1.0 + np.exp(-(b0 + b1*X)))) # curve\n",
    "plt.plot(X, Y, 'o') # scatterplot\n",
    "plt.show()"
   ]
  }
 ],
 "metadata": {
  "kernelspec": {
   "display_name": "Python 3 (ipykernel)",
   "language": "python",
   "name": "python3"
  },
  "language_info": {
   "codemirror_mode": {
    "name": "ipython",
    "version": 3
   },
   "file_extension": ".py",
   "mimetype": "text/x-python",
   "name": "python",
   "nbconvert_exporter": "python",
   "pygments_lexer": "ipython3",
   "version": "3.9.7"
  }
 },
 "nbformat": 4,
 "nbformat_minor": 5
}
