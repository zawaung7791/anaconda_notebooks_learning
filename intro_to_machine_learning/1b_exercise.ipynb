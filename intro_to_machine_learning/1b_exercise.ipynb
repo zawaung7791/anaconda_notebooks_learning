{
 "cells": [
  {
   "cell_type": "markdown",
   "id": "a6d04f10",
   "metadata": {},
   "source": [
    "# EXERCISE - Linear Regression"
   ]
  },
  {
   "cell_type": "markdown",
   "id": "3d096e1a",
   "metadata": {},
   "source": [
    "In the runnable cells below, replace the question marks \"?\" with the proper Python code to perform a linear regression with $ 1 / 3 $ of the data used for testing. "
   ]
  },
  {
   "cell_type": "code",
   "execution_count": null,
   "id": "0d149dc1",
   "metadata": {},
   "outputs": [],
   "source": [
    "import pandas as pd\n",
    "from sklearn.linear_model import LinearRegression\n",
    "from sklearn.model_selection import train_test_split\n",
    "\n",
    "# Load the data\n",
    "df = pd.read_csv('https://bit.ly/3pBKSuN', delimiter=\",\")\n",
    "\n",
    "# Extract input variables (all rows, all columns but last column)\n",
    "X = df.values[:, :-1]\n",
    "\n",
    "# Extract output column (all rows, last column)\n",
    "Y = df.values[:, -1]\n",
    "\n",
    "# Separate training and testing data to evaluate performance and reduce overfitting\n",
    "X_train, X_test, Y_train, Y_test = train_test_split(?, ?, test_size=?, random_state=10)\n",
    "\n",
    "# Train the model \n",
    "model = LinearRegression()\n",
    "model.fit(?, ?)\n",
    "result = model.score(?, ?)\n",
    "\n",
    "# Print the Score \n",
    "print(\"R^2: %.3f\" % result)"
   ]
  },
  {
   "cell_type": "markdown",
   "id": "c41eaed7",
   "metadata": {},
   "source": [
    "### SCROLL DOWN FOR ANSWER\n",
    "|<br>\n",
    "|<br>\n",
    "|<br>\n",
    "|<br>\n",
    "|<br>\n",
    "|<br>\n",
    "|<br>\n",
    "|<br>\n",
    "|<br>\n",
    "|<br>\n",
    "|<br>\n",
    "|<br>\n",
    "|<br>\n",
    "|<br>\n",
    "|<br>\n",
    "|<br>\n",
    "|<br>\n",
    "|<br>\n",
    "|<br>\n",
    "|<br>\n",
    "|<br>\n",
    "|<br>\n",
    "|<br>\n",
    "v \n",
    "\n",
    "```python\n",
    "import pandas as pd\n",
    "from sklearn.linear_model import LinearRegression\n",
    "from sklearn.model_selection import train_test_split\n",
    "\n",
    "# Load the data\n",
    "df = pd.read_csv('https://bit.ly/3pBKSuN', delimiter=\",\")\n",
    "\n",
    "# Extract input variables (all rows, all columns but last column)\n",
    "X = df.values[:, :-1]\n",
    "\n",
    "# Extract output column (all rows, last column)\n",
    "Y = df.values[:, -1]\n",
    "\n",
    "# Separate training and testing data to evaluate performance and reduce overfitting\n",
    "X_train, X_test, Y_train, Y_test = train_test_split(X, Y, test_size=1.0/3.0, random_state=10)\n",
    "\n",
    "# Train the model \n",
    "model = LinearRegression()\n",
    "model.fit(X_train, Y_train)\n",
    "result = model.score(X_test, Y_test)\n",
    "\n",
    "# Print the Score \n",
    "print(\"R^2: %.3f\" % result)\n",
    "# R^2: 0.182\n",
    "```"
   ]
  }
 ],
 "metadata": {
  "kernelspec": {
   "display_name": "Python 3 (ipykernel)",
   "language": "python",
   "name": "python3"
  },
  "language_info": {
   "codemirror_mode": {
    "name": "ipython",
    "version": 3
   },
   "file_extension": ".py",
   "mimetype": "text/x-python",
   "name": "python",
   "nbconvert_exporter": "python",
   "pygments_lexer": "ipython3",
   "version": "3.9.7"
  }
 },
 "nbformat": 4,
 "nbformat_minor": 5
}
