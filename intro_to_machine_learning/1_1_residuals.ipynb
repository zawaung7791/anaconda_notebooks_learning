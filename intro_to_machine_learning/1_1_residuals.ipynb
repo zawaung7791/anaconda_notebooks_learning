{
 "cells": [
  {
   "cell_type": "markdown",
   "id": "04a5dfbf",
   "metadata": {},
   "source": [
    "## Calculating Residuals"
   ]
  },
  {
   "cell_type": "markdown",
   "id": "5bec5246",
   "metadata": {},
   "source": [
    "Declare 3 data points as training data"
   ]
  },
  {
   "cell_type": "code",
   "execution_count": null,
   "id": "fb1be73a",
   "metadata": {},
   "outputs": [],
   "source": [
    "x_data = [ 1.0, 2.0, 3.0 ]\n",
    "y_actuals = [ 1.2, 1.25, 2.0 ]"
   ]
  },
  {
   "cell_type": "markdown",
   "id": "5f710efc",
   "metadata": {},
   "source": [
    "Declare slope and intercept coefficients"
   ]
  },
  {
   "cell_type": "code",
   "execution_count": null,
   "id": "e7413e5e",
   "metadata": {},
   "outputs": [],
   "source": [
    "m = .368421\n",
    "b = .587719"
   ]
  },
  {
   "cell_type": "markdown",
   "id": "e7a2beea",
   "metadata": {},
   "source": [
    "Plot the scatterplot with the line"
   ]
  },
  {
   "cell_type": "code",
   "execution_count": null,
   "id": "c720de27",
   "metadata": {
    "scrolled": true
   },
   "outputs": [],
   "source": [
    "import matplotlib.pyplot as plt\n",
    "\n",
    "# show in chart\n",
    "plt.plot(x_data, y_actuals, 'o') # scatterplot\n",
    "plt.plot(x_data, [m*x+b for x in x_data]) # line\n",
    "plt.show()"
   ]
  },
  {
   "cell_type": "markdown",
   "id": "afcb0105",
   "metadata": {},
   "source": [
    "Calculate predicted y-values"
   ]
  },
  {
   "cell_type": "code",
   "execution_count": null,
   "id": "195a0f06",
   "metadata": {},
   "outputs": [],
   "source": [
    "y_predicts = [ m*x + b for x in x_data ] "
   ]
  },
  {
   "cell_type": "markdown",
   "id": "dc396dba",
   "metadata": {},
   "source": [
    "Print residuals"
   ]
  },
  {
   "cell_type": "code",
   "execution_count": null,
   "id": "5d3387ec",
   "metadata": {
    "scrolled": true
   },
   "outputs": [],
   "source": [
    "for (y_actual, y_predict) in zip(y_actuals, y_predicts): \n",
    "    residual = y_actual - y_predict\n",
    "    print(\"RESIDUAL: \", residual)"
   ]
  }
 ],
 "metadata": {
  "kernelspec": {
   "display_name": "Python 3 (ipykernel)",
   "language": "python",
   "name": "python3"
  },
  "language_info": {
   "codemirror_mode": {
    "name": "ipython",
    "version": 3
   },
   "file_extension": ".py",
   "mimetype": "text/x-python",
   "name": "python",
   "nbconvert_exporter": "python",
   "pygments_lexer": "ipython3",
   "version": "3.9.7"
  }
 },
 "nbformat": 4,
 "nbformat_minor": 5
}
