{
 "cells": [
  {
   "cell_type": "markdown",
   "id": "a6d04f10",
   "metadata": {},
   "source": [
    "# EXERCISE - Naive Bayes"
   ]
  },
  {
   "cell_type": "markdown",
   "id": "3d096e1a",
   "metadata": {},
   "source": [
    "In the runnable cell below, replace the question marks \"?\" with the proper Python code to perform a Naive Bayes classification on a banking transaction dataset (https://bit.ly/3QJhJd4).\n",
    "\n",
    "Use $ 1 / 4 $ of the data for testing and evaluate the prediction performance with a confusion matrix. "
   ]
  },
  {
   "cell_type": "code",
   "execution_count": null,
   "id": "0d149dc1",
   "metadata": {},
   "outputs": [],
   "source": [
    "import pandas as pd\n",
    "from sklearn.model_selection import train_test_split\n",
    "from sklearn.feature_extraction.text import CountVectorizer\n",
    "from sklearn.naive_bayes import MultinomialNB\n",
    "from sklearn.metrics import confusion_matrix\n",
    "\n",
    "df = pd.read_csv('https://bit.ly/3QJhJd4')\n",
    "\n",
    "cv = ?\n",
    "X = cv.fit_transform(df['MEMO'])\n",
    "Y = df['CATEGORY']\n",
    "\n",
    "x_train, x_test, y_train, y_test = train_test_split(?, ?, test_size=?, random_state=7)\n",
    "\n",
    "model = MultinomialNB().fit(?, ?)\n",
    "\n",
    "result = model.score(x_test,?)\n",
    "\n",
    "print(result)\n",
    "\n",
    "confusion_matrix(y_true=?, y_pred=model.predict(x_test))"
   ]
  },
  {
   "cell_type": "markdown",
   "id": "c41eaed7",
   "metadata": {},
   "source": [
    "### SCROLL DOWN FOR ANSWER\n",
    "|<br>\n",
    "|<br>\n",
    "|<br>\n",
    "|<br>\n",
    "|<br>\n",
    "|<br>\n",
    "|<br>\n",
    "|<br>\n",
    "|<br>\n",
    "|<br>\n",
    "|<br>\n",
    "|<br>\n",
    "|<br>\n",
    "|<br>\n",
    "|<br>\n",
    "|<br>\n",
    "|<br>\n",
    "|<br>\n",
    "|<br>\n",
    "|<br>\n",
    "|<br>\n",
    "|<br>\n",
    "|<br>\n",
    "v \n",
    "\n",
    "```python\n",
    "import pandas as pd\n",
    "from sklearn.model_selection import train_test_split\n",
    "from sklearn.feature_extraction.text import CountVectorizer\n",
    "from sklearn.naive_bayes import MultinomialNB\n",
    "from sklearn.metrics import confusion_matrix\n",
    "\n",
    "df = pd.read_csv('https://bit.ly/3QJhJd4')\n",
    "\n",
    "cv = CountVectorizer()\n",
    "X = cv.fit_transform(df['MEMO'])\n",
    "Y = df['CATEGORY']\n",
    "\n",
    "x_train, x_test, y_train, y_test = train_test_split(X, Y, test_size=1.0/4.0, random_state=7)\n",
    "\n",
    "model = MultinomialNB().fit(x_train, y_train)\n",
    "\n",
    "result = model.score(x_test,y_test)\n",
    "\n",
    "print(result)\n",
    "\n",
    "confusion_matrix(y_true=y_test, y_pred=model.predict(x_test))\n",
    "```"
   ]
  }
 ],
 "metadata": {
  "kernelspec": {
   "display_name": "Python 3 (ipykernel)",
   "language": "python",
   "name": "python3"
  },
  "language_info": {
   "codemirror_mode": {
    "name": "ipython",
    "version": 3
   },
   "file_extension": ".py",
   "mimetype": "text/x-python",
   "name": "python",
   "nbconvert_exporter": "python",
   "pygments_lexer": "ipython3",
   "version": "3.9.7"
  }
 },
 "nbformat": 4,
 "nbformat_minor": 5
}
