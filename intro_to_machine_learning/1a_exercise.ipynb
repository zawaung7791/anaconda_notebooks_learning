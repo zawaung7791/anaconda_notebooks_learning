{
 "cells": [
  {
   "cell_type": "markdown",
   "id": "04a5dfbf",
   "metadata": {},
   "source": [
    "## EXERCISE - Sum of Squares"
   ]
  },
  {
   "cell_type": "markdown",
   "id": "5bec5246",
   "metadata": {},
   "source": [
    "In the Python code below, replace the question marks \"?\" with the proper code to calculate the sum of squares for the given dataset. "
   ]
  },
  {
   "cell_type": "code",
   "execution_count": 9,
   "id": "fb1be73a",
   "metadata": {},
   "outputs": [
    {
     "name": "stdout",
     "output_type": "stream",
     "text": [
      "SUM OF SQUARES:  [4568.04002146]\n"
     ]
    }
   ],
   "source": [
    "import pandas as pd\n",
    "\n",
    "# import dataframe containing two columns of data\n",
    "df = pd.read_csv('https://bit.ly/3pBKSuN')\n",
    "\n",
    "\n",
    "# declare line with slope and intercept\n",
    "m = 1.86305\n",
    "b = -0.299037\n",
    "\n",
    "# Extract input variables (all rows, all columns but last column)\n",
    "X = df.values[:, :-1]\n",
    "\n",
    "# Extract output column (all rows, last column)\n",
    "Y_actuals = df.values[:, -1]\n",
    "\n",
    "# calculate y_predictions \n",
    "Y_predicts = ?*X + ?\n",
    "\n",
    "sum_of_squares = 0\n",
    "\n",
    "for (y_actual, y_predict) in zip(Y_actuals, Y_predicts): \n",
    "    residual = ? - ?\n",
    "    sum_of_squares += ? ** 2\n",
    "\n",
    "print(\"SUM OF SQUARES: \", sum_of_squares)\n"
   ]
  },
  {
   "cell_type": "markdown",
   "id": "80aeaa1c",
   "metadata": {},
   "source": [
    "### SCROLL DOWN FOR ANSWER\n",
    "|<br>\n",
    "|<br>\n",
    "|<br>\n",
    "|<br>\n",
    "|<br>\n",
    "|<br>\n",
    "|<br>\n",
    "|<br>\n",
    "|<br>\n",
    "|<br>\n",
    "|<br>\n",
    "|<br>\n",
    "|<br>\n",
    "|<br>\n",
    "|<br>\n",
    "|<br>\n",
    "|<br>\n",
    "|<br>\n",
    "|<br>\n",
    "|<br>\n",
    "|<br>\n",
    "|<br>\n",
    "|<br>\n",
    "v \n",
    "\n",
    "```python\n",
    "import pandas as pd\n",
    "\n",
    "# import dataframe containing two columns of data\n",
    "df = pd.read_csv('https://bit.ly/3pBKSuN')\n",
    "\n",
    "\n",
    "# declare line with slope and intercept\n",
    "m = 1.86305\n",
    "b = -0.299037\n",
    "\n",
    "# Extract input variables (all rows, all columns but last column)\n",
    "X = df.values[:, :-1]\n",
    "\n",
    "# Extract output column (all rows, last column)\n",
    "Y_actuals = df.values[:, -1]\n",
    "\n",
    "# calculate y_predictions \n",
    "y_predicts = m*X + b \n",
    "\n",
    "sum_of_squares = 0\n",
    "\n",
    "for (y_actual, y_predict) in zip(Y_actuals, y_predicts): \n",
    "    residual = y_actual - y_predict\n",
    "    sum_of_squares += residual ** 2\n",
    "\n",
    "print(\"SUM OF SQUARES: \", sum_of_squares)\n",
    "# SUM OF SQUARES:  [4568.04002146]\n",
    "```"
   ]
  }
 ],
 "metadata": {
  "kernelspec": {
   "display_name": "Python 3 (ipykernel)",
   "language": "python",
   "name": "python3"
  },
  "language_info": {
   "codemirror_mode": {
    "name": "ipython",
    "version": 3
   },
   "file_extension": ".py",
   "mimetype": "text/x-python",
   "name": "python",
   "nbconvert_exporter": "python",
   "pygments_lexer": "ipython3",
   "version": "3.9.7"
  }
 },
 "nbformat": 4,
 "nbformat_minor": 5
}
