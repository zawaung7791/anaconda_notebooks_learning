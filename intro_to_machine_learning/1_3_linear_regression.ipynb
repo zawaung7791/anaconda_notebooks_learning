{
 "cells": [
  {
   "cell_type": "markdown",
   "id": "4a81d7b3",
   "metadata": {},
   "source": [
    "# Simple Linear Regression\n",
    "\n",
    "Import the following dependencies"
   ]
  },
  {
   "cell_type": "code",
   "execution_count": null,
   "id": "e3f7b3cb",
   "metadata": {},
   "outputs": [],
   "source": [
    "import pandas as pd\n",
    "import matplotlib.pyplot as plt\n",
    "from sklearn.linear_model import LinearRegression\n"
   ]
  },
  {
   "cell_type": "markdown",
   "id": "bf46ef9c",
   "metadata": {},
   "source": [
    "Import the small dataset containing input variable `x` and output variable `y`. "
   ]
  },
  {
   "cell_type": "code",
   "execution_count": null,
   "id": "8ed6c9c6",
   "metadata": {
    "scrolled": true
   },
   "outputs": [],
   "source": [
    "# Import points\n",
    "df = pd.read_csv('https://bit.ly/3goOAnt', delimiter=\",\")\n",
    "df\n"
   ]
  },
  {
   "cell_type": "markdown",
   "id": "0dd40ef2",
   "metadata": {},
   "source": [
    "Extract the two columns. "
   ]
  },
  {
   "cell_type": "code",
   "execution_count": null,
   "id": "45e5d7f2",
   "metadata": {},
   "outputs": [],
   "source": [
    "# Extract input variables (all rows, all columns but last column)\n",
    "X = df.values[:, :-1]\n",
    "\n",
    "# Extract output column (all rows, last column)\n",
    "Y = df.values[:, -1]\n"
   ]
  },
  {
   "cell_type": "markdown",
   "id": "bbd9f781",
   "metadata": {},
   "source": [
    "Fit the `LinearRegression` model and extract the two coefficients. "
   ]
  },
  {
   "cell_type": "code",
   "execution_count": null,
   "id": "bd01c48d",
   "metadata": {},
   "outputs": [],
   "source": [
    "# Fit a line to the points\n",
    "fit = LinearRegression().fit(X, Y)\n",
    "\n",
    "# m = 1.7867224, b = -16.51923513\n",
    "m = fit.coef_.flatten()\n",
    "b = fit.intercept_.flatten()\n",
    "print(\"m = {0}\".format(m))\n",
    "print(\"b = {0}\".format(b))\n"
   ]
  },
  {
   "cell_type": "code",
   "execution_count": null,
   "id": "ac6ad7c6",
   "metadata": {},
   "outputs": [],
   "source": [
    "\n",
    "# show in chart\n",
    "plt.plot(X, Y, 'o') # scatterplot\n",
    "plt.plot(X, m*X+b) # line\n",
    "plt.show()"
   ]
  }
 ],
 "metadata": {
  "kernelspec": {
   "display_name": "Python 3 (ipykernel)",
   "language": "python",
   "name": "python3"
  },
  "language_info": {
   "codemirror_mode": {
    "name": "ipython",
    "version": 3
   },
   "file_extension": ".py",
   "mimetype": "text/x-python",
   "name": "python",
   "nbconvert_exporter": "python",
   "pygments_lexer": "ipython3",
   "version": "3.9.7"
  }
 },
 "nbformat": 4,
 "nbformat_minor": 5
}
