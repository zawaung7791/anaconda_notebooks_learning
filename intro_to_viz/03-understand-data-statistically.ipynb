{
 "cells": [
  {
   "cell_type": "markdown",
   "id": "5f15d0b9",
   "metadata": {},
   "source": [
    "<h1>How to understand data statistically through plotting </h1>\n",
    "<br>\n",
    "Seaborn is another library built on top of matplotlib that integrates closely with pandas dataframes. It’s especially known for its aesthetics and built-in statistical features in plots. \n",
    "\n",
    "<p class=\"lead\"> \n",
    "Table of Contents: \n",
    "\n",
    "- <a href=\"#Why-do-we-use-seaborn?\">Why do we use seaborn?</a>\n",
    "- <a href=\"#Seaborn-plotting-syntax\">Seaborn plotting syntax</a>    \n",
    "- <a href=\"#Create-statistical-plots\">Create statistical plots</a>\n",
    "- <a href=\"#Visualizing-multiple-relationships\">Visualizing multiple relationships</a>\n",
    "\n",
    "    \n",
    "</p>\n",
    "\n",
    "\n",
    "\n"
   ]
  },
  {
   "cell_type": "markdown",
   "id": "449a5171",
   "metadata": {},
   "source": [
    "<div>\n",
    "<h2 class=\"breadcrumb\">Why do we use seaborn?</h2><p>\n",
    "</div>\n",
    "\n",
    "> Seaborn is a Python data visualization library based on matplotlib. It provides a high-level interface for drawing attractive and informative statistical graphics. (seaborn.pydata.org)\n",
    "\n",
    "- The syntax is simple and easy to use. \n",
    "- Seaborn provides out-of-box nice looking plots. Check out the [example gallery](https://seaborn.pydata.org/examples/index.html) for inspiration. \n",
    "- It's natural to include statistical information in your plots using Seaborn. "
   ]
  },
  {
   "cell_type": "markdown",
   "id": "47dec51d",
   "metadata": {},
   "source": [
    "<div>\n",
    "<h2 class=\"breadcrumb\">Seaborn plotting syntax</h2><p>\n",
    "</div>"
   ]
  },
  {
   "cell_type": "markdown",
   "id": "8710ac9a",
   "metadata": {},
   "source": [
    "Import libraries and data:"
   ]
  },
  {
   "cell_type": "code",
   "execution_count": null,
   "id": "7065cfe2",
   "metadata": {},
   "outputs": [],
   "source": [
    "import seaborn as sns\n",
    "import pandas as pd"
   ]
  },
  {
   "cell_type": "code",
   "execution_count": null,
   "id": "ba7c0e31",
   "metadata": {},
   "outputs": [],
   "source": [
    "df = pd.read_csv('assets/mpg.csv')"
   ]
  },
  {
   "cell_type": "markdown",
   "id": "d0d56c29",
   "metadata": {},
   "source": [
    "<div class=\"alert alert-success\">\n",
    "<h4>Tips</h4>\n",
    "\n",
    "- Use `sns.set_theme()` for default Seaborn theme."
   ]
  },
  {
   "cell_type": "code",
   "execution_count": null,
   "id": "6a11a4ef",
   "metadata": {},
   "outputs": [],
   "source": [
    "sns.set_theme()\n",
    "sns.barplot(x=[1,2,3], y=[1, 3, 2]);"
   ]
  },
  {
   "cell_type": "markdown",
   "id": "63c5d231",
   "metadata": {},
   "source": [
    "## Axes-level functions \n",
    "Axes-level functions plot data onto a single `matplotlib.pyplot.Axes` object."
   ]
  },
  {
   "cell_type": "markdown",
   "id": "8e53dbaf",
   "metadata": {},
   "source": [
    "### Histogram"
   ]
  },
  {
   "cell_type": "code",
   "execution_count": null,
   "id": "f98e57c6",
   "metadata": {},
   "outputs": [],
   "source": [
    "sns.histplot(data=df, x='mpg');"
   ]
  },
  {
   "cell_type": "code",
   "execution_count": null,
   "id": "b8841e59",
   "metadata": {},
   "outputs": [],
   "source": [
    "sns.histplot(data=df, x='mpg', kde=True);"
   ]
  },
  {
   "cell_type": "markdown",
   "id": "f4761117",
   "metadata": {},
   "source": [
    "### Scatter plot"
   ]
  },
  {
   "cell_type": "code",
   "execution_count": null,
   "id": "16deca9e",
   "metadata": {},
   "outputs": [],
   "source": [
    "sns.scatterplot(data=df, x='weight', y='mpg');"
   ]
  },
  {
   "cell_type": "markdown",
   "id": "bffce94d",
   "metadata": {},
   "source": [
    "### Add `hue` to determine the color of plot elements"
   ]
  },
  {
   "cell_type": "code",
   "execution_count": null,
   "id": "0343e2b2",
   "metadata": {},
   "outputs": [],
   "source": [
    "sns.histplot(data=df, x='mpg', kde=True, hue='origin').set(title='distribution of mpg by origin');"
   ]
  },
  {
   "cell_type": "code",
   "execution_count": null,
   "id": "7da95ba5",
   "metadata": {},
   "outputs": [],
   "source": [
    "sns.scatterplot(data=df, x='weight', y='mpg', hue='origin');"
   ]
  },
  {
   "cell_type": "markdown",
   "id": "f7aca212",
   "metadata": {},
   "source": [
    "### Show the counts of observations in each categorical bin using bars.\n",
    "\n"
   ]
  },
  {
   "cell_type": "code",
   "execution_count": null,
   "id": "f988f21b",
   "metadata": {},
   "outputs": [],
   "source": [
    "df.origin.value_counts().plot(kind='bar');"
   ]
  },
  {
   "cell_type": "code",
   "execution_count": null,
   "id": "54b7e127",
   "metadata": {},
   "outputs": [],
   "source": [
    "sns.countplot(data=df, x='origin');"
   ]
  },
  {
   "cell_type": "markdown",
   "id": "4b3d7de5",
   "metadata": {},
   "source": [
    "### Integrate with Matplotlib"
   ]
  },
  {
   "cell_type": "markdown",
   "id": "4d2174b2",
   "metadata": {},
   "source": [
    "> The axes-level functions call matplotlib.pyplot.gca() internally, which hooks into the matplotlib state-machine interface so that they draw their plots on the “currently-active” axes. But they also accept an ax= argument, which integrates with the object-oriented interface and lets you specify exactly where each plot should go:"
   ]
  },
  {
   "cell_type": "code",
   "execution_count": null,
   "id": "ddc03fa8",
   "metadata": {},
   "outputs": [],
   "source": [
    "import matplotlib.pyplot as plt\n",
    "fig, ax = plt.subplots(figsize=(14,5))\n",
    "sns.histplot(data=df, x='mpg', kde=True, hue='origin', ax=ax);\n"
   ]
  },
  {
   "cell_type": "code",
   "execution_count": null,
   "id": "93b2ba6c",
   "metadata": {
    "scrolled": true
   },
   "outputs": [],
   "source": [
    "fig, (ax1, ax2) = plt.subplots(nrows=2, ncols=1, figsize=(14,5))\n",
    "sns.histplot(data=df, x='mpg', kde=True, hue='origin', ax=ax1);\n",
    "sns.scatterplot(data=df, x='weight', y=\"mpg\", hue='origin', ax=ax2);"
   ]
  },
  {
   "cell_type": "markdown",
   "id": "3d00f12e",
   "metadata": {},
   "source": [
    "<div class=\"alert alert-info\">\n",
    "<h4>Exercise</h4>\n",
    "\n",
    "- Load the Penguins dataset from 'assets/penguins.csv' and call it `dfe`.  \n",
    "- Use Seaborn to visualize the distribution of body mass, the relationship between flipper length and body mass, and visualize the differences among species. \n",
    "\n",
    "<details><summary><i><u>(Hint)</u><i></summary><br>\n",
    "Use `hue='species'`.\n",
    "    \n",
    "<details><summary><i><u>(Solution)</u><i></summary><br>\n",
    "    \n",
    "```python\n",
    "dfe = pd.read_csv('assets/penguins.csv')\n",
    "sns.histplot(data=dfe, x='body_mass_g', kde=True, hue='species');\n",
    "sns.scatterplot(data=dfe, x='flipper_length_mm', y=\"body_mass_g\", hue='species');\n",
    "```\n",
    "</details>\n",
    "</details>\n",
    "</div>"
   ]
  },
  {
   "cell_type": "markdown",
   "id": "a8cde3a4",
   "metadata": {},
   "source": [
    "### Figure-level functions"
   ]
  },
  {
   "cell_type": "markdown",
   "id": "7976ee3f",
   "metadata": {},
   "source": [
    "<img id=\"Image1\" src=\"assets/seaborn.jpeg\" align=\"left\"/>"
   ]
  },
  {
   "cell_type": "code",
   "execution_count": null,
   "id": "7c26139c",
   "metadata": {},
   "outputs": [],
   "source": [
    "sns.relplot(data=df, x='weight', y='mpg', kind='scatter');"
   ]
  },
  {
   "cell_type": "code",
   "execution_count": null,
   "id": "422e0784",
   "metadata": {},
   "outputs": [],
   "source": [
    "sns.displot(data=df, x='mpg', kind='kde');"
   ]
  },
  {
   "cell_type": "code",
   "execution_count": null,
   "id": "45a826d9",
   "metadata": {},
   "outputs": [],
   "source": [
    "sns.catplot(data=df, x='origin', y='mpg', kind='violin');"
   ]
  },
  {
   "cell_type": "markdown",
   "id": "eff83fd6",
   "metadata": {},
   "source": [
    "<div class=\"alert alert-info\">\n",
    "<h4>Exercise</h4>\n",
    "\n",
    "- Explore the Figure-level functions with the Penguins dataset.\n",
    "- Use the Figure-level functions to visualize the distribution of body mass, the relationship between flipper length and body mass, and visualize the differences among species.\n",
    "\n",
    "<details><summary><i><u>(Hint)</u><i></summary><br>\n",
    "Use sns.displot and sns.relplot.\n",
    "    \n",
    "<details><summary><i><u>(Solution)</u><i></summary><br>\n",
    "    \n",
    "```python\n",
    "sns.displot(data=dfe, x='body_mass_g', kind='hist', kde=True, hue='species');\n",
    "sns.relplot(data=dfe, x='flipper_length_mm', y=\"body_mass_g\", kind='scatter', hue='species');\n",
    "```\n",
    "</details>\n",
    "</details>    \n",
    "</div>"
   ]
  },
  {
   "cell_type": "markdown",
   "id": "846b87c9",
   "metadata": {},
   "source": [
    "<div>\n",
    "<h2 class=\"breadcrumb\">Create statistical plots</h2><p>\n",
    "</div>"
   ]
  },
  {
   "cell_type": "markdown",
   "id": "e36ed6d9",
   "metadata": {},
   "source": [
    "### Plotting the confidence interval or standard deviation around the mean\n",
    "\n",
    "- Default: plot 95% CI. \n",
    "> The default behavior in Seaborn is to aggregate the multiple measurements at each x value by plotting the mean and the 95% confidence interval around the mean.\n",
    "\n",
    "\n",
    "- Define `ci='sd'`\n",
    "> Another good option, especially with larger data, is to represent the spread of the distribution at each timepoint by plotting the standard deviation instead of a confidence interval:"
   ]
  },
  {
   "cell_type": "code",
   "execution_count": null,
   "id": "fbb57e19",
   "metadata": {},
   "outputs": [],
   "source": [
    "sns.relplot(data=df, x='cylinders', y='mpg', kind='line', ci='sd');"
   ]
  },
  {
   "cell_type": "markdown",
   "id": "16fffff2",
   "metadata": {},
   "source": [
    "### Draw linear regression models"
   ]
  },
  {
   "cell_type": "code",
   "execution_count": null,
   "id": "3fc337db",
   "metadata": {},
   "outputs": [],
   "source": [
    "sns.lmplot(data=df, x='weight', y='mpg');"
   ]
  },
  {
   "cell_type": "markdown",
   "id": "6312a5bd",
   "metadata": {},
   "source": [
    "Specify hue and markers for origin:"
   ]
  },
  {
   "cell_type": "code",
   "execution_count": null,
   "id": "81fb8838",
   "metadata": {},
   "outputs": [],
   "source": [
    "sns.lmplot(data=df, x=\"weight\", y=\"mpg\", hue=\"origin\", markers=['o','x','+']);"
   ]
  },
  {
   "cell_type": "markdown",
   "id": "010a6955",
   "metadata": {},
   "source": [
    "Separate plot by origin in three columns:"
   ]
  },
  {
   "cell_type": "code",
   "execution_count": null,
   "id": "5a61ff9f",
   "metadata": {},
   "outputs": [],
   "source": [
    "sns.lmplot(data=df, x=\"weight\", y=\"mpg\", row=\"origin\");"
   ]
  },
  {
   "cell_type": "markdown",
   "id": "50ba9fe4",
   "metadata": {},
   "source": [
    "<div class=\"alert alert-info\">\n",
    "<h4>Exercise</h4>\n",
    "\n",
    "- Plot the relationship between flipper length and body mass, visualize the differences among species, and draw regression lines in those plots. \n",
    "\n",
    "<details><summary><i><u>(Hint)</u><i></summary><br>\n",
    "Use sns.lmplot    \n",
    "<details><summary><i><u>(Solution)</u><i></summary><br>\n",
    "    \n",
    "```python\n",
    "sns.lmplot(data=dfe, x='flipper_length_mm', y=\"body_mass_g\");\n",
    "sns.lmplot(data=dfe, x='flipper_length_mm', y=\"body_mass_g\", hue='species');\n",
    "```\n",
    "</details>\n",
    "</details>\n",
    "</div>"
   ]
  },
  {
   "cell_type": "markdown",
   "id": "826b50ff",
   "metadata": {},
   "source": [
    "<div>\n",
    "<h2 class=\"breadcrumb\">Visualizing multiple relationships</h2><p>\n",
    "</div>\n",
    "\n",
    ">  `jointplot()` and `pairplot()` employ multiple kinds of plots from different modules to represent multiple aspects of a dataset in a single figure."
   ]
  },
  {
   "cell_type": "markdown",
   "id": "c5d66f1f",
   "metadata": {},
   "source": [
    "> jointplot() focuses on a single relationship:"
   ]
  },
  {
   "cell_type": "code",
   "execution_count": null,
   "id": "13c2a1bd",
   "metadata": {},
   "outputs": [],
   "source": [
    "sns.jointplot(data=df, x=\"weight\", y=\"mpg\", kind=\"reg\");"
   ]
  },
  {
   "cell_type": "code",
   "execution_count": null,
   "id": "b3869eee",
   "metadata": {},
   "outputs": [],
   "source": [
    "sns.jointplot(data=df, x=\"weight\", y=\"mpg\", hue='origin');"
   ]
  },
  {
   "cell_type": "markdown",
   "id": "da539bc4",
   "metadata": {},
   "source": [
    "> pairplot() visualizes every pairwise combination of variables simultaneously:"
   ]
  },
  {
   "cell_type": "code",
   "execution_count": null,
   "id": "2b7b819d",
   "metadata": {},
   "outputs": [],
   "source": [
    "sns.pairplot(data=df);"
   ]
  },
  {
   "cell_type": "code",
   "execution_count": null,
   "id": "97041dbc",
   "metadata": {
    "scrolled": true
   },
   "outputs": [],
   "source": [
    "sns.pairplot(data=df, hue=\"origin\");"
   ]
  }
 ],
 "metadata": {
  "kernelspec": {
   "display_name": "Python 3 (ipykernel)",
   "language": "python",
   "name": "python3"
  },
  "language_info": {
   "codemirror_mode": {
    "name": "ipython",
    "version": 3
   },
   "file_extension": ".py",
   "mimetype": "text/x-python",
   "name": "python",
   "nbconvert_exporter": "python",
   "pygments_lexer": "ipython3",
   "version": "3.9.6"
  }
 },
 "nbformat": 4,
 "nbformat_minor": 5
}
